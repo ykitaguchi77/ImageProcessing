{
  "nbformat": 4,
  "nbformat_minor": 0,
  "metadata": {
    "colab": {
      "name": "Untitled62.ipynb",
      "provenance": [],
      "toc_visible": true,
      "authorship_tag": "ABX9TyMmDoCP4qZH2OyCG9bgk85J",
      "include_colab_link": true
    },
    "kernelspec": {
      "name": "python3",
      "display_name": "Python 3"
    }
  },
  "cells": [
    {
      "cell_type": "markdown",
      "metadata": {
        "id": "view-in-github",
        "colab_type": "text"
      },
      "source": [
        "<a href=\"https://colab.research.google.com/github/ykitaguchi77/ImageProcessing/blob/master/Split_dataset_for_crossvalidation_2.ipynb\" target=\"_parent\"><img src=\"https://colab.research.google.com/assets/colab-badge.svg\" alt=\"Open In Colab\"/></a>"
      ]
    },
    {
      "cell_type": "markdown",
      "metadata": {
        "id": "E4luGyEIYT2J",
        "colab_type": "text"
      },
      "source": [
        "#**Split datasets for cross validation\n",
        "データセットを10分割し、そのうち1つをtestセットに、残りの合計をtraining+validationセットに分割するスクリプト\n"
      ]
    },
    {
      "cell_type": "code",
      "metadata": {
        "id": "EiZc9Jl22lIr",
        "colab_type": "code",
        "colab": {
          "base_uri": "https://localhost:8080/",
          "height": 67
        },
        "outputId": "e9640795-36e6-4536-dbcd-be823fbb455a"
      },
      "source": [
        "import random\n",
        "import glob\n",
        "import os\n",
        "import shutil\n",
        "import numpy as np\n",
        "\n",
        "from google.colab import drive\n",
        "drive.mount('/content/drive')\n",
        "\n",
        "\n",
        "'''\n",
        "-----dst_data[0]------dst_train[0]\n",
        "  |                |--dst_val[0]\n",
        "  |                |--dst_test[0]\n",
        "  |\n",
        "  |--dst_data[1]------dst_train[1]\n",
        "  |                |--dst_val[1]\n",
        "  |                |--dst_test[1]\n",
        "  ...\n",
        "  |--dst_data[9]------dst_train[9]\n",
        "                   |--dst_val[9]\n",
        "                   |--dst_test[9]\n",
        "'''"
      ],
      "execution_count": 1,
      "outputs": [
        {
          "output_type": "stream",
          "text": [
            "Mounted at /content/drive\n"
          ],
          "name": "stdout"
        },
        {
          "output_type": "execute_result",
          "data": {
            "application/vnd.google.colaboratory.intrinsic+json": {
              "type": "string"
            },
            "text/plain": [
              "'\\n-----dst_data[0]------dst_train[0]\\n  |                |--dst_val[0]\\n  |                |--dst_test[0]\\n  |\\n  |--dst_data[1]------dst_train[1]\\n  |                |--dst_val[1]\\n  |                |--dst_test[1]\\n  ...\\n  |--dst_data[9]------dst_train[9]\\n                   |--dst_val[9]\\n                   |--dst_test[9]\\n'"
            ]
          },
          "metadata": {
            "tags": []
          },
          "execution_count": 1
        }
      ]
    },
    {
      "cell_type": "markdown",
      "metadata": {
        "id": "NDVgvNfhLtg4",
        "colab_type": "text"
      },
      "source": [
        "#**モジュール群**\n",
        "\n"
      ]
    },
    {
      "cell_type": "code",
      "metadata": {
        "id": "i2_EVeAyYzsh",
        "colab_type": "code",
        "colab": {}
      },
      "source": [
        "def get_data_list(org_path, split_num):\n",
        "    classes = os.listdir(org_path) #クラス名を取得\n",
        "    print(classes)\n",
        "\n",
        "    #データの分割数を設定\n",
        "    data_list = [0]*len(classes)\n",
        "    k=0\n",
        "    for i in classes:\n",
        "        data_list = glob.glob(org_path+'/'+i+'/*')\n",
        "\n",
        "    split_length = int(len(data_list)/split_num)\n",
        "    return data_list, split_length, classes\n",
        "\n",
        "\n",
        "def makefolders(dst_path, split_num, classes):\n",
        "    if not os.path.exists(dst_path):  # ディレクトリがなかったら\n",
        "        os.mkdir(dst_path)  # 作成したいフォルダ名を作成\n",
        "        for i in range(split_num):\n",
        "            os.mkdir(dst_path+'/'+str(i))\n",
        "            os.mkdir(dst_path+'/'+str(i)+'/train')\n",
        "            os.mkdir(dst_path+'/'+str(i)+'/val')\n",
        "            os.mkdir(dst_path+'/'+str(i)+'/test')\n",
        "            for j in classes:\n",
        "                os.mkdir(dst_path+'/'+str(i)+'/train/'+j)\n",
        "                os.mkdir(dst_path+'/'+str(i)+'/val/'+j)\n",
        "                os.mkdir(dst_path+'/'+str(i)+'/test/'+j)\n",
        "\n",
        "def split_data_list(data_list, split_num):\n",
        "\n",
        "    split_data, dst_data, dst_train, dst_val, dst_test = [0]*split_num, [0]*split_num, [0]*split_num, [0]*split_num, [0]*split_num\n",
        "\n",
        "    #データの分割\n",
        "    split_data = list(np.array_split(data_list, split_num))\n",
        "\n",
        "    #データセット全体と分割したデータの差分を取り、dst_dataに格納\n",
        "    dst_data = [0] * split_num\n",
        "    for i in range(split_num):\n",
        "        dst_data[i] = [x for x in data_list if x not in split_data[i]]\n",
        "        #print(dst_data[i])\n",
        "\n",
        "    #トレーニングセット、バリデーションセット、テストセットのリスト作成\n",
        "    for i in range(split_num):\n",
        "        dst_train[i], dst_val[i]= list(np.array_split(dst_data[i], [int(len(dst_data[i]) * 0.8)]))  #dst_dataを、トレーニングセットとバリデーションセットに分割\n",
        "        dst_test[i] = split_data[i]  #テストセット\n",
        "    \n",
        "    return dst_train, dst_val, dst_test"
      ],
      "execution_count": 27,
      "outputs": []
    },
    {
      "cell_type": "markdown",
      "metadata": {
        "id": "vtfpwi3vLipk",
        "colab_type": "text"
      },
      "source": [
        "#**リスト化したデータを作成したフォルダに移動**"
      ]
    },
    {
      "cell_type": "code",
      "metadata": {
        "id": "WzrfCi3na5Bm",
        "colab_type": "code",
        "colab": {}
      },
      "source": [
        "def copy_files(split_num, dst_train, dst_val, dst_test, classes):\n",
        "\n",
        "    for i in range(split_num):\n",
        "        dst_path_train = '/content/drive/My Drive/gravcont_crossvalidation/'+str(i)+'/train/'+classes\n",
        "        dst_path_val = '/content/drive/My Drive/gravcont_crossvalidation/'+str(i)+'/val/'+classes\n",
        "        dst_path_test = '/content/drive/My Drive/gravcont_crossvalidation/'+str(i)+'/test/'+classes\n",
        "\n",
        "        for p in dst_train[0]:  # 選択したファイルを目的フォルダにコピー\n",
        "            shutil.copy(p, dst_path_train)\n",
        "            #print(p)\n",
        "\n",
        "        for p in dst_val[0]:  # 選択したファイルを目的フォルダにコピー\n",
        "            shutil.copy(p, dst_path_val)\n",
        "            #print(p)    \n",
        "            \n",
        "        for p in dst_test[0]:  # 選択したファイルを目的フォルダにコピー\n",
        "            shutil.copy(p, dst_path_test)\n",
        "            #print(p)\n"
      ],
      "execution_count": 28,
      "outputs": []
    },
    {
      "cell_type": "code",
      "metadata": {
        "id": "UkS-Gd2YX0QT",
        "colab_type": "code",
        "colab": {
          "base_uri": "https://localhost:8080/",
          "height": 832
        },
        "outputId": "b42603c6-5aa7-465e-abc7-52579cfea43e"
      },
      "source": [
        "def main():\n",
        "    org_path = \"/content/drive/My Drive/gravcont\"\n",
        "    dst_path = \"/content/drive/My Drive/gravcont_crossvalidation\"  # フォルダ名\n",
        "    split_num = 10\n",
        "    data_list, split_length, classes = get_data_list(org_path, split_num)\n",
        "    makefolders(dst_path, split_num, classes)\n",
        "\n",
        "    for i in len(classes):\n",
        "        dst_train, dst_val, dst_test = split_data_list(data_list[i], split_num)\n",
        "        copy_files(split_num, i, dst_train, dst_val, dst_test)\n",
        "\n",
        "if __name__ == \"__main__\":  \n",
        "    main()"
      ],
      "execution_count": 29,
      "outputs": [
        {
          "output_type": "stream",
          "text": [
            "['grav', 'cont']\n",
            "0\n",
            "grav\n",
            "cont\n",
            "1\n",
            "grav\n",
            "cont\n",
            "2\n",
            "grav\n",
            "cont\n",
            "3\n",
            "grav\n",
            "cont\n",
            "4\n",
            "grav\n",
            "cont\n",
            "5\n",
            "grav\n",
            "cont\n",
            "6\n",
            "grav\n",
            "cont\n",
            "7\n",
            "grav\n",
            "cont\n",
            "8\n",
            "grav\n",
            "cont\n",
            "9\n",
            "grav\n",
            "cont\n"
          ],
          "name": "stdout"
        },
        {
          "output_type": "error",
          "ename": "TypeError",
          "evalue": "ignored",
          "traceback": [
            "\u001b[0;31m---------------------------------------------------------------------------\u001b[0m",
            "\u001b[0;31mTypeError\u001b[0m                                 Traceback (most recent call last)",
            "\u001b[0;32m<ipython-input-29-b49091797963>\u001b[0m in \u001b[0;36m<module>\u001b[0;34m()\u001b[0m\n\u001b[1;32m     11\u001b[0m \u001b[0;34m\u001b[0m\u001b[0m\n\u001b[1;32m     12\u001b[0m \u001b[0;32mif\u001b[0m \u001b[0m__name__\u001b[0m \u001b[0;34m==\u001b[0m \u001b[0;34m\"__main__\"\u001b[0m\u001b[0;34m:\u001b[0m\u001b[0;34m\u001b[0m\u001b[0;34m\u001b[0m\u001b[0m\n\u001b[0;32m---> 13\u001b[0;31m     \u001b[0mmain\u001b[0m\u001b[0;34m(\u001b[0m\u001b[0;34m)\u001b[0m\u001b[0;34m\u001b[0m\u001b[0;34m\u001b[0m\u001b[0m\n\u001b[0m",
            "\u001b[0;32m<ipython-input-29-b49091797963>\u001b[0m in \u001b[0;36mmain\u001b[0;34m()\u001b[0m\n\u001b[1;32m      6\u001b[0m     \u001b[0mmakefolders\u001b[0m\u001b[0;34m(\u001b[0m\u001b[0mdst_path\u001b[0m\u001b[0;34m,\u001b[0m \u001b[0msplit_num\u001b[0m\u001b[0;34m,\u001b[0m \u001b[0mclasses\u001b[0m\u001b[0;34m)\u001b[0m\u001b[0;34m\u001b[0m\u001b[0;34m\u001b[0m\u001b[0m\n\u001b[1;32m      7\u001b[0m \u001b[0;34m\u001b[0m\u001b[0m\n\u001b[0;32m----> 8\u001b[0;31m     \u001b[0;32mfor\u001b[0m \u001b[0mi\u001b[0m \u001b[0;32min\u001b[0m \u001b[0mlen\u001b[0m\u001b[0;34m(\u001b[0m\u001b[0mclasses\u001b[0m\u001b[0;34m)\u001b[0m\u001b[0;34m:\u001b[0m\u001b[0;34m\u001b[0m\u001b[0;34m\u001b[0m\u001b[0m\n\u001b[0m\u001b[1;32m      9\u001b[0m         \u001b[0mdst_train\u001b[0m\u001b[0;34m,\u001b[0m \u001b[0mdst_val\u001b[0m\u001b[0;34m,\u001b[0m \u001b[0mdst_test\u001b[0m \u001b[0;34m=\u001b[0m \u001b[0msplit_data_list\u001b[0m\u001b[0;34m(\u001b[0m\u001b[0mdata_list\u001b[0m\u001b[0;34m[\u001b[0m\u001b[0mi\u001b[0m\u001b[0;34m]\u001b[0m\u001b[0;34m,\u001b[0m \u001b[0msplit_num\u001b[0m\u001b[0;34m)\u001b[0m\u001b[0;34m\u001b[0m\u001b[0;34m\u001b[0m\u001b[0m\n\u001b[1;32m     10\u001b[0m         \u001b[0mcopy_files\u001b[0m\u001b[0;34m(\u001b[0m\u001b[0msplit_num\u001b[0m\u001b[0;34m,\u001b[0m \u001b[0mi\u001b[0m\u001b[0;34m,\u001b[0m \u001b[0mdst_train\u001b[0m\u001b[0;34m,\u001b[0m \u001b[0mdst_val\u001b[0m\u001b[0;34m,\u001b[0m \u001b[0mdst_test\u001b[0m\u001b[0;34m)\u001b[0m\u001b[0;34m\u001b[0m\u001b[0;34m\u001b[0m\u001b[0m\n",
            "\u001b[0;31mTypeError\u001b[0m: 'int' object is not iterable"
          ]
        }
      ]
    },
    {
      "cell_type": "markdown",
      "metadata": {
        "id": "z8_V2bmIYI3z",
        "colab_type": "text"
      },
      "source": [
        "#**作ったフォルダを削除したいとき**"
      ]
    },
    {
      "cell_type": "code",
      "metadata": {
        "id": "dxFqq4HdVKJm",
        "colab_type": "code",
        "colab": {}
      },
      "source": [
        "dst_path = \"/content/drive/My Drive/gravcont_crossvalidation\"\n",
        "directory = dst_path\n",
        "try:\n",
        "    shutil.rmtree(directory)\n",
        "except FileNotFoundError:\n",
        "    pass"
      ],
      "execution_count": 26,
      "outputs": []
    }
  ]
}