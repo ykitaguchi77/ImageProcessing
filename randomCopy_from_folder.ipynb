{
  "nbformat": 4,
  "nbformat_minor": 0,
  "metadata": {
    "colab": {
      "name": "Untitled62.ipynb",
      "provenance": [],
      "authorship_tag": "ABX9TyOTS3zLQQSvSjehmz3tg4HZ",
      "include_colab_link": true
    },
    "kernelspec": {
      "name": "python3",
      "display_name": "Python 3"
    }
  },
  "cells": [
    {
      "cell_type": "markdown",
      "metadata": {
        "id": "view-in-github",
        "colab_type": "text"
      },
      "source": [
        "<a href=\"https://colab.research.google.com/github/ykitaguchi77/ImageProcessing/blob/master/randomCopy_from_folder.ipynb\" target=\"_parent\"><img src=\"https://colab.research.google.com/assets/colab-badge.svg\" alt=\"Open In Colab\"/></a>"
      ]
    },
    {
      "cell_type": "code",
      "metadata": {
        "id": "osK-8tCFe7V_",
        "colab_type": "code",
        "colab": {
          "base_uri": "https://localhost:8080/",
          "height": 33
        },
        "outputId": "2547a6a7-19d7-4a7b-9369-5fa9421df674"
      },
      "source": [
        "import random\n",
        "import glob\n",
        "import os\n",
        "import shutil\n",
        "\n",
        "\"\"\"\n",
        "フォルダ内のファイルから規定数を無作為に抽出し、別フォルダにコピーするスクリプト\n",
        "実行前\n",
        "----orig_path------1.jpg\n",
        "               |---2.jpg\n",
        "               |---3.jpg\n",
        "               |---\n",
        "               |---100.jpg\n",
        "実行後\n",
        "----orig_path------1.jpg\n",
        "  |            |---3.jpg\n",
        "  |            |---4.jpg\n",
        "  |            |---...\n",
        "  |            |---100.jpg\n",
        "  |\n",
        "  |--dest_path-----2.jpg\n",
        "               |---5.jpg\n",
        "               |---6.jpg\n",
        "               |---...\n",
        "               |---99.jpg\n",
        "\"\"\"\n",
        "\n",
        "from google.colab import drive\n",
        "drive.mount('/content/drive')"
      ],
      "execution_count": 1,
      "outputs": [
        {
          "output_type": "stream",
          "text": [
            "Mounted at /content/drive\n"
          ],
          "name": "stdout"
        }
      ]
    },
    {
      "cell_type": "code",
      "metadata": {
        "id": "EiZc9Jl22lIr",
        "colab_type": "code",
        "colab": {}
      },
      "source": [
        "orig_path = \"/Users/kitaguchi/Desktop/cont_add\"\n",
        "dst_path = \"/Users/kitaguchi/Desktop/Grav_bootcamp/Posttrain/cont\"  # フォルダ名\n",
        "if not os.path.exists(dst_path):  # ディレクトリがなかったら\n",
        "    os.mkdir(dst_path)  # 作成したいフォルダ名を作成\n",
        "copy_num = 51  # 移動したいファイルの数\n",
        "\n",
        "files = glob.glob(orig_path + \"/*\")\n",
        "print(files)\n",
        "sample_files = random.sample(files, copy_num)  # 規定数のファイルを無作為に選択\n",
        "\n",
        "for p in sample_files:  # 選択したファイルを目的フォルダにコピー\n",
        "    shutil.move(p, dst_path)\n",
        "    print(p)\n",
        "\n",
        "print(\"process done!!\")"
      ],
      "execution_count": null,
      "outputs": []
    }
  ]
}