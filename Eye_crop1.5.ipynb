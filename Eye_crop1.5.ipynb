{
  "nbformat": 4,
  "nbformat_minor": 0,
  "metadata": {
    "colab": {
      "name": "Untitled37.ipynb",
      "provenance": [],
      "include_colab_link": true
    },
    "kernelspec": {
      "name": "python3",
      "display_name": "Python 3"
    },
    "accelerator": "GPU"
  },
  "cells": [
    {
      "cell_type": "markdown",
      "metadata": {
        "id": "view-in-github",
        "colab_type": "text"
      },
      "source": [
        "<a href=\"https://colab.research.google.com/github/ykitaguchi77/ImageProcessing/blob/master/Eye_crop1.5.ipynb\" target=\"_parent\"><img src=\"https://colab.research.google.com/assets/colab-badge.svg\" alt=\"Open In Colab\"/></a>"
      ]
    },
    {
      "cell_type": "markdown",
      "metadata": {
        "id": "C2mKFMmwfTOi"
      },
      "source": [
        "#顔の画像から目を検出して切り抜くスクリプト\n",
        "・Haarcascade_eyeを使用<br>\n",
        "・目が検出できないものはskipする<br>\n",
        "・検出された目周囲の画像を縦横とも1.1倍の幅で切り抜く\n",
        "・切り取った画像を250px*250pxにresizeする<br>\n",
        "・対応表をCSV形式で出力（連番、左右、元フォルダ、元画像名）"
      ]
    },
    {
      "cell_type": "code",
      "metadata": {
        "id": "I5xvbecME5IS"
      },
      "source": [
        "import numpy as np\n",
        "import matplotlib.pyplot as plt\n",
        "import time\n",
        "import os\n",
        "import copy\n",
        "import pandas as pd\n",
        "import csv\n",
        "from random import randint\n",
        "from time import sleep\n",
        "\n",
        "import glob\n",
        "import random\n",
        "from PIL import Image\n",
        "%matplotlib inline\n",
        "\n",
        "#サポートパッチのインポート\n",
        "from google.colab.patches import cv2_imshow\n",
        "import cv2\n",
        "\n",
        "plt.ion()   # interactive mode"
      ],
      "execution_count": 2,
      "outputs": []
    },
    {
      "cell_type": "markdown",
      "metadata": {
        "id": "v0ZI4pHmFDXZ"
      },
      "source": [
        "#Google colabをマウント"
      ]
    },
    {
      "cell_type": "code",
      "metadata": {
        "id": "zkrhEditFGkP",
        "colab": {
          "base_uri": "https://localhost:8080/"
        },
        "outputId": "4d2c5ae3-6a14-42f6-a1af-ce6155b0e638"
      },
      "source": [
        "'''\n",
        "変換前\n",
        "--in-----1-----abc.jpg\n",
        "      |    |--def.jpg\n",
        "      |\n",
        "      |-2-----ghi.jpg     \n",
        "           |--jkl.jpg\n",
        "\n",
        "変換後\n",
        "--out-------1.jpg\n",
        "        |--2,jpg        \n",
        "        |--3.jpg\n",
        "        |--4.jpg\n",
        "'''\n",
        "\n",
        "from google.colab import drive\n",
        "drive.mount('/content/drive')"
      ],
      "execution_count": 3,
      "outputs": [
        {
          "output_type": "stream",
          "text": [
            "Mounted at /content/drive\n"
          ],
          "name": "stdout"
        }
      ]
    },
    {
      "cell_type": "code",
      "metadata": {
        "id": "oSA2Rm9MFXoZ"
      },
      "source": [
        "#元画像フォルダ\n",
        "in_path = '/content/drive/My Drive/Deep_learning/eyelid_images/in'\n",
        "\n",
        "#保存先フォルダ\n",
        "out_path = '/content/drive/My Drive/Deep_learning/eyelid_images/out2'\n",
        "\n",
        "#CSVファイルのフォルダ\n",
        "csv_path = '/content/drive/My Drive/Deep_learning/eyelid_images/eyelid_images2.csv'\n"
      ],
      "execution_count": 4,
      "outputs": []
    },
    {
      "cell_type": "markdown",
      "metadata": {
        "id": "v0shkziUPn1c"
      },
      "source": [
        "#Haarcascadeを指定"
      ]
    },
    {
      "cell_type": "code",
      "metadata": {
        "id": "qfu_RX-kIlmx"
      },
      "source": [
        "# カスケードファイルのパス\n",
        "eye_cascade_path = '/content/drive/My Drive/Deep_learning/haarcascade_eye.xml'\n",
        "\n",
        "# カスケード分類器の特徴量取得\n",
        "eye_cascade = cv2.CascadeClassifier(eye_cascade_path)"
      ],
      "execution_count": 5,
      "outputs": []
    },
    {
      "cell_type": "markdown",
      "metadata": {
        "id": "Nn5-wvNm1-HU"
      },
      "source": [
        "#画像を切り抜いて連番で出力、対応表出力\n",
        "12時間で60000枚を処理するのは不可能（1秒間に3枚として12000枚 =フォルダ1600個ぐらいが限界）<br>\n",
        "→1回のセッションでフォルダ1000個ずつを処理することとする"
      ]
    },
    {
      "cell_type": "code",
      "metadata": {
        "id": "oARDCa9aFT9E",
        "outputId": "a885eaf8-c401-4b4e-9c91-51818f0908ed",
        "colab": {
          "base_uri": "https://localhost:8080/"
        }
      },
      "source": [
        "#処理するDirectoryの設定\n",
        "directory = os.listdir(in_path)\n",
        "print(len(directory))\n",
        "\n",
        "#ここにフォルダ番号を記載する (ex. [0:999])\n",
        "processing_directory = directory[0:3]\n",
        "print(processing_directory)"
      ],
      "execution_count": 6,
      "outputs": [
        {
          "output_type": "stream",
          "text": [
            "8196\n",
            "['7205', '7211', '7213']\n"
          ],
          "name": "stdout"
        }
      ]
    },
    {
      "cell_type": "code",
      "metadata": {
        "id": "v9ZRZ2MPPWGh",
        "colab": {
          "base_uri": "https://localhost:8080/"
        },
        "outputId": "1f9ec353-97b1-4faa-d9f2-980060f53364"
      },
      "source": [
        "#処理時間の計測\n",
        "start = time.time()\n",
        "\n",
        "with open(csv_path, 'a', newline='') as f:  #a:追記モード\n",
        "        writer = csv.writer(f)\n",
        "        fieldnames = ['Number', 'Folder', 'FileName']       \n",
        "        writer.writerow(['Folder', 'Image_num', 'side (R:0, L:1)', 'ImageName', 'Number'])  #header\n",
        "        \n",
        "        k=0\n",
        "        for i in processing_directory:  #フォルダ数の分だけ\n",
        "              file = os.listdir(in_path + '/' + i)\n",
        "\n",
        "              l=0\n",
        "              for j in file:\n",
        "                    l+=1\n",
        "                    print(str(l))\n",
        "                    print('')\n",
        "                    img = cv2.imread(in_path + '/' + i + '/' + j) \n",
        "                    img2 = img.copy()\n",
        "\n",
        "                    # 画像グレースケール化\n",
        "                    grayscale_img = cv2.cvtColor(img, cv2.COLOR_RGB2GRAY)\n",
        "\n",
        "                    #300pix以上のもので目に見えるものを抽出\n",
        "                    eye_list = eye_cascade.detectMultiScale(grayscale_img, minSize=(300, 300))\n",
        "                    print('image path = '+ in_path + '/' + i + '/' + j )\n",
        "                    \n",
        "                    # 眼検出判定\n",
        "                    if len(eye_list) >= 1:\n",
        "                        '''\n",
        "                        print('目が' + str(len(eye_list)) +'個検出されました')\n",
        "                        '''\n",
        "                        pass\n",
        "                    else:\n",
        "                        '''\n",
        "                        print(\"eye detection error\")\n",
        "                        '''\n",
        "                        break\n",
        "\n",
        "                    #画像の切り抜きと保存（連番にする）\n",
        "                    \n",
        "                    m=0\n",
        "                    for (ex, ey, ew, eh) in eye_list:\n",
        "                        m+=1\n",
        "                        #print(\"[ex,ey] = %d,%d [ew,eh] = %d,%d\" %(ex, ey, ew, eh))\n",
        "                        try:\n",
        "                          cv2.rectangle(img2, (ex, ey), (ex + ew, ey + eh), (0, 255, 0), 2)\n",
        "                          img_cropped = img[int(ey-h): int(ey + eh), int(ex-ew/2): int(ex + ew*3/2)]\n",
        "                          img_resized = cv2.resize(img_cropped,(1000,1000)) #1辺250pixにresize \n",
        "                          #x, y = random.randint(0,27), random.randint(0,27) #ランダムな位置で224pixに切り取る\n",
        "                          #img_randcrop = img_resized[y: y+223, x: x+223]\n",
        "                        except:\n",
        "                            pass\n",
        "\n",
        "                        if ex <= 600:\n",
        "                            side = 0 #600ピクセル目より左にあるのは右眼\n",
        "                        else:\n",
        "                            side = 1 #600ピクセル目より右にあるのは左眼\n",
        "                        \n",
        "                        '''\n",
        "                        print(out_path + '/' +str(i)+'-' + str(l) + '-' + str(side)+ '.jpg')\n",
        "                        '''\n",
        "\n",
        "                        #保存する際のよくわからないエラーをskipする\n",
        "                        try:\n",
        "                            cv2.imwrite(out_path + '/'+str(i)+'-' + str(l) + '-' + str(side)+ '.jpg', img_resized)\n",
        "                            #対応表の作成\n",
        "                            writer.writerow([str(i), str(l),side, str(j), str(k+1)])\n",
        "                            k+=1\n",
        "                        except:\n",
        "                            pass\n",
        "\n",
        "print('Process done!!')\n",
        "elapsed_time = time.time() - start\n",
        "print (\"elapsed_time:{0}\".format(elapsed_time) + \"[sec]\")\n"
      ],
      "execution_count": 7,
      "outputs": [
        {
          "output_type": "stream",
          "text": [
            "1\n",
            "\n",
            "image path = /content/drive/My Drive/Deep_learning/eyelid_images/in/7205/20161026100647_眼位_O_0_5822da434f9adf128e50d316ab8501dedfb4024cc8554166e5f2c4a11871fce1.jpg\n",
            "1\n",
            "\n",
            "image path = /content/drive/My Drive/Deep_learning/eyelid_images/in/7211/20171225104232_眼位_O_0_d888889cbd4e71e48c50f76f3984f5d065ddd2fe83fc2ec64611813563408bda.jpg\n",
            "1\n",
            "\n",
            "image path = /content/drive/My Drive/Deep_learning/eyelid_images/in/7213/20091216105257_眼位_O_0_881f815eed7ee3d4b69af2d4cb7851bb7c4275328941e3ee843eac239163bd5d.jpg\n",
            "2\n",
            "\n",
            "image path = /content/drive/My Drive/Deep_learning/eyelid_images/in/7213/20091216105257_眼位_O_0_a0889b192d9aa7c676050e5313446070160526fffebaebb7f15f09a67ebd2734.jpg\n",
            "3\n",
            "\n",
            "image path = /content/drive/My Drive/Deep_learning/eyelid_images/in/7213/20090617090816_眼位_O_-1_b42ed2596337593f7980c83e07bff9b0bde57c6831dbb63b77c4616be3fb13d3.JPG\n",
            "4\n",
            "\n",
            "image path = /content/drive/My Drive/Deep_learning/eyelid_images/in/7213/20090617090816_眼位_O_-1_8478fbcbb02fb966a40707fd5c311005e8611f0f33f4c02487260c8c5a834604.JPG\n",
            "5\n",
            "\n",
            "image path = /content/drive/My Drive/Deep_learning/eyelid_images/in/7213/20090902135309_眼位_O_-1_fe59495678cc24b84f3a07675d7601d2258a379afc59b865b44d0eefdf0a62dc.JPG\n",
            "6\n",
            "\n",
            "image path = /content/drive/My Drive/Deep_learning/eyelid_images/in/7213/20090715091527_眼位_O_-1_074d843bd488034f45c5fcc437732ff32dd430eb675c8131b6225448fb4e76df.JPG\n",
            "7\n",
            "\n",
            "image path = /content/drive/My Drive/Deep_learning/eyelid_images/in/7213/20090520115848_眼位_O_-1_485d89f3233f58a2d4a88c9bfcd058f1a5295d7b04e3179abb15555b7dd853a9.JPG\n",
            "8\n",
            "\n",
            "image path = /content/drive/My Drive/Deep_learning/eyelid_images/in/7213/20090715091527_眼位_O_-1_136b546d70022ff386ec698394585d6db21954e5bfd3c17883ee4140a12f0479.JPG\n",
            "Process done!!\n",
            "elapsed_time:7.5565102100372314[sec]\n"
          ],
          "name": "stdout"
        }
      ]
    },
    {
      "cell_type": "markdown",
      "metadata": {
        "id": "Aojvj0WzfLF2"
      },
      "source": [
        "#切り取られた図を表示してみる"
      ]
    },
    {
      "cell_type": "code",
      "metadata": {
        "id": "unsPYKgdMbMS",
        "colab": {
          "base_uri": "https://localhost:8080/",
          "height": 242
        },
        "outputId": "830bcd8b-9d78-472b-e038-9ae867bf40c6"
      },
      "source": [
        "img_list = os.listdir(out_path)\n",
        "print(img_list)\n",
        "img = cv2.imread(out_path + '/'+img_list[0])\n",
        "\n",
        "\n",
        "#アスペクト比を維持したまま横を400pixelに縮小する\n",
        "def scale_to_width(img, width):\n",
        "    scale = width / img.shape[1]\n",
        "    return cv2.resize(img, dsize=None, fx=scale, fy=scale)\n",
        "dst = scale_to_width(img, 400)\n",
        "\n",
        "#図を表示する\n",
        "cv2_imshow(dst)"
      ],
      "execution_count": 8,
      "outputs": [
        {
          "output_type": "error",
          "ename": "FileNotFoundError",
          "evalue": "ignored",
          "traceback": [
            "\u001b[0;31m---------------------------------------------------------------------------\u001b[0m",
            "\u001b[0;31mFileNotFoundError\u001b[0m                         Traceback (most recent call last)",
            "\u001b[0;32m<ipython-input-8-723e939a2f63>\u001b[0m in \u001b[0;36m<module>\u001b[0;34m()\u001b[0m\n\u001b[0;32m----> 1\u001b[0;31m \u001b[0mimg_list\u001b[0m \u001b[0;34m=\u001b[0m \u001b[0mos\u001b[0m\u001b[0;34m.\u001b[0m\u001b[0mlistdir\u001b[0m\u001b[0;34m(\u001b[0m\u001b[0mout_path\u001b[0m\u001b[0;34m)\u001b[0m\u001b[0;34m\u001b[0m\u001b[0;34m\u001b[0m\u001b[0m\n\u001b[0m\u001b[1;32m      2\u001b[0m \u001b[0mprint\u001b[0m\u001b[0;34m(\u001b[0m\u001b[0mimg_list\u001b[0m\u001b[0;34m)\u001b[0m\u001b[0;34m\u001b[0m\u001b[0;34m\u001b[0m\u001b[0m\n\u001b[1;32m      3\u001b[0m \u001b[0mimg\u001b[0m \u001b[0;34m=\u001b[0m \u001b[0mcv2\u001b[0m\u001b[0;34m.\u001b[0m\u001b[0mimread\u001b[0m\u001b[0;34m(\u001b[0m\u001b[0mout_path\u001b[0m \u001b[0;34m+\u001b[0m \u001b[0;34m'/'\u001b[0m\u001b[0;34m+\u001b[0m\u001b[0mimg_list\u001b[0m\u001b[0;34m[\u001b[0m\u001b[0;36m0\u001b[0m\u001b[0;34m]\u001b[0m\u001b[0;34m)\u001b[0m\u001b[0;34m\u001b[0m\u001b[0;34m\u001b[0m\u001b[0m\n\u001b[1;32m      4\u001b[0m \u001b[0;34m\u001b[0m\u001b[0m\n\u001b[1;32m      5\u001b[0m \u001b[0;34m\u001b[0m\u001b[0m\n",
            "\u001b[0;31mFileNotFoundError\u001b[0m: [Errno 2] No such file or directory: '/content/drive/My Drive/Deep_learning/eyelid_images/out2'"
          ]
        }
      ]
    }
  ]
}