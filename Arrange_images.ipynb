{
  "nbformat": 4,
  "nbformat_minor": 0,
  "metadata": {
    "colab": {
      "name": "Untitled51.ipynb",
      "provenance": [],
      "toc_visible": true,
      "authorship_tag": "ABX9TyNMwV+FFZJF64HXW7df1Ir2",
      "include_colab_link": true
    },
    "kernelspec": {
      "name": "python3",
      "display_name": "Python 3"
    }
  },
  "cells": [
    {
      "cell_type": "markdown",
      "metadata": {
        "id": "view-in-github",
        "colab_type": "text"
      },
      "source": [
        "<a href=\"https://colab.research.google.com/github/ykitaguchi77/ImageProcessing/blob/master/Arrange_images.ipynb\" target=\"_parent\"><img src=\"https://colab.research.google.com/assets/colab-badge.svg\" alt=\"Open In Colab\"/></a>"
      ]
    },
    {
      "cell_type": "code",
      "metadata": {
        "id": "11TM-66q8kss",
        "colab_type": "code",
        "colab": {
          "base_uri": "https://localhost:8080/",
          "height": 55
        },
        "outputId": "81336ed3-1f4b-4e3f-8c49-ce4d286ed6b7"
      },
      "source": [
        "from PIL import Image\n",
        "import glob\n",
        "\n",
        "#Google colabをマウント\n",
        "from google.colab import drive\n",
        "drive.mount('/content/drive')"
      ],
      "execution_count": 1,
      "outputs": [
        {
          "output_type": "stream",
          "text": [
            "Drive already mounted at /content/drive; to attempt to forcibly remount, call drive.mount(\"/content/drive\", force_remount=True).\n"
          ],
          "name": "stdout"
        }
      ]
    },
    {
      "cell_type": "markdown",
      "metadata": {
        "id": "Q5n6v0ZcVluL",
        "colab_type": "text"
      },
      "source": [
        "#**画像の配列**\n",
        "参考サイト： https://note.nkmk.me/python-pillow-concat-images/"
      ]
    },
    {
      "cell_type": "code",
      "metadata": {
        "id": "RvOs1hr0R_3C",
        "colab_type": "code",
        "colab": {}
      },
      "source": [
        "def get_concat_h_multi_resize(im_list, resample=Image.BICUBIC):\n",
        "    min_height = min(im.height for im in im_list)\n",
        "    im_list_resize = [im.resize((int(im.width * min_height / im.height), min_height),resample=resample)\n",
        "                      for im in im_list]\n",
        "    total_width = sum(im.width for im in im_list_resize)\n",
        "    dst = Image.new('RGB', (total_width, min_height))\n",
        "    pos_x = 0\n",
        "    for im in im_list_resize:\n",
        "        dst.paste(im, (pos_x, 0))\n",
        "        pos_x += im.width\n",
        "    return dst\n",
        "\n",
        "def get_concat_v_multi_resize(im_list, resample=Image.BICUBIC):\n",
        "    min_width = min(im.width for im in im_list)\n",
        "    im_list_resize = [im.resize((min_width, int(im.height * min_width / im.width)),resample=resample)\n",
        "                      for im in im_list]\n",
        "    total_height = sum(im.height for im in im_list_resize)\n",
        "    dst = Image.new('RGB', (min_width, total_height))\n",
        "    pos_y = 0\n",
        "    for im in im_list_resize:\n",
        "        dst.paste(im, (0, pos_y))\n",
        "        pos_y += im.height\n",
        "    return dst\n",
        "\n",
        "def get_concat_tile_resize(im_list_2d, resample=Image.BICUBIC):\n",
        "    im_list_v = [get_concat_h_multi_resize(im_list_h, resample=resample) for im_list_h in im_list_2d]\n",
        "    return get_concat_v_multi_resize(im_list_v, resample=resample)"
      ],
      "execution_count": 7,
      "outputs": []
    },
    {
      "cell_type": "code",
      "metadata": {
        "id": "HONHBUgSBHhe",
        "colab_type": "code",
        "colab": {
          "base_uri": "https://localhost:8080/",
          "height": 145
        },
        "outputId": "f72683d9-3362-41ca-9d82-9ce3e746041d"
      },
      "source": [
        "#画像のリストを取得\n",
        "img_path = glob.glob(\"/content/drive/My Drive/Grav_bootcamp/Training_250px/grav/*\")\n",
        "print(len(img_path))\n",
        "#print(img_path)\n",
        "\n",
        "#画像を入れるリストを用意\n",
        "im_list = img_path[0:240]\n",
        "print(len(im_list))\n",
        "print(im_list)\n",
        "\n",
        "\"\"\"\n",
        "#画像のサイズを確認\n",
        "for i in im_list:\n",
        "    img = Image.open(i)\n",
        "    width, height = img.size\n",
        "    print(\"width:\"+str(width)+\", height:\"+str(height)+\", width/height:\"+str(width/height))\n",
        "\"\"\""
      ],
      "execution_count": 31,
      "outputs": [
        {
          "output_type": "stream",
          "text": [
            "240\n",
            "240\n",
            "['/content/drive/My Drive/Grav_bootcamp/Training_250px/grav/2853.jpg', '/content/drive/My Drive/Grav_bootcamp/Training_250px/grav/5015.jpg', '/content/drive/My Drive/Grav_bootcamp/Training_250px/grav/4681.jpg', '/content/drive/My Drive/Grav_bootcamp/Training_250px/grav/2644.jpg', '/content/drive/My Drive/Grav_bootcamp/Training_250px/grav/2900.jpg', '/content/drive/My Drive/Grav_bootcamp/Training_250px/grav/6599.jpg', '/content/drive/My Drive/Grav_bootcamp/Training_250px/grav/4486.jpg', '/content/drive/My Drive/Grav_bootcamp/Training_250px/grav/5673.jpg', '/content/drive/My Drive/Grav_bootcamp/Training_250px/grav/6965.jpg', '/content/drive/My Drive/Grav_bootcamp/Training_250px/grav/2042.jpg', '/content/drive/My Drive/Grav_bootcamp/Training_250px/grav/7077.jpg', '/content/drive/My Drive/Grav_bootcamp/Training_250px/grav/2960.jpg', '/content/drive/My Drive/Grav_bootcamp/Training_250px/grav/429.jpg', '/content/drive/My Drive/Grav_bootcamp/Training_250px/grav/3759.jpg', '/content/drive/My Drive/Grav_bootcamp/Training_250px/grav/5890.jpg', '/content/drive/My Drive/Grav_bootcamp/Training_250px/grav/6855.jpg', '/content/drive/My Drive/Grav_bootcamp/Training_250px/grav/533.jpg', '/content/drive/My Drive/Grav_bootcamp/Training_250px/grav/1347.jpg', '/content/drive/My Drive/Grav_bootcamp/Training_250px/grav/1357.jpg', '/content/drive/My Drive/Grav_bootcamp/Training_250px/grav/4465.jpg', '/content/drive/My Drive/Grav_bootcamp/Training_250px/grav/6518.jpg', '/content/drive/My Drive/Grav_bootcamp/Training_250px/grav/1525.jpg', '/content/drive/My Drive/Grav_bootcamp/Training_250px/grav/6147.jpg', '/content/drive/My Drive/Grav_bootcamp/Training_250px/grav/3600.jpg', '/content/drive/My Drive/Grav_bootcamp/Training_250px/grav/4332.jpg', '/content/drive/My Drive/Grav_bootcamp/Training_250px/grav/7936.jpg', '/content/drive/My Drive/Grav_bootcamp/Training_250px/grav/5820.jpg', '/content/drive/My Drive/Grav_bootcamp/Training_250px/grav/6150.jpg', '/content/drive/My Drive/Grav_bootcamp/Training_250px/grav/1931.jpg', '/content/drive/My Drive/Grav_bootcamp/Training_250px/grav/5550.jpg', '/content/drive/My Drive/Grav_bootcamp/Training_250px/grav/7428.jpg', '/content/drive/My Drive/Grav_bootcamp/Training_250px/grav/2231.jpg', '/content/drive/My Drive/Grav_bootcamp/Training_250px/grav/374.jpg', '/content/drive/My Drive/Grav_bootcamp/Training_250px/grav/3164.jpg', '/content/drive/My Drive/Grav_bootcamp/Training_250px/grav/3162.jpg', '/content/drive/My Drive/Grav_bootcamp/Training_250px/grav/3748.jpg', '/content/drive/My Drive/Grav_bootcamp/Training_250px/grav/1453.jpg', '/content/drive/My Drive/Grav_bootcamp/Training_250px/grav/1841.jpg', '/content/drive/My Drive/Grav_bootcamp/Training_250px/grav/1438.jpg', '/content/drive/My Drive/Grav_bootcamp/Training_250px/grav/6555.jpg', '/content/drive/My Drive/Grav_bootcamp/Training_250px/grav/893.jpg', '/content/drive/My Drive/Grav_bootcamp/Training_250px/grav/4272.jpg', '/content/drive/My Drive/Grav_bootcamp/Training_250px/grav/1270.jpg', '/content/drive/My Drive/Grav_bootcamp/Training_250px/grav/7049.jpg', '/content/drive/My Drive/Grav_bootcamp/Training_250px/grav/7765.jpg', '/content/drive/My Drive/Grav_bootcamp/Training_250px/grav/3802.jpg', '/content/drive/My Drive/Grav_bootcamp/Training_250px/grav/4331.jpg', '/content/drive/My Drive/Grav_bootcamp/Training_250px/grav/4030.jpg', '/content/drive/My Drive/Grav_bootcamp/Training_250px/grav/6764.jpg', '/content/drive/My Drive/Grav_bootcamp/Training_250px/grav/6806.jpg', '/content/drive/My Drive/Grav_bootcamp/Training_250px/grav/8198.jpg', '/content/drive/My Drive/Grav_bootcamp/Training_250px/grav/3918.jpg', '/content/drive/My Drive/Grav_bootcamp/Training_250px/grav/1396.jpg', '/content/drive/My Drive/Grav_bootcamp/Training_250px/grav/7291.jpg', '/content/drive/My Drive/Grav_bootcamp/Training_250px/grav/6662.jpg', '/content/drive/My Drive/Grav_bootcamp/Training_250px/grav/876.jpg', '/content/drive/My Drive/Grav_bootcamp/Training_250px/grav/3568.jpg', '/content/drive/My Drive/Grav_bootcamp/Training_250px/grav/3128.jpg', '/content/drive/My Drive/Grav_bootcamp/Training_250px/grav/3484.jpg', '/content/drive/My Drive/Grav_bootcamp/Training_250px/grav/7295.jpg', '/content/drive/My Drive/Grav_bootcamp/Training_250px/grav/2803.jpg', '/content/drive/My Drive/Grav_bootcamp/Training_250px/grav/5768.jpg', '/content/drive/My Drive/Grav_bootcamp/Training_250px/grav/3209.jpg', '/content/drive/My Drive/Grav_bootcamp/Training_250px/grav/6989.jpg', '/content/drive/My Drive/Grav_bootcamp/Training_250px/grav/5397.jpg', '/content/drive/My Drive/Grav_bootcamp/Training_250px/grav/718.jpg', '/content/drive/My Drive/Grav_bootcamp/Training_250px/grav/5333.jpg', '/content/drive/My Drive/Grav_bootcamp/Training_250px/grav/6478.jpg', '/content/drive/My Drive/Grav_bootcamp/Training_250px/grav/3684.jpg', '/content/drive/My Drive/Grav_bootcamp/Training_250px/grav/5299.jpg', '/content/drive/My Drive/Grav_bootcamp/Training_250px/grav/2321.jpg', '/content/drive/My Drive/Grav_bootcamp/Training_250px/grav/4069.jpg', '/content/drive/My Drive/Grav_bootcamp/Training_250px/grav/1524.jpg', '/content/drive/My Drive/Grav_bootcamp/Training_250px/grav/3472.jpg', '/content/drive/My Drive/Grav_bootcamp/Training_250px/grav/7798.jpg', '/content/drive/My Drive/Grav_bootcamp/Training_250px/grav/7349.jpg', '/content/drive/My Drive/Grav_bootcamp/Training_250px/grav/5608.jpg', '/content/drive/My Drive/Grav_bootcamp/Training_250px/grav/6515.jpg', '/content/drive/My Drive/Grav_bootcamp/Training_250px/grav/7763.jpg', '/content/drive/My Drive/Grav_bootcamp/Training_250px/grav/1037.jpg', '/content/drive/My Drive/Grav_bootcamp/Training_250px/grav/7041.jpg', '/content/drive/My Drive/Grav_bootcamp/Training_250px/grav/4822.jpg', '/content/drive/My Drive/Grav_bootcamp/Training_250px/grav/3809.jpg', '/content/drive/My Drive/Grav_bootcamp/Training_250px/grav/1457.jpg', '/content/drive/My Drive/Grav_bootcamp/Training_250px/grav/7867.jpg', '/content/drive/My Drive/Grav_bootcamp/Training_250px/grav/4292.jpg', '/content/drive/My Drive/Grav_bootcamp/Training_250px/grav/5540.jpg', '/content/drive/My Drive/Grav_bootcamp/Training_250px/grav/5051.jpg', '/content/drive/My Drive/Grav_bootcamp/Training_250px/grav/3502.jpg', '/content/drive/My Drive/Grav_bootcamp/Training_250px/grav/1088.jpg', '/content/drive/My Drive/Grav_bootcamp/Training_250px/grav/4263.jpg', '/content/drive/My Drive/Grav_bootcamp/Training_250px/grav/5310.jpg', '/content/drive/My Drive/Grav_bootcamp/Training_250px/grav/6155.jpg', '/content/drive/My Drive/Grav_bootcamp/Training_250px/grav/6553.jpg', '/content/drive/My Drive/Grav_bootcamp/Training_250px/grav/3567.jpg', '/content/drive/My Drive/Grav_bootcamp/Training_250px/grav/4588.jpg', '/content/drive/My Drive/Grav_bootcamp/Training_250px/grav/2967.jpg', '/content/drive/My Drive/Grav_bootcamp/Training_250px/grav/1001.jpg', '/content/drive/My Drive/Grav_bootcamp/Training_250px/grav/6643.jpg', '/content/drive/My Drive/Grav_bootcamp/Training_250px/grav/1429.jpg', '/content/drive/My Drive/Grav_bootcamp/Training_250px/grav/3077.jpg', '/content/drive/My Drive/Grav_bootcamp/Training_250px/grav/6163.jpg', '/content/drive/My Drive/Grav_bootcamp/Training_250px/grav/5906.jpg', '/content/drive/My Drive/Grav_bootcamp/Training_250px/grav/3543.jpg', '/content/drive/My Drive/Grav_bootcamp/Training_250px/grav/1284.jpg', '/content/drive/My Drive/Grav_bootcamp/Training_250px/grav/818.jpg', '/content/drive/My Drive/Grav_bootcamp/Training_250px/grav/3176.jpg', '/content/drive/My Drive/Grav_bootcamp/Training_250px/grav/2370.jpg', '/content/drive/My Drive/Grav_bootcamp/Training_250px/grav/4382.jpg', '/content/drive/My Drive/Grav_bootcamp/Training_250px/grav/2794.jpg', '/content/drive/My Drive/Grav_bootcamp/Training_250px/grav/1553.jpg', '/content/drive/My Drive/Grav_bootcamp/Training_250px/grav/19.jpg', '/content/drive/My Drive/Grav_bootcamp/Training_250px/grav/2689.jpg', '/content/drive/My Drive/Grav_bootcamp/Training_250px/grav/2837.jpg', '/content/drive/My Drive/Grav_bootcamp/Training_250px/grav/3352.jpg', '/content/drive/My Drive/Grav_bootcamp/Training_250px/grav/7277.jpg', '/content/drive/My Drive/Grav_bootcamp/Training_250px/grav/4619.jpg', '/content/drive/My Drive/Grav_bootcamp/Training_250px/grav/5586.jpg', '/content/drive/My Drive/Grav_bootcamp/Training_250px/grav/5901.jpg', '/content/drive/My Drive/Grav_bootcamp/Training_250px/grav/155.jpg', '/content/drive/My Drive/Grav_bootcamp/Training_250px/grav/1304.jpg', '/content/drive/My Drive/Grav_bootcamp/Training_250px/grav/6277.jpg', '/content/drive/My Drive/Grav_bootcamp/Training_250px/grav/3667.jpg', '/content/drive/My Drive/Grav_bootcamp/Training_250px/grav/7290.jpg', '/content/drive/My Drive/Grav_bootcamp/Training_250px/grav/3167.jpg', '/content/drive/My Drive/Grav_bootcamp/Training_250px/grav/3929.jpg', '/content/drive/My Drive/Grav_bootcamp/Training_250px/grav/5551.jpg', '/content/drive/My Drive/Grav_bootcamp/Training_250px/grav/2508.jpg', '/content/drive/My Drive/Grav_bootcamp/Training_250px/grav/2274.jpg', '/content/drive/My Drive/Grav_bootcamp/Training_250px/grav/7044.jpg', '/content/drive/My Drive/Grav_bootcamp/Training_250px/grav/2801.jpg', '/content/drive/My Drive/Grav_bootcamp/Training_250px/grav/3528.jpg', '/content/drive/My Drive/Grav_bootcamp/Training_250px/grav/2203.jpg', '/content/drive/My Drive/Grav_bootcamp/Training_250px/grav/57.jpg', '/content/drive/My Drive/Grav_bootcamp/Training_250px/grav/122.jpg', '/content/drive/My Drive/Grav_bootcamp/Training_250px/grav/426.JPG', '/content/drive/My Drive/Grav_bootcamp/Training_250px/grav/425.jpg', '/content/drive/My Drive/Grav_bootcamp/Training_250px/grav/489.JPG', '/content/drive/My Drive/Grav_bootcamp/Training_250px/grav/782.JPG', '/content/drive/My Drive/Grav_bootcamp/Training_250px/grav/787.JPG', '/content/drive/My Drive/Grav_bootcamp/Training_250px/grav/957.JPG', '/content/drive/My Drive/Grav_bootcamp/Training_250px/grav/965.JPG', '/content/drive/My Drive/Grav_bootcamp/Training_250px/grav/1313.JPG', '/content/drive/My Drive/Grav_bootcamp/Training_250px/grav/1333.JPG', '/content/drive/My Drive/Grav_bootcamp/Training_250px/grav/1336.JPG', '/content/drive/My Drive/Grav_bootcamp/Training_250px/grav/1446.JPG', '/content/drive/My Drive/Grav_bootcamp/Training_250px/grav/1501.JPG', '/content/drive/My Drive/Grav_bootcamp/Training_250px/grav/1528.JPG', '/content/drive/My Drive/Grav_bootcamp/Training_250px/grav/1597.JPG', '/content/drive/My Drive/Grav_bootcamp/Training_250px/grav/1664.JPG', '/content/drive/My Drive/Grav_bootcamp/Training_250px/grav/1729.JPG', '/content/drive/My Drive/Grav_bootcamp/Training_250px/grav/1773.JPG', '/content/drive/My Drive/Grav_bootcamp/Training_250px/grav/1786.JPG', '/content/drive/My Drive/Grav_bootcamp/Training_250px/grav/1910.JPG', '/content/drive/My Drive/Grav_bootcamp/Training_250px/grav/2007.JPG', '/content/drive/My Drive/Grav_bootcamp/Training_250px/grav/2222.JPG', '/content/drive/My Drive/Grav_bootcamp/Training_250px/grav/2407.JPG', '/content/drive/My Drive/Grav_bootcamp/Training_250px/grav/2436.JPG', '/content/drive/My Drive/Grav_bootcamp/Training_250px/grav/2558.JPG', '/content/drive/My Drive/Grav_bootcamp/Training_250px/grav/2670.JPG', '/content/drive/My Drive/Grav_bootcamp/Training_250px/grav/2762.JPG', '/content/drive/My Drive/Grav_bootcamp/Training_250px/grav/2974.JPG', '/content/drive/My Drive/Grav_bootcamp/Training_250px/grav/3056.JPG', '/content/drive/My Drive/Grav_bootcamp/Training_250px/grav/3217.JPG', '/content/drive/My Drive/Grav_bootcamp/Training_250px/grav/3237.JPG', '/content/drive/My Drive/Grav_bootcamp/Training_250px/grav/3264.JPG', '/content/drive/My Drive/Grav_bootcamp/Training_250px/grav/3276.JPG', '/content/drive/My Drive/Grav_bootcamp/Training_250px/grav/3331.JPG', '/content/drive/My Drive/Grav_bootcamp/Training_250px/grav/3428.JPG', '/content/drive/My Drive/Grav_bootcamp/Training_250px/grav/3496.JPG', '/content/drive/My Drive/Grav_bootcamp/Training_250px/grav/3532.JPG', '/content/drive/My Drive/Grav_bootcamp/Training_250px/grav/3695.JPG', '/content/drive/My Drive/Grav_bootcamp/Training_250px/grav/3752.JPG', '/content/drive/My Drive/Grav_bootcamp/Training_250px/grav/3843.JPG', '/content/drive/My Drive/Grav_bootcamp/Training_250px/grav/3875.JPG', '/content/drive/My Drive/Grav_bootcamp/Training_250px/grav/3942.JPG', '/content/drive/My Drive/Grav_bootcamp/Training_250px/grav/3976.JPG', '/content/drive/My Drive/Grav_bootcamp/Training_250px/grav/4209.JPG', '/content/drive/My Drive/Grav_bootcamp/Training_250px/grav/4233.JPG', '/content/drive/My Drive/Grav_bootcamp/Training_250px/grav/4344.JPG', '/content/drive/My Drive/Grav_bootcamp/Training_250px/grav/4359.JPG', '/content/drive/My Drive/Grav_bootcamp/Training_250px/grav/4480.JPG', '/content/drive/My Drive/Grav_bootcamp/Training_250px/grav/4540.JPG', '/content/drive/My Drive/Grav_bootcamp/Training_250px/grav/4577.JPG', '/content/drive/My Drive/Grav_bootcamp/Training_250px/grav/4618.JPG', '/content/drive/My Drive/Grav_bootcamp/Training_250px/grav/4628.JPG', '/content/drive/My Drive/Grav_bootcamp/Training_250px/grav/4759.JPG', '/content/drive/My Drive/Grav_bootcamp/Training_250px/grav/4921.JPG', '/content/drive/My Drive/Grav_bootcamp/Training_250px/grav/4930.JPG', '/content/drive/My Drive/Grav_bootcamp/Training_250px/grav/4939.JPG', '/content/drive/My Drive/Grav_bootcamp/Training_250px/grav/4993.JPG', '/content/drive/My Drive/Grav_bootcamp/Training_250px/grav/4997.JPG', '/content/drive/My Drive/Grav_bootcamp/Training_250px/grav/5070.JPG', '/content/drive/My Drive/Grav_bootcamp/Training_250px/grav/5095.JPG', '/content/drive/My Drive/Grav_bootcamp/Training_250px/grav/5203.JPG', '/content/drive/My Drive/Grav_bootcamp/Training_250px/grav/5290.JPG', '/content/drive/My Drive/Grav_bootcamp/Training_250px/grav/5297.JPG', '/content/drive/My Drive/Grav_bootcamp/Training_250px/grav/5323.JPG', '/content/drive/My Drive/Grav_bootcamp/Training_250px/grav/5571.JPG', '/content/drive/My Drive/Grav_bootcamp/Training_250px/grav/5607.JPG', '/content/drive/My Drive/Grav_bootcamp/Training_250px/grav/5646.JPG', '/content/drive/My Drive/Grav_bootcamp/Training_250px/grav/5763.JPG', '/content/drive/My Drive/Grav_bootcamp/Training_250px/grav/5865.JPG', '/content/drive/My Drive/Grav_bootcamp/Training_250px/grav/5888.JPG', '/content/drive/My Drive/Grav_bootcamp/Training_250px/grav/5965.JPG', '/content/drive/My Drive/Grav_bootcamp/Training_250px/grav/6074.JPG', '/content/drive/My Drive/Grav_bootcamp/Training_250px/grav/6298.JPG', '/content/drive/My Drive/Grav_bootcamp/Training_250px/grav/6355.JPG', '/content/drive/My Drive/Grav_bootcamp/Training_250px/grav/6432.JPG', '/content/drive/My Drive/Grav_bootcamp/Training_250px/grav/6486.JPG', '/content/drive/My Drive/Grav_bootcamp/Training_250px/grav/6489.JPG', '/content/drive/My Drive/Grav_bootcamp/Training_250px/grav/6502.JPG', '/content/drive/My Drive/Grav_bootcamp/Training_250px/grav/6707.JPG', '/content/drive/My Drive/Grav_bootcamp/Training_250px/grav/6725.JPG', '/content/drive/My Drive/Grav_bootcamp/Training_250px/grav/6788.JPG', '/content/drive/My Drive/Grav_bootcamp/Training_250px/grav/7166.JPG', '/content/drive/My Drive/Grav_bootcamp/Training_250px/grav/7346.JPG', '/content/drive/My Drive/Grav_bootcamp/Training_250px/grav/7403.JPG', '/content/drive/My Drive/Grav_bootcamp/Training_250px/grav/7419.JPG', '/content/drive/My Drive/Grav_bootcamp/Training_250px/grav/7449.JPG', '/content/drive/My Drive/Grav_bootcamp/Training_250px/grav/7455.JPG', '/content/drive/My Drive/Grav_bootcamp/Training_250px/grav/7534.JPG', '/content/drive/My Drive/Grav_bootcamp/Training_250px/grav/7552.JPG', '/content/drive/My Drive/Grav_bootcamp/Training_250px/grav/7669.JPG', '/content/drive/My Drive/Grav_bootcamp/Training_250px/grav/7745.JPG', '/content/drive/My Drive/Grav_bootcamp/Training_250px/grav/7781.JPG', '/content/drive/My Drive/Grav_bootcamp/Training_250px/grav/7800.JPG', '/content/drive/My Drive/Grav_bootcamp/Training_250px/grav/7879.JPG', '/content/drive/My Drive/Grav_bootcamp/Training_250px/grav/8079.JPG', '/content/drive/My Drive/Grav_bootcamp/Training_250px/grav/8168.JPG', '/content/drive/My Drive/Grav_bootcamp/Training_250px/grav/1432.JPG', '/content/drive/My Drive/Grav_bootcamp/Training_250px/grav/1378.JPG', '/content/drive/My Drive/Grav_bootcamp/Training_250px/grav/507.JPG', '/content/drive/My Drive/Grav_bootcamp/Training_250px/grav/534.jpg', '/content/drive/My Drive/Grav_bootcamp/Training_250px/grav/2664.jpg', '/content/drive/My Drive/Grav_bootcamp/Training_250px/grav/3144.jpg', '/content/drive/My Drive/Grav_bootcamp/Training_250px/grav/2630.jpg', '/content/drive/My Drive/Grav_bootcamp/Training_250px/grav/1503.jpg', '/content/drive/My Drive/Grav_bootcamp/Training_250px/grav/1743.JPG', '/content/drive/My Drive/Grav_bootcamp/Training_250px/grav/4553.JPG']\n"
          ],
          "name": "stdout"
        },
        {
          "output_type": "execute_result",
          "data": {
            "application/vnd.google.colaboratory.intrinsic+json": {
              "type": "string"
            },
            "text/plain": [
              "'\\n#画像のサイズを確認\\nfor i in im_list:\\n    img = Image.open(i)\\n    width, height = img.size\\n    print(\"width:\"+str(width)+\", height:\"+str(height)+\", width/height:\"+str(width/height))\\n'"
            ]
          },
          "metadata": {
            "tags": []
          },
          "execution_count": 31
        }
      ]
    },
    {
      "cell_type": "code",
      "metadata": {
        "id": "EMlga1VRsaj_",
        "colab_type": "code",
        "colab": {}
      },
      "source": [
        "\n",
        "im_list = img_path[0:16]\n",
        "im = [0]*16\n",
        "\n",
        "k=0\n",
        "j=0\n",
        "m=1\n",
        "for i in img_path:\n",
        "    im_list = img_path[k:k+16]\n",
        "\n",
        "    j=0\n",
        "    for i in im_list:\n",
        "        im[j] = Image.open(i)\n",
        "        j+=1\n",
        "    get_concat_tile_resize([[im[0],im[1],im[2],im[3],im[4],im[5],im[6],im[7]],[im[8],im[9],im[10],im[11],im[12],im[13],im[14],im[15]]]).save(\"/content/test\"+str(m)+\".jpg\")\n",
        "    m+=1\n",
        "    k+=16"
      ],
      "execution_count": 38,
      "outputs": []
    }
  ]
}