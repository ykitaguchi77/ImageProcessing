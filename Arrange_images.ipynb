{
  "nbformat": 4,
  "nbformat_minor": 0,
  "metadata": {
    "colab": {
      "name": "Untitled51.ipynb",
      "provenance": [],
      "toc_visible": true,
      "authorship_tag": "ABX9TyPpM9A+bD2Lq5BYZBHVggaI",
      "include_colab_link": true
    },
    "kernelspec": {
      "name": "python3",
      "display_name": "Python 3"
    }
  },
  "cells": [
    {
      "cell_type": "markdown",
      "metadata": {
        "id": "view-in-github",
        "colab_type": "text"
      },
      "source": [
        "<a href=\"https://colab.research.google.com/github/ykitaguchi77/ImageProcessing/blob/master/Arrange_images.ipynb\" target=\"_parent\"><img src=\"https://colab.research.google.com/assets/colab-badge.svg\" alt=\"Open In Colab\"/></a>"
      ]
    },
    {
      "cell_type": "code",
      "metadata": {
        "id": "11TM-66q8kss",
        "colab_type": "code",
        "colab": {
          "base_uri": "https://localhost:8080/",
          "height": 127
        },
        "outputId": "e87b7174-30be-46f6-b1db-19866124234c"
      },
      "source": [
        "from PIL import Image\n",
        "import glob\n",
        "\n",
        "#Google colabをマウント\n",
        "from google.colab import drive\n",
        "drive.mount('/content/drive')"
      ],
      "execution_count": 1,
      "outputs": [
        {
          "output_type": "stream",
          "text": [
            "Go to this URL in a browser: https://accounts.google.com/o/oauth2/auth?client_id=947318989803-6bn6qk8qdgf4n4g3pfee6491hc0brc4i.apps.googleusercontent.com&redirect_uri=urn%3aietf%3awg%3aoauth%3a2.0%3aoob&scope=email%20https%3a%2f%2fwww.googleapis.com%2fauth%2fdocs.test%20https%3a%2f%2fwww.googleapis.com%2fauth%2fdrive%20https%3a%2f%2fwww.googleapis.com%2fauth%2fdrive.photos.readonly%20https%3a%2f%2fwww.googleapis.com%2fauth%2fpeopleapi.readonly&response_type=code\n",
            "\n",
            "Enter your authorization code:\n",
            "··········\n",
            "Mounted at /content/drive\n"
          ],
          "name": "stdout"
        }
      ]
    },
    {
      "cell_type": "markdown",
      "metadata": {
        "id": "Q5n6v0ZcVluL",
        "colab_type": "text"
      },
      "source": [
        "#**画像の配列**\n",
        "参考サイト： https://note.nkmk.me/python-pillow-concat-images/"
      ]
    },
    {
      "cell_type": "code",
      "metadata": {
        "id": "RvOs1hr0R_3C",
        "colab_type": "code",
        "colab": {}
      },
      "source": [
        "def get_concat_h_multi_resize(im_list, resample=Image.BICUBIC):\n",
        "    min_height = min(im.height for im in im_list)\n",
        "    im_list_resize = [im.resize((int(im.width * min_height / im.height), min_height),resample=resample)\n",
        "                      for im in im_list]\n",
        "    total_width = sum(im.width for im in im_list_resize)\n",
        "    dst = Image.new('RGB', (total_width, min_height))\n",
        "    pos_x = 0\n",
        "    for im in im_list_resize:\n",
        "        dst.paste(im, (pos_x, 0))\n",
        "        pos_x += im.width\n",
        "    return dst\n",
        "\n",
        "def get_concat_v_multi_resize(im_list, resample=Image.BICUBIC):\n",
        "    min_width = min(im.width for im in im_list)\n",
        "    im_list_resize = [im.resize((min_width, int(im.height * min_width / im.width)),resample=resample)\n",
        "                      for im in im_list]\n",
        "    total_height = sum(im.height for im in im_list_resize)\n",
        "    dst = Image.new('RGB', (min_width, total_height))\n",
        "    pos_y = 0\n",
        "    for im in im_list_resize:\n",
        "        dst.paste(im, (0, pos_y))\n",
        "        pos_y += im.height\n",
        "    return dst\n",
        "\n",
        "def get_concat_tile_resize(im_list_2d, resample=Image.BICUBIC):\n",
        "    im_list_v = [get_concat_h_multi_resize(im_list_h, resample=resample) for im_list_h in im_list_2d]\n",
        "    return get_concat_v_multi_resize(im_list_v, resample=resample)"
      ],
      "execution_count": 7,
      "outputs": []
    },
    {
      "cell_type": "code",
      "metadata": {
        "id": "HONHBUgSBHhe",
        "colab_type": "code",
        "colab": {
          "base_uri": "https://localhost:8080/",
          "height": 145
        },
        "outputId": "2cc45e07-dc13-4e5a-c69f-524d86492b5f"
      },
      "source": [
        "#画像のリストを取得\n",
        "img_path = glob.glob(\"/content/drive/My Drive/Grav_bootcamp/Training_250px/grav/*\")\n",
        "print(len(img_path))\n",
        "#print(img_path)\n",
        "\n",
        "#画像を入れるリストを用意\n",
        "im_list = img_path[0:16]\n",
        "print(len(im_list))\n",
        "print(im_list)\n",
        "\n",
        "\"\"\"\n",
        "#画像のサイズを確認\n",
        "for i in im_list:\n",
        "    img = Image.open(i)\n",
        "    width, height = img.size\n",
        "    print(\"width:\"+str(width)+\", height:\"+str(height)+\", width/height:\"+str(width/height))\n",
        "\"\"\""
      ],
      "execution_count": 27,
      "outputs": [
        {
          "output_type": "stream",
          "text": [
            "230\n",
            "16\n",
            "['/content/drive/My Drive/Grav_bootcamp/Training_250px/grav/2853.jpg', '/content/drive/My Drive/Grav_bootcamp/Training_250px/grav/5015.jpg', '/content/drive/My Drive/Grav_bootcamp/Training_250px/grav/4681.jpg', '/content/drive/My Drive/Grav_bootcamp/Training_250px/grav/2644.jpg', '/content/drive/My Drive/Grav_bootcamp/Training_250px/grav/2900.jpg', '/content/drive/My Drive/Grav_bootcamp/Training_250px/grav/6599.jpg', '/content/drive/My Drive/Grav_bootcamp/Training_250px/grav/4486.jpg', '/content/drive/My Drive/Grav_bootcamp/Training_250px/grav/5673.jpg', '/content/drive/My Drive/Grav_bootcamp/Training_250px/grav/6965.jpg', '/content/drive/My Drive/Grav_bootcamp/Training_250px/grav/2042.jpg', '/content/drive/My Drive/Grav_bootcamp/Training_250px/grav/7077.jpg', '/content/drive/My Drive/Grav_bootcamp/Training_250px/grav/2960.jpg', '/content/drive/My Drive/Grav_bootcamp/Training_250px/grav/429.jpg', '/content/drive/My Drive/Grav_bootcamp/Training_250px/grav/3759.jpg', '/content/drive/My Drive/Grav_bootcamp/Training_250px/grav/5890.jpg', '/content/drive/My Drive/Grav_bootcamp/Training_250px/grav/6855.jpg']\n"
          ],
          "name": "stdout"
        },
        {
          "output_type": "execute_result",
          "data": {
            "application/vnd.google.colaboratory.intrinsic+json": {
              "type": "string"
            },
            "text/plain": [
              "'\\n#画像のサイズを確認\\nfor i in im_list:\\n    img = Image.open(i)\\n    width, height = img.size\\n    print(\"width:\"+str(width)+\", height:\"+str(height)+\", width/height:\"+str(width/height))\\n'"
            ]
          },
          "metadata": {
            "tags": []
          },
          "execution_count": 27
        }
      ]
    },
    {
      "cell_type": "code",
      "metadata": {
        "id": "EMlga1VRsaj_",
        "colab_type": "code",
        "colab": {}
      },
      "source": [
        "im = [0]*len(im_list)\n",
        "\n",
        "k=0\n",
        "for i in im_list:\n",
        "    im[k] = Image.open(i)\n",
        "    k+=1\n",
        "\n",
        "get_concat_tile_resize([[im[0],im[1],im[2],im[3],im[4],im[5],im[6],im[7]],[im[8],im[9],im[10],im[11],im[12],im[13],im[14],im[15]]]).save('/content/test.jpg')\n"
      ],
      "execution_count": 29,
      "outputs": []
    }
  ]
}