{
  "nbformat": 4,
  "nbformat_minor": 0,
  "metadata": {
    "colab": {
      "name": "Untitled40.ipynb",
      "provenance": [],
      "toc_visible": true,
      "include_colab_link": true
    },
    "kernelspec": {
      "name": "python3",
      "display_name": "Python 3"
    },
    "accelerator": "GPU"
  },
  "cells": [
    {
      "cell_type": "markdown",
      "metadata": {
        "id": "view-in-github",
        "colab_type": "text"
      },
      "source": [
        "<a href=\"https://colab.research.google.com/github/ykitaguchi77/ImageProcessing/blob/master/Square_resize_multi_1.1.ipynb\" target=\"_parent\"><img src=\"https://colab.research.google.com/assets/colab-badge.svg\" alt=\"Open In Colab\"/></a>"
      ]
    },
    {
      "cell_type": "markdown",
      "metadata": {
        "id": "FT-uBcZ9PSmm",
        "colab_type": "text"
      },
      "source": [
        "#Square_resize_multi_250pix\n",
        "\n",
        "長方形を、長辺を一辺とした正方形にresizeし余白を黒く塗りつぶした上で、250pixに縮小するスクリプト"
      ]
    },
    {
      "cell_type": "code",
      "metadata": {
        "id": "5yQwABlGCXgh",
        "colab_type": "code",
        "outputId": "8e45b69d-ac2c-47e2-ff18-488172055cbe",
        "colab": {
          "base_uri": "https://localhost:8080/",
          "height": 55
        }
      },
      "source": [
        "import numpy as np\n",
        "import matplotlib.pyplot as plt\n",
        "import time\n",
        "import os\n",
        "import copy\n",
        "import pandas as pd\n",
        "import csv\n",
        "from random import randint\n",
        "from time import sleep\n",
        "import math\n",
        "\n",
        "import glob\n",
        "import random\n",
        "from PIL import Image\n",
        "%matplotlib inline\n",
        "\n",
        "#サポートパッチのインポート\n",
        "from google.colab.patches import cv2_imshow\n",
        "import cv2\n",
        "\n",
        "plt.ion()   # interactive mode\n",
        "\n",
        "#Google driveをマウント\n",
        "from google.colab import drive\n",
        "drive.mount('/content/drive')\n"
      ],
      "execution_count": 11,
      "outputs": [
        {
          "output_type": "stream",
          "text": [
            "Drive already mounted at /content/drive; to attempt to forcibly remount, call drive.mount(\"/content/drive\", force_remount=True).\n"
          ],
          "name": "stdout"
        }
      ]
    },
    {
      "cell_type": "code",
      "metadata": {
        "id": "KgonyabnQJcE",
        "colab_type": "code",
        "outputId": "18732a0a-1df7-457e-9956-0f3445653c06",
        "colab": {
          "base_uri": "https://localhost:8080/",
          "height": 92
        }
      },
      "source": [
        "#元画像フォルダ\n",
        "in_path = '/content/drive/My Drive/Deep_learning/grav_add'\n",
        "\n",
        "#保存先フォルダ\n",
        "out_path = '/content/drive/My Drive/Deep_learning/gravcont_processed/grav_processed'\n",
        "\n",
        "#処理するDirectoryの設定\n",
        "file = os.listdir(in_path)\n",
        "print(len(file))\n",
        "\n",
        "#ここにフォルダ番号を記載する (ex. [0:999])\n",
        "processing_file = file[0:999]\n",
        "print(processing_file)\n",
        "len(processing_file)"
      ],
      "execution_count": 12,
      "outputs": [
        {
          "output_type": "stream",
          "text": [
            "315\n",
            "['1841.jpg', '2007.JPG', '1773.JPG', '1910.JPG', '1815.JPG', '1743.JPG', '1786.JPG', '17.jpg', '180.jpg', '1729.JPG', '1682.jpg', '1553.jpg', '1764.JPG', '155.jpg', '1528.JPG', '1597.JPG', '1525.jpg', '1446.JPG', '1524.jpg', '1664.JPG', '1457.jpg', '1503.jpg', '1508.jpg', '1483.jpg', '1453.jpg', '1501.JPG', '1438.jpg', '129.jpg', '1333.JPG', '1313.JPG', '1385.jpg', '1370.JPG', '1429.jpg', '1396.jpg', '1432.JPG', '1309.JPG', '1378.JPG', '1336.JPG', '1357.jpg', '1284.jpg', '1347.jpg', '1037.jpg', '1041.JPG', '1088.jpg', '1231.JPG', '1259.JPG', '122.jpg', '1270.jpg', '1020.jpg', '1304.jpg', '1001.jpg', '3079.JPG', '2630.jpg', '2837.jpg', '2900.jpg', '2851.jpg', '2853.jpg', '2508.jpg', '2794.jpg', '2885.JPG', '2960.jpg', '2803.jpg', '2974.JPG', '2231.jpg', '2765.JPG', '1995.jpg', '2709.jpg', '2762.JPG', '24.jpg', '2670.JPG', '2510.jpg', '2523.JPG', '2644.jpg', '2557.JPG', '1931.jpg', '2436.JPG', '2407.JPG', '2321.jpg', '2370.jpg', '19.jpg', '2042.jpg', '2189.JPG', '2148.jpg', '2182.JPG', '2203.jpg', '2222.JPG', '2307.jpg', '374.jpg', '4540.JPG', '3600.jpg', '4388.JPG', '4480.JPG', '4382.jpg', '4292.jpg', '4272.jpg', '426.JPG', '425.jpg', '4331.jpg', '4233.JPG', '429.jpg', '3528.jpg', '4069.jpg', '4186.JPG', '4209.JPG', '3352.jpg', '4008.jpg', '385.jpg', '3942.JPG', '3956.JPG', '4030.jpg', '3918.jpg', '3162.jpg', '3875.JPG', '36.jpg', '3144.jpg', '3752.JPG', '3695.JPG', '3714.jpg', '3809.jpg', '3684.jpg', '3802.jpg', '3843.JPG', '3646.jpg', '3046.jpg', '3609.JPG', '2941.jpg', '3532.JPG', '3276.JPG', '3412.JPG', '3568.jpg', '3484.jpg', '3496.JPG', '3444.jpg', '3472.jpg', '3502.jpg', '2801.jpg', '3331.JPG', '2689.jpg', '3164.jpg', '3217.JPG', '3264.JPG', '3077.jpg', '3237.JPG', '3056.JPG', '3128.jpg', '3176.jpg', '3146.JPG', '2684.jpg', '5586.jpg', '5888.JPG', '5865.JPG', '5965.JPG', '5838.JPG', '5768.jpg', '5913.jpg', '5763.JPG', '5890.jpg', '5551.jpg', '5880.JPG', '5550.jpg', '5673.jpg', '5546.jpg', '57.jpg', '5543.JPG', '5607.JPG', '5582.JPG', '5571.JPG', '5540.jpg', '555.JPG', '5541.jpg', '5646.JPG', '533.jpg', '5297.JPG', '5490.jpg', '5290.JPG', '5323.JPG', '5299.jpg', '5273.JPG', '5333.jpg', '534.jpg', '5378.jpg', '5260.jpg', '5426.JPG', '502.jpg', '5125.jpg', '5069.jpg', '4713.jpg', '507.JPG', '5015.jpg', '4997.JPG', '5203.JPG', '5021.JPG', '5095.JPG', '5237.JPG', '5070.JPG', '466.jpg', '4813.JPG', '4930.JPG', '4993.JPG', '4939.JPG', '4822.jpg', '4958.jpg', '4874.jpg', '489.JPG', '4921.JPG', '4606.jpg', '4881.JPG', '4465.jpg', '4206.jpg', '465.jpg', '4125.jpg', '4486.jpg', '4759.JPG', '4710.JPG', '4805.jpg', '4588.jpg', '4628.JPG', '4618.JPG', '4577.JPG', '7443.JPG', '7644.JPG', '7449.JPG', '7527.JPG', '7534.JPG', '7507.jpg', '7455.JPG', '6579.jpg', '7419.JPG', '6518.jpg', '7349.jpg', '7283.jpg', '7166.JPG', '7403.JPG', '7397.JPG', '724.JPG', '7302.JPG', '7291.jpg', '7346.JPG', '6297.jpg', '718.jpg', '6269.jpg', '7025.jpg', '7161.jpg', '7049.jpg', '6150.jpg', '6989.jpg', '6764.jpg', '6806.jpg', '6707.JPG', '6965.jpg', '6788.JPG', '6725.JPG', '6147.jpg', '6662.jpg', '6553.jpg', '5901.jpg', '6489.JPG', '6654.jpg', '6599.jpg', '6502.JPG', '6513.JPG', '6478.jpg', '6555.jpg', '5758.jpg', '6486.JPG', '5692.jpg', '6432.JPG', '6283.JPG', '6074.JPG', '6320.jpg', '6298.JPG', '6355.JPG', '6003.jpg', '5681.jpg', '611.jpg', '63.jpg', '5647.jpg', '5989.JPG', '5906.jpg', '950.JPG', '787.JPG', '8079.JPG', '7874.JPG', '8168.JPG', '7900.jpg', '7870.jpg', '7867.jpg', '8105.jpg', '7987.JPG', '7936.jpg', '7879.JPG', '7709.jpg', '7763.jpg', '7290.jpg', '7681.JPG', '7781.JPG', '7669.JPG', '7800.JPG', '7798.jpg', '7745.JPG', '7765.jpg', '6855.jpg', '782.JPG', '7436.jpg', '7552.JPG', '6663.jpg', '957.JPG', '977.JPG', '983.JPG', '965.JPG', '8198.jpg', '818.jpg', '893.jpg', '876.jpg', '8184.JPG']\n"
          ],
          "name": "stdout"
        },
        {
          "output_type": "execute_result",
          "data": {
            "text/plain": [
              "315"
            ]
          },
          "metadata": {
            "tags": []
          },
          "execution_count": 12
        }
      ]
    },
    {
      "cell_type": "markdown",
      "metadata": {
        "id": "iqsMRCoLSXFQ",
        "colab_type": "text"
      },
      "source": [
        "#正しく処理されているかを確認（保存無し）"
      ]
    },
    {
      "cell_type": "code",
      "metadata": {
        "id": "u4oL1ceVQxaL",
        "colab_type": "code",
        "colab": {}
      },
      "source": [
        "def expand2square(pil_img, background_color):\n",
        "    width, height = pil_img.size\n",
        "    if width == height:\n",
        "        return pil_img\n",
        "    elif width > height:\n",
        "        result = Image.new(pil_img.mode, (width, width), background_color)\n",
        "        result.paste(pil_img, (0, (width-height)//2))\n",
        "        return result\n",
        "    else:\n",
        "        result = Image.new(pil_img.mode, (height, height), background_color)\n",
        "        result.paste(pil_img, (0, (height - width) // 2))\n",
        "        return result"
      ],
      "execution_count": 0,
      "outputs": []
    },
    {
      "cell_type": "code",
      "metadata": {
        "id": "5WtKJxuwQ8kF",
        "colab_type": "code",
        "colab": {}
      },
      "source": [
        "#処理時間の計測\n",
        "start = time.time()\n",
        "\n",
        "l=0\n",
        "for i in processing_file:      \n",
        "      img = Image.open(in_path + '/' + i)\n",
        "      img_new = expand2square(img, (0, 0, 0)).resize((250, 250))\n",
        "      #img_new.save(out_path +'/'+ str(i))\n",
        "      print(out_path +'/'+ str(i))\n",
        "      \n",
        "      #切り取った画像を表示\n",
        "      plt.imshow(np.asarray(img_new))\n",
        "      plt.show()\n",
        "\n",
        "print('Process done!!')\n",
        "elapsed_time = time.time() - start\n",
        "print (\"elapsed_time:{0}\".format(elapsed_time) + \"[sec]\")"
      ],
      "execution_count": 0,
      "outputs": []
    },
    {
      "cell_type": "markdown",
      "metadata": {
        "id": "nzQon-jiSd2J",
        "colab_type": "text"
      },
      "source": [
        "#保存あり"
      ]
    },
    {
      "cell_type": "code",
      "metadata": {
        "id": "zLwAJH8MSh8o",
        "colab_type": "code",
        "outputId": "b2fe1534-f507-47e8-e587-97ebff352a27",
        "colab": {
          "base_uri": "https://localhost:8080/",
          "height": 395
        }
      },
      "source": [
        "#処理時間の計測\n",
        "start = time.time()\n",
        "\n",
        "l=0\n",
        "for i in processing_file:      \n",
        "      img = Image.open(in_path + '/' + i)\n",
        "      img_new = expand2square(img, (0, 0, 0)).resize((250, 250))\n",
        "      img_new.save(out_path +'/'+ str(i))\n",
        "      print(out_path +'/'+ str(i))\n",
        "      \n",
        "      #切り取った画像を表示\n",
        "      #plt.imshow(np.asarray(img_new))\n",
        "      #plt.show()\n",
        "\n",
        "print('Process done!!')\n",
        "elapsed_time = time.time() - start\n",
        "print (\"elapsed_time:{0}\".format(elapsed_time) + \"[sec]\")"
      ],
      "execution_count": 14,
      "outputs": [
        {
          "output_type": "error",
          "ename": "FileNotFoundError",
          "evalue": "ignored",
          "traceback": [
            "\u001b[0;31m---------------------------------------------------------------------------\u001b[0m",
            "\u001b[0;31mFileNotFoundError\u001b[0m                         Traceback (most recent call last)",
            "\u001b[0;32m<ipython-input-14-eeb12d1584fe>\u001b[0m in \u001b[0;36m<module>\u001b[0;34m()\u001b[0m\n\u001b[1;32m      5\u001b[0m       \u001b[0mimg\u001b[0m \u001b[0;34m=\u001b[0m \u001b[0mImage\u001b[0m\u001b[0;34m.\u001b[0m\u001b[0mopen\u001b[0m\u001b[0;34m(\u001b[0m\u001b[0min_path\u001b[0m \u001b[0;34m+\u001b[0m \u001b[0;34m'/'\u001b[0m \u001b[0;34m+\u001b[0m \u001b[0mi\u001b[0m\u001b[0;34m)\u001b[0m\u001b[0;34m\u001b[0m\u001b[0;34m\u001b[0m\u001b[0m\n\u001b[1;32m      6\u001b[0m       \u001b[0mimg_new\u001b[0m \u001b[0;34m=\u001b[0m \u001b[0mexpand2square\u001b[0m\u001b[0;34m(\u001b[0m\u001b[0mimg\u001b[0m\u001b[0;34m,\u001b[0m \u001b[0;34m(\u001b[0m\u001b[0;36m0\u001b[0m\u001b[0;34m,\u001b[0m \u001b[0;36m0\u001b[0m\u001b[0;34m,\u001b[0m \u001b[0;36m0\u001b[0m\u001b[0;34m)\u001b[0m\u001b[0;34m)\u001b[0m\u001b[0;34m.\u001b[0m\u001b[0mresize\u001b[0m\u001b[0;34m(\u001b[0m\u001b[0;34m(\u001b[0m\u001b[0;36m250\u001b[0m\u001b[0;34m,\u001b[0m \u001b[0;36m250\u001b[0m\u001b[0;34m)\u001b[0m\u001b[0;34m)\u001b[0m\u001b[0;34m\u001b[0m\u001b[0;34m\u001b[0m\u001b[0m\n\u001b[0;32m----> 7\u001b[0;31m       \u001b[0mimg_new\u001b[0m\u001b[0;34m.\u001b[0m\u001b[0msave\u001b[0m\u001b[0;34m(\u001b[0m\u001b[0mout_path\u001b[0m \u001b[0;34m+\u001b[0m\u001b[0;34m'/'\u001b[0m\u001b[0;34m+\u001b[0m \u001b[0mstr\u001b[0m\u001b[0;34m(\u001b[0m\u001b[0mi\u001b[0m\u001b[0;34m)\u001b[0m\u001b[0;34m)\u001b[0m\u001b[0;34m\u001b[0m\u001b[0;34m\u001b[0m\u001b[0m\n\u001b[0m\u001b[1;32m      8\u001b[0m       \u001b[0mprint\u001b[0m\u001b[0;34m(\u001b[0m\u001b[0mout_path\u001b[0m \u001b[0;34m+\u001b[0m\u001b[0;34m'/'\u001b[0m\u001b[0;34m+\u001b[0m \u001b[0mstr\u001b[0m\u001b[0;34m(\u001b[0m\u001b[0mi\u001b[0m\u001b[0;34m)\u001b[0m\u001b[0;34m)\u001b[0m\u001b[0;34m\u001b[0m\u001b[0;34m\u001b[0m\u001b[0m\n\u001b[1;32m      9\u001b[0m \u001b[0;34m\u001b[0m\u001b[0m\n",
            "\u001b[0;32m/usr/local/lib/python3.6/dist-packages/PIL/Image.py\u001b[0m in \u001b[0;36msave\u001b[0;34m(self, fp, format, **params)\u001b[0m\n\u001b[1;32m   2097\u001b[0m                 \u001b[0mfp\u001b[0m \u001b[0;34m=\u001b[0m \u001b[0mbuiltins\u001b[0m\u001b[0;34m.\u001b[0m\u001b[0mopen\u001b[0m\u001b[0;34m(\u001b[0m\u001b[0mfilename\u001b[0m\u001b[0;34m,\u001b[0m \u001b[0;34m\"r+b\"\u001b[0m\u001b[0;34m)\u001b[0m\u001b[0;34m\u001b[0m\u001b[0;34m\u001b[0m\u001b[0m\n\u001b[1;32m   2098\u001b[0m             \u001b[0;32melse\u001b[0m\u001b[0;34m:\u001b[0m\u001b[0;34m\u001b[0m\u001b[0;34m\u001b[0m\u001b[0m\n\u001b[0;32m-> 2099\u001b[0;31m                 \u001b[0mfp\u001b[0m \u001b[0;34m=\u001b[0m \u001b[0mbuiltins\u001b[0m\u001b[0;34m.\u001b[0m\u001b[0mopen\u001b[0m\u001b[0;34m(\u001b[0m\u001b[0mfilename\u001b[0m\u001b[0;34m,\u001b[0m \u001b[0;34m\"w+b\"\u001b[0m\u001b[0;34m)\u001b[0m\u001b[0;34m\u001b[0m\u001b[0;34m\u001b[0m\u001b[0m\n\u001b[0m\u001b[1;32m   2100\u001b[0m \u001b[0;34m\u001b[0m\u001b[0m\n\u001b[1;32m   2101\u001b[0m         \u001b[0;32mtry\u001b[0m\u001b[0;34m:\u001b[0m\u001b[0;34m\u001b[0m\u001b[0;34m\u001b[0m\u001b[0m\n",
            "\u001b[0;31mFileNotFoundError\u001b[0m: [Errno 2] No such file or directory: '/content/drive/My Drive/Deep_learning/gravcont_processed/grav_processed/1841.jpg'"
          ]
        }
      ]
    }
  ]
}