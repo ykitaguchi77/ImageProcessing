{
  "nbformat": 4,
  "nbformat_minor": 0,
  "metadata": {
    "colab": {
      "name": "Untitled38.ipynb",
      "provenance": [],
      "toc_visible": true,
      "authorship_tag": "ABX9TyO4JnkUpZaL08ZFJIDuNczU",
      "include_colab_link": true
    },
    "kernelspec": {
      "name": "python3",
      "display_name": "Python 3"
    }
  },
  "cells": [
    {
      "cell_type": "markdown",
      "metadata": {
        "id": "view-in-github",
        "colab_type": "text"
      },
      "source": [
        "<a href=\"https://colab.research.google.com/github/ykitaguchi77/ImageProcessing/blob/master/%E6%8C%87%E5%AE%9A%E3%83%95%E3%82%A9%E3%83%AB%E3%83%80%E5%86%85%E3%81%AE%E3%83%95%E3%82%A1%E3%82%A4%E3%83%AB%E3%82%92%E3%81%99%E3%81%B9%E3%81%A6%E5%89%8A%E9%99%A4.ipynb\" target=\"_parent\"><img src=\"https://colab.research.google.com/assets/colab-badge.svg\" alt=\"Open In Colab\"/></a>"
      ]
    },
    {
      "cell_type": "markdown",
      "metadata": {
        "id": "JMAUB1ZyQ0zo",
        "colab_type": "text"
      },
      "source": [
        "#指定フォルダ内のファイルをすべて削除するスクリプト"
      ]
    },
    {
      "cell_type": "code",
      "metadata": {
        "id": "mIbxw5IvQzkL",
        "colab_type": "code",
        "outputId": "2e5c57b0-ded9-4514-f23b-b4f6f723d85e",
        "colab": {
          "base_uri": "https://localhost:8080/",
          "height": 173
        }
      },
      "source": [
        "from google.colab import drive\n",
        "drive.mount('/content/drive')"
      ],
      "execution_count": 1,
      "outputs": [
        {
          "output_type": "stream",
          "text": [
            "Go to this URL in a browser: https://accounts.google.com/o/oauth2/auth?client_id=947318989803-6bn6qk8qdgf4n4g3pfee6491hc0brc4i.apps.googleusercontent.com&redirect_uri=urn%3aietf%3awg%3aoauth%3a2.0%3aoob&response_type=code&scope=email%20https%3a%2f%2fwww.googleapis.com%2fauth%2fdocs.test%20https%3a%2f%2fwww.googleapis.com%2fauth%2fdrive%20https%3a%2f%2fwww.googleapis.com%2fauth%2fdrive.photos.readonly%20https%3a%2f%2fwww.googleapis.com%2fauth%2fpeopleapi.readonly\n",
            "\n",
            "Enter your authorization code:\n",
            "··········\n",
            "Mounted at /content/drive\n",
            "Tue, 28 Apr 2020 10:43:23 +0000\n",
            "Tue, 28 Apr 2020 10:43:29 +0000\n",
            "drive  sample_data  train  val\n"
          ],
          "name": "stdout"
        }
      ]
    },
    {
      "cell_type": "markdown",
      "metadata": {
        "id": "T9C4DBVLVIW-",
        "colab_type": "text"
      },
      "source": [
        "#フォルダ内のファイルのみ削除したいとき（ファイル形式でないものは残る）"
      ]
    },
    {
      "cell_type": "code",
      "metadata": {
        "id": "3SDuI8-qRA3R",
        "colab_type": "code",
        "colab": {}
      },
      "source": [
        "import os\n",
        "\n",
        "directory = 'ここにパスをコピペ'\n",
        "files = os.listdir(directory)\n",
        "print(directory)\n",
        "print(files)\n",
        "\n",
        "for i in files:\n",
        "    try:\n",
        "        os.remove(directory+'/'+i)\n",
        "    except IsADirectoryError:\n",
        "        pass"
      ],
      "execution_count": 0,
      "outputs": []
    },
    {
      "cell_type": "markdown",
      "metadata": {
        "id": "uSsk3vQtVjJ9",
        "colab_type": "text"
      },
      "source": [
        "#フォルダごと削除したいとき"
      ]
    },
    {
      "cell_type": "code",
      "metadata": {
        "id": "zotDrrhQVjEG",
        "colab_type": "code",
        "colab": {}
      },
      "source": [
        "import shutil\n",
        "\n",
        "directory = 'ここにパスをコピペ'\n",
        "\n",
        "try:\n",
        "    shutil.rmtree(directory)\n",
        "except FileNotFoundError:\n",
        "    pass"
      ],
      "execution_count": 0,
      "outputs": []
    },
    {
      "cell_type": "markdown",
      "metadata": {
        "id": "IpMSHcG6YoIZ",
        "colab_type": "text"
      },
      "source": [
        "#フォルダそのものは残して中身だけ削除したいとき"
      ]
    },
    {
      "cell_type": "code",
      "metadata": {
        "id": "CNeFlpb6WVNu",
        "colab_type": "code",
        "colab": {}
      },
      "source": [
        "import shutil\n",
        "\n",
        "directory = 'ここにパスをコピペ'\n",
        "\n",
        "try:\n",
        "    shutil.rmtree(directory)\n",
        "except FileNotFoundError:\n",
        "    pass\n",
        "\n",
        "#同名のフォルダを作成する\n",
        "os.mkdir(directory)\n"
      ],
      "execution_count": 0,
      "outputs": []
    }
  ]
}