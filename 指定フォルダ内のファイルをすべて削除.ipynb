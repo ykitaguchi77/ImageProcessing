{
  "nbformat": 4,
  "nbformat_minor": 0,
  "metadata": {
    "colab": {
      "name": "Untitled38.ipynb",
      "provenance": [],
      "authorship_tag": "ABX9TyOmZTVq6Td0p4n1b6NjNDSc",
      "include_colab_link": true
    },
    "kernelspec": {
      "name": "python3",
      "display_name": "Python 3"
    }
  },
  "cells": [
    {
      "cell_type": "markdown",
      "metadata": {
        "id": "view-in-github",
        "colab_type": "text"
      },
      "source": [
        "<a href=\"https://colab.research.google.com/github/ykitaguchi77/ImageProcessing/blob/master/%E6%8C%87%E5%AE%9A%E3%83%95%E3%82%A9%E3%83%AB%E3%83%80%E5%86%85%E3%81%AE%E3%83%95%E3%82%A1%E3%82%A4%E3%83%AB%E3%82%92%E3%81%99%E3%81%B9%E3%81%A6%E5%89%8A%E9%99%A4.ipynb\" target=\"_parent\"><img src=\"https://colab.research.google.com/assets/colab-badge.svg\" alt=\"Open In Colab\"/></a>"
      ]
    },
    {
      "cell_type": "code",
      "metadata": {
        "id": "GgKfsJAzRNXX",
        "colab_type": "code",
        "colab": {}
      },
      "source": [
        "import os"
      ],
      "execution_count": 0,
      "outputs": []
    },
    {
      "cell_type": "markdown",
      "metadata": {
        "id": "JMAUB1ZyQ0zo",
        "colab_type": "text"
      },
      "source": [
        "#指定フォルダ内のファイルをすべて削除するスクリプト"
      ]
    },
    {
      "cell_type": "code",
      "metadata": {
        "id": "mIbxw5IvQzkL",
        "colab_type": "code",
        "colab": {
          "base_uri": "https://localhost:8080/",
          "height": 34
        },
        "outputId": "14ad5d72-d93f-4337-bcef-15b6e1faea65"
      },
      "source": [
        "from google.colab import drive\n",
        "drive.mount('/content/drive')"
      ],
      "execution_count": 11,
      "outputs": [
        {
          "output_type": "stream",
          "text": [
            "Drive already mounted at /content/drive; to attempt to forcibly remount, call drive.mount(\"/content/drive\", force_remount=True).\n"
          ],
          "name": "stdout"
        }
      ]
    },
    {
      "cell_type": "code",
      "metadata": {
        "id": "3SDuI8-qRA3R",
        "colab_type": "code",
        "colab": {
          "base_uri": "https://localhost:8080/",
          "height": 72
        },
        "outputId": "d8e8796e-2e51-419b-fa67-76f9f0904d5b"
      },
      "source": [
        "directory = '/content/drive/My Drive/Deep_learning/eyelid_images/out'\n",
        "files = os.listdir(directory)\n",
        "print(directory)\n",
        "print(files)\n",
        "\n",
        "for i in files:\n",
        "    try:\n",
        "        os.remove(directory+'/'+i)\n",
        "    except IsADirectoryError:\n",
        "        pass"
      ],
      "execution_count": 16,
      "outputs": [
        {
          "output_type": "stream",
          "text": [
            "/content/drive/My Drive/Deep_learning/eyelid_images/out\n",
            "['.ipynb_checkpoints', '2.jpg', '3.jpg', '6.jpg', '12.jpg', '14.jpg', '11.jpg', '15.jpg', '8.jpg', '7.jpg', '9.jpg', '10.jpg', '4.jpg', '5.jpg', '13.jpg', '17.jpg', '16.jpg', '1.jpg']\n"
          ],
          "name": "stdout"
        }
      ]
    }
  ]
}