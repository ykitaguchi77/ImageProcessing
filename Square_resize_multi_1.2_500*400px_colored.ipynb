{
  "nbformat": 4,
  "nbformat_minor": 0,
  "metadata": {
    "colab": {
      "name": "Untitled40.ipynb",
      "provenance": [],
      "toc_visible": true,
      "include_colab_link": true
    },
    "kernelspec": {
      "name": "python3",
      "display_name": "Python 3"
    }
  },
  "cells": [
    {
      "cell_type": "markdown",
      "metadata": {
        "id": "view-in-github",
        "colab_type": "text"
      },
      "source": [
        "<a href=\"https://colab.research.google.com/github/ykitaguchi77/ImageProcessing/blob/master/Square_resize_multi_1.2_500*400px_colored.ipynb\" target=\"_parent\"><img src=\"https://colab.research.google.com/assets/colab-badge.svg\" alt=\"Open In Colab\"/></a>"
      ]
    },
    {
      "cell_type": "markdown",
      "metadata": {
        "id": "FT-uBcZ9PSmm"
      },
      "source": [
        "#Square_resize_multi_500pix\n",
        "\n",
        "長方形を、長辺を一辺とした正方形にresizeし余白を黒く塗りつぶした上で、500pixに縮小するスクリプト"
      ]
    },
    {
      "cell_type": "code",
      "metadata": {
        "id": "5yQwABlGCXgh",
        "outputId": "efe7ddbb-88fd-42aa-ea8d-729642ed0562",
        "colab": {
          "base_uri": "https://localhost:8080/",
          "height": 34
        }
      },
      "source": [
        "import numpy as np\n",
        "import matplotlib.pyplot as plt\n",
        "import time\n",
        "import os\n",
        "import copy\n",
        "import pandas as pd\n",
        "import csv\n",
        "from random import randint\n",
        "from time import sleep\n",
        "import math\n",
        "\n",
        "import glob\n",
        "import random\n",
        "from PIL import Image\n",
        "%matplotlib inline\n",
        "\n",
        "#サポートパッチのインポート\n",
        "from google.colab.patches import cv2_imshow\n",
        "import cv2\n",
        "\n",
        "plt.ion()   # interactive mode\n",
        "\n",
        "#Google driveをマウント\n",
        "from google.colab import drive\n",
        "drive.mount('/content/drive')\n"
      ],
      "execution_count": 9,
      "outputs": [
        {
          "output_type": "stream",
          "text": [
            "Drive already mounted at /content/drive; to attempt to forcibly remount, call drive.mount(\"/content/drive\", force_remount=True).\n"
          ],
          "name": "stdout"
        }
      ]
    },
    {
      "cell_type": "markdown",
      "metadata": {
        "id": "nzQon-jiSd2J"
      },
      "source": [
        "#保存あり"
      ]
    },
    {
      "cell_type": "code",
      "metadata": {
        "id": "zLwAJH8MSh8o"
      },
      "source": [
        "def convert(in_path, out_path, processing_file, background_color):\n",
        "    #処理時間の計測\n",
        "    start = time.time()\n",
        "\n",
        "    l=0\n",
        "    for i in processing_file:      \n",
        "          img = Image.open(in_path + '/' + i)\n",
        "          img_new = expand2square(img, background_color).resize((500,400))\n",
        "          img_new.save(out_path +'/'+ i)\n",
        "          print(out_path +'/'+ i)\n",
        "          \n",
        "          #切り取った画像を表示\n",
        "          #plt.imshow(np.asarray(img_new))\n",
        "          #plt.show()\n",
        "\n",
        "    print('Process done!!')\n",
        "    elapsed_time = time.time() - start\n",
        "    print (\"elapsed_time:{0}\".format(elapsed_time) + \"[sec]\")\n",
        "\n",
        "def expand2square(pil_img, background_color):\n",
        "    width, height = pil_img.size\n",
        "    if width == height:\n",
        "        return pil_img\n",
        "    elif width > height:\n",
        "        result = Image.new(pil_img.mode, (width, round(width*0.8)), background_color)\n",
        "        result.paste(pil_img, (0, round((width*0.8-height)//2)))\n",
        "        return result\n",
        "    else:\n",
        "        result = Image.new(pil_img.mode, (height, round(height*0.8)), background_color)\n",
        "        result.paste(pil_img, (0, round((height*0.8 - width)//2)))\n",
        "        return result\n",
        "        return result\n",
        "\n",
        "def showInfo(in_path):\n",
        "    #処理するDirectoryの設定\n",
        "    file = os.listdir(in_path)\n",
        "    print(len(file))\n",
        "\n",
        "    #ここにフォルダ番号を記載する (ex. [0:999])\n",
        "    processing_file = file[0:1000]\n",
        "    print(processing_file)\n",
        "    len(processing_file)\n",
        "    return processing_file\n"
      ],
      "execution_count": 10,
      "outputs": []
    },
    {
      "cell_type": "code",
      "metadata": {
        "id": "KgonyabnQJcE",
        "outputId": "c1cdd5b5-e5b2-468e-def8-edf8de275ed8",
        "colab": {
          "base_uri": "https://localhost:8080/",
          "height": 255
        }
      },
      "source": [
        "#元画像フォルダ\n",
        "in_path = '/content/drive/My Drive/PrePlusTrain/558_orig/cont'\n",
        "\n",
        "#保存先フォルダ\n",
        "out_path = '/content/drive/My Drive/PrePlusTrain/558_colored/cont'\n",
        "if not os.path.exists(out_path):\n",
        "    os.makedirs(out_path)\n",
        "\n",
        "processing_file = showInfo(in_path)\n",
        "convert(in_path, out_path, processing_file, (0,0,84))\n",
        "\n",
        "#元画像フォルダ\n",
        "in_path = '/content/drive/My Drive/PrePlusTrain/558_orig/grav'\n",
        "\n",
        "#保存先フォルダ\n",
        "out_path = '/content/drive/My Drive/PrePlusTrain/558_colored/grav'\n",
        "if not os.path.exists(out_path):\n",
        "    os.makedirs(out_path)\n",
        "\n",
        "processing_file = showInfo(in_path)\n",
        "convert(in_path, out_path, processing_file, (100,0,0))\n"
      ],
      "execution_count": 11,
      "outputs": [
        {
          "output_type": "stream",
          "text": [
            "279\n",
            "['85.jpg', '144.jpg', '147.jpg']\n",
            "/content/drive/My Drive/PrePlusTrain/558_colored/cont/85.jpg\n",
            "/content/drive/My Drive/PrePlusTrain/558_colored/cont/144.jpg\n",
            "/content/drive/My Drive/PrePlusTrain/558_colored/cont/147.jpg\n",
            "Process done!!\n",
            "elapsed_time:0.308974027633667[sec]\n",
            "279\n",
            "['17.jpg', '19.jpg', '129.jpg']\n",
            "/content/drive/My Drive/PrePlusTrain/558_colored/grav/17.jpg\n",
            "/content/drive/My Drive/PrePlusTrain/558_colored/grav/19.jpg\n",
            "/content/drive/My Drive/PrePlusTrain/558_colored/grav/129.jpg\n",
            "Process done!!\n",
            "elapsed_time:0.6906652450561523[sec]\n"
          ],
          "name": "stdout"
        }
      ]
    }
  ]
}