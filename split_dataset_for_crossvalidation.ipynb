{
  "nbformat": 4,
  "nbformat_minor": 0,
  "metadata": {
    "colab": {
      "name": "Untitled62.ipynb",
      "provenance": [],
      "authorship_tag": "ABX9TyOM7RadoVr9UpN4t7Qy9t1H",
      "include_colab_link": true
    },
    "kernelspec": {
      "name": "python3",
      "display_name": "Python 3"
    }
  },
  "cells": [
    {
      "cell_type": "markdown",
      "metadata": {
        "id": "view-in-github",
        "colab_type": "text"
      },
      "source": [
        "<a href=\"https://colab.research.google.com/github/ykitaguchi77/ImageProcessing/blob/master/split_dataset_for_crossvalidation.ipynb\" target=\"_parent\"><img src=\"https://colab.research.google.com/assets/colab-badge.svg\" alt=\"Open In Colab\"/></a>"
      ]
    },
    {
      "cell_type": "markdown",
      "metadata": {
        "id": "E4luGyEIYT2J",
        "colab_type": "text"
      },
      "source": [
        "#**Split datasets for cross validation\n",
        "データセットを10分割し、そのうち1つをtestセットに、残りの合計をtraining+validationセットに分割するスクリプト\n"
      ]
    },
    {
      "cell_type": "code",
      "metadata": {
        "id": "EiZc9Jl22lIr",
        "colab_type": "code",
        "colab": {
          "base_uri": "https://localhost:8080/",
          "height": 34
        },
        "outputId": "dc27aae7-b8ea-4bfd-e583-09fb67832d6a"
      },
      "source": [
        "import random\n",
        "import glob\n",
        "import os\n",
        "import shutil\n",
        "import numpy as np\n",
        "\n",
        "\n",
        "from google.colab import drive\n",
        "drive.mount('/content/drive')\n"
      ],
      "execution_count": 2,
      "outputs": [
        {
          "output_type": "stream",
          "text": [
            "Mounted at /content/drive\n"
          ],
          "name": "stdout"
        }
      ]
    },
    {
      "cell_type": "code",
      "metadata": {
        "id": "cw6RSkBPUQ3T",
        "colab_type": "code",
        "colab": {}
      },
      "source": [
        "#フォルダを作成\n",
        "\n",
        "orig_path = \"/content/drive/My Drive/gravcont\"\n",
        "dst_path = \"/content/drive/My Drive/gravcont_crossvalidation\"  # フォルダ名\n",
        "\n",
        "if not os.path.exists(dst_path):  # ディレクトリがなかったら\n",
        "    os.mkdir(dst_path)  # 作成したいフォルダ名を作成\n",
        "    for i in range(10):\n",
        "        os.mkdir(dst_path+'/'+str(i))\n",
        "        #print(i)\n",
        "\n",
        "\n",
        "\n",
        "\n",
        "\"\"\"\n",
        "files = glob.glob(orig_path + \"/*\")\n",
        "print(files)\n",
        "sample_files = random.sample(files, copy_num)  # 規定数のファイルを無作為に選択\n",
        "\n",
        "for p in sample_files:  # 選択したファイルを目的フォルダにコピー\n",
        "    shutil.move(p, dst_path)\n",
        "    print(p)\n",
        "\n",
        "print(\"process done!!\")\n",
        "\"\"\""
      ],
      "execution_count": null,
      "outputs": []
    },
    {
      "cell_type": "code",
      "metadata": {
        "id": "i2_EVeAyYzsh",
        "colab_type": "code",
        "colab": {
          "base_uri": "https://localhost:8080/",
          "height": 190
        },
        "outputId": "99ff31c4-fca8-4c87-d0ca-056b0be4c387"
      },
      "source": [
        "classes = os.listdir(orig_path)\n",
        "print(classes)\n",
        "\n",
        "#データセットを分割\n",
        "data_list = os.listdir(orig_path+'/'+classes[0])\n",
        "print(data_list)\n",
        "print(len(data_list))\n",
        "\n",
        "split = list(np.array_split(data_list, 10))\n",
        "print(split[0])\n"
      ],
      "execution_count": 21,
      "outputs": [
        {
          "output_type": "stream",
          "text": [
            "['grav', 'cont']\n",
            "['533.jpg', '1347.jpg', '4465.jpg', '1357.jpg', '6579.jpg', '1525.jpg', '6518.jpg', '2900.jpg', '6599.jpg', '1503.jpg', '4681.jpg', '5015.jpg', '5673.jpg', '2853.jpg', '4486.jpg', '2851.jpg', '2684.jpg', '4606.jpg', '2644.jpg', '2042.jpg', '429.jpg', '2960.jpg', '3759.jpg', '7077.jpg', '6147.jpg', '4008.jpg', '6965.jpg', '5890.jpg', '4713.jpg', '6855.jpg', '4805.jpg', '466.jpg', '6106.jpg', '3600.jpg', '4332.jpg', '2630.jpg', '7936.jpg', '5820.jpg', '6150.jpg', '1931.jpg', '1385.jpg', '5260.jpg', '5550.jpg', '7428.jpg', '2231.jpg', '3144.jpg', '374.jpg', '3164.jpg', '3162.jpg', '4206.jpg', '3748.jpg', '1453.jpg', '5758.jpg', '2726.jpg', '1438.jpg', '1841.jpg', '4272.jpg', '6555.jpg', '893.jpg', '7765.jpg', '7049.jpg', '1270.jpg', '3802.jpg', '1682.jpg', '1020.jpg', '465.jpg', '4331.jpg', '6764.jpg', '4030.jpg', '3444.jpg', '180.jpg', '8198.jpg', '6806.jpg', '2148.jpg', '2668.jpg', '3918.jpg', '2709.jpg', '1396.jpg', '7291.jpg', '3568.jpg', '6662.jpg', '876.jpg', '3484.jpg', '3128.jpg', '2803.jpg', '5768.jpg', '7295.jpg', '3209.jpg', '5397.jpg', '6989.jpg', '718.jpg', '5125.jpg', '7709.jpg', '5335.jpg', '5333.jpg', '5299.jpg', '3684.jpg', '6478.jpg', '2321.jpg', '4069.jpg', '2664.jpg', '3472.jpg', '4958.jpg', '1524.jpg', '7798.jpg', '6515.jpg', '7763.jpg', '7349.jpg', '5608.jpg', '7041.jpg', '1037.jpg', '3809.jpg', '611.jpg', '4822.jpg', '5378.jpg', '129.jpg', '1457.jpg', '7867.jpg', '4292.jpg', '5051.jpg', '5540.jpg', '1088.jpg', '4263.jpg', '3502.jpg', '5546.jpg', '534.jpg', '4652.jpg', '4485.jpg', '6003.jpg', '5310.jpg', '2414.jpg', '6155.jpg', '7900.jpg', '6553.jpg', '5913.jpg', '3567.jpg', '4588.jpg', '5337.jpg', '2967.jpg', '1001.jpg', '3077.jpg', '6643.jpg', '1429.jpg', '5906.jpg', '6163.jpg', '3714.jpg', '818.jpg', '3543.jpg', '1284.jpg', '5069.jpg', '3176.jpg', '2370.jpg', '5647.jpg', '7104.jpg', '1995.jpg', '1913.jpg', '2307.jpg', '4382.jpg', '2794.jpg', '1553.jpg', '2689.jpg', '3646.jpg', '2837.jpg', '7283.jpg', '3783.jpg', '4125.jpg', '3352.jpg', '4619.jpg', '7277.jpg', '7436.jpg', '5586.jpg', '6297.jpg', '3046.jpg', '5901.jpg', '1304.jpg', '155.jpg', '2510.jpg', '17.jpg', '6277.jpg', '7290.jpg', '3667.jpg', '5681.jpg', '3167.jpg', '3929.jpg', '2508.jpg', '5551.jpg', '7044.jpg', '2274.jpg', '2801.jpg', '3528.jpg', '57.jpg', '122.jpg', '2203.jpg', '507.JPG', '425.jpg', '385.jpg', '489.JPG', '426.JPG', '782.JPG', '555.JPG', '724.JPG', '787.JPG', '950.JPG', '957.JPG', '965.JPG', '977.JPG', '1231.JPG', '1313.JPG', '983.JPG', '1336.JPG', '1378.JPG', '1370.JPG', '1333.JPG', '1501.JPG', '1528.JPG', '1446.JPG', '1432.JPG', '1597.JPG', '1743.JPG', '1664.JPG', '1729.JPG', '1764.JPG', '1786.JPG', '1773.JPG', '1976.JPG', '1815.JPG', '1910.JPG', '2007.JPG', '2407.JPG', '2189.JPG', '2182.JPG', '2222.JPG', '2436.JPG', '2558.JPG', '2670.JPG', '2623.JPG', '2885.JPG', '2974.JPG', '2762.JPG', '3264.JPG', '3237.JPG', '3217.JPG', '3056.JPG', '3428.JPG', '3331.JPG', '3276.JPG', '3412.JPG', '3609.JPG', '3532.JPG', '3511.JPG', '3496.JPG', '3695.JPG', '3752.JPG', '3875.JPG', '3843.JPG', '4209.JPG', '3976.JPG', '3942.JPG', '4233.JPG', '4359.JPG', '4540.JPG', '4344.JPG', '4480.JPG', '4553.JPG', '4616.JPG', '4577.JPG', '4618.JPG', '4759.JPG', '4628.JPG', '4710.JPG', '4881.JPG', '4921.JPG', '4813.JPG', '4930.JPG', '5021.JPG', '4997.JPG', '4993.JPG', '4939.JPG', '5203.JPG', '5237.JPG', '5095.JPG', '5070.JPG', '5273.JPG', '5290.JPG', '5297.JPG', '5323.JPG', '5571.JPG', '5607.JPG', '5426.JPG', '5543.JPG', '5838.JPG', '5763.JPG', '5646.JPG', '5989.JPG', '5888.JPG', '5965.JPG', '5865.JPG', '6283.JPG', '6074.JPG', '6298.JPG', '6355.JPG', '6486.JPG', '6432.JPG', '6489.JPG', '6502.JPG', '6725.JPG', '6707.JPG', '6513.JPG', '6956.JPG', '7166.JPG', '6788.JPG', '7302.JPG', '7419.JPG', '7443.JPG', '7346.JPG', '7403.JPG', '7527.JPG', '7455.JPG', '7534.JPG', '7449.JPG', '7669.JPG', '7644.JPG', '7552.JPG', '7681.JPG', '7800.JPG', '7781.JPG', '7745.JPG', '8079.JPG', '8184.JPG', '7879.JPG', '8168.JPG', '7874.JPG', '19.jpg']\n",
            "333\n",
            "['533.jpg' '1347.jpg' '4465.jpg' '1357.jpg' '6579.jpg' '1525.jpg'\n",
            " '6518.jpg' '2900.jpg' '6599.jpg' '1503.jpg' '4681.jpg' '5015.jpg'\n",
            " '5673.jpg' '2853.jpg' '4486.jpg' '2851.jpg' '2684.jpg' '4606.jpg'\n",
            " '2644.jpg' '2042.jpg' '429.jpg' '2960.jpg' '3759.jpg' '7077.jpg'\n",
            " '6147.jpg' '4008.jpg' '6965.jpg' '5890.jpg' '4713.jpg' '6855.jpg'\n",
            " '4805.jpg' '466.jpg' '6106.jpg' '3600.jpg']\n"
          ],
          "name": "stdout"
        }
      ]
    },
    {
      "cell_type": "code",
      "metadata": {
        "id": "WzrfCi3na5Bm",
        "colab_type": "code",
        "colab": {
          "base_uri": "https://localhost:8080/",
          "height": 34
        },
        "outputId": "74a00e4c-9c3d-4ed5-c1ee-0202a9d00b01"
      },
      "source": [
        "import numpy as np\n",
        "l = [1, 2, 3, 4, 5, 6, 7, 8, 9, 10]\n",
        "list(np.array_split(l, 3)) # [array([1, 2, 3, 4]), array([5, 6, 7]), array([ 8,  9, 10])]\n"
      ],
      "execution_count": 18,
      "outputs": [
        {
          "output_type": "execute_result",
          "data": {
            "text/plain": [
              "[array([1, 2, 3, 4]), array([5, 6, 7]), array([ 8,  9, 10])]"
            ]
          },
          "metadata": {
            "tags": []
          },
          "execution_count": 18
        }
      ]
    },
    {
      "cell_type": "markdown",
      "metadata": {
        "id": "z8_V2bmIYI3z",
        "colab_type": "text"
      },
      "source": [
        "#**作ったフォルダを削除したいとき**"
      ]
    },
    {
      "cell_type": "code",
      "metadata": {
        "id": "dxFqq4HdVKJm",
        "colab_type": "code",
        "colab": {}
      },
      "source": [
        "directory = '/content/drive/My Drive/gravcont_crossvalidation'\n",
        "\n",
        "try:\n",
        "    shutil.rmtree(directory)\n",
        "except FileNotFoundError:\n",
        "    pass"
      ],
      "execution_count": 12,
      "outputs": []
    }
  ]
}