{
  "nbformat": 4,
  "nbformat_minor": 0,
  "metadata": {
    "colab": {
      "name": "Untitled62.ipynb",
      "provenance": [],
      "toc_visible": true,
      "authorship_tag": "ABX9TyNc1LcHQ/iL/Beab5mOqSWw",
      "include_colab_link": true
    },
    "kernelspec": {
      "name": "python3",
      "display_name": "Python 3"
    }
  },
  "cells": [
    {
      "cell_type": "markdown",
      "metadata": {
        "id": "view-in-github",
        "colab_type": "text"
      },
      "source": [
        "<a href=\"https://colab.research.google.com/github/ykitaguchi77/ImageProcessing/blob/master/Split_dataset_for_crossvalidation.ipynb\" target=\"_parent\"><img src=\"https://colab.research.google.com/assets/colab-badge.svg\" alt=\"Open In Colab\"/></a>"
      ]
    },
    {
      "cell_type": "markdown",
      "metadata": {
        "id": "E4luGyEIYT2J",
        "colab_type": "text"
      },
      "source": [
        "#**Split datasets for cross validation\n",
        "データセットを10分割し、そのうち1つをtestセットに、残りの合計をtraining+validationセットに分割するスクリプト\n"
      ]
    },
    {
      "cell_type": "code",
      "metadata": {
        "id": "EiZc9Jl22lIr",
        "colab_type": "code",
        "colab": {
          "base_uri": "https://localhost:8080/",
          "height": 69
        },
        "outputId": "77f87fe5-e10e-4e32-95a2-83cac956fa7f"
      },
      "source": [
        "import random\n",
        "import glob\n",
        "import os\n",
        "import shutil\n",
        "import numpy as np\n",
        "\n",
        "from google.colab import drive\n",
        "drive.mount('/content/drive')\n",
        "\n",
        "\n",
        "'''\n",
        "-----dst_data[0]------dst_train[0]\n",
        "  |                |--dst_val[0]\n",
        "  |                |--dst_test[0]\n",
        "  |\n",
        "  |--dst_data[1]------dst_train[1]\n",
        "  |                |--dst_val[1]\n",
        "  |                |--dst_test[1]\n",
        "  ...\n",
        "  |--dst_data[9]------dst_train[9]\n",
        "                   |--dst_val[9]\n",
        "                   |--dst_test[9]\n",
        "'''"
      ],
      "execution_count": 3,
      "outputs": [
        {
          "output_type": "stream",
          "text": [
            "Drive already mounted at /content/drive; to attempt to forcibly remount, call drive.mount(\"/content/drive\", force_remount=True).\n"
          ],
          "name": "stdout"
        },
        {
          "output_type": "execute_result",
          "data": {
            "application/vnd.google.colaboratory.intrinsic+json": {
              "type": "string"
            },
            "text/plain": [
              "'\\n-----dst_data[0]------dst_train[0]\\n  |                |--dst_val[0]\\n  |                |--dst_test[0]\\n  |\\n  |--dst_data[1]------dst_train[1]\\n  |                |--dst_val[1]\\n  |                |--dst_test[1]\\n  ...\\n  |--dst_data[9]------dst_train[9]\\n                   |--dst_val[9]\\n                   |--dst_test[9]\\n'"
            ]
          },
          "metadata": {
            "tags": []
          },
          "execution_count": 3
        }
      ]
    },
    {
      "cell_type": "markdown",
      "metadata": {
        "id": "HvAHqQjxL6Tm",
        "colab_type": "text"
      },
      "source": [
        "#**データの移動先のフォルダを作成**"
      ]
    },
    {
      "cell_type": "code",
      "metadata": {
        "id": "cw6RSkBPUQ3T",
        "colab_type": "code",
        "colab": {}
      },
      "source": [
        "#フォルダを作成\n",
        "\n",
        "orig_path = \"/content/drive/My Drive/gravcont\"\n",
        "dst_path = \"/content/drive/My Drive/gravcont_crossvalidation\"  # フォルダ名\n",
        "\n",
        "classes = os.listdir(orig_path) #クラス名を取得\n",
        "print(classes)\n",
        "\n",
        "#データの分割数を設定\n",
        "data_list = glob.glob(orig_path+'/'+classes[1]+'/*')\n",
        "split_num = 10  #データをいくつに分割するかを記載\n",
        "split_length = int(len(data_list)/split_num)\n",
        "\n",
        "if not os.path.exists(dst_path):  # ディレクトリがなかったら\n",
        "    os.mkdir(dst_path)  # 作成したいフォルダ名を作成\n",
        "    for i in range(split_num):\n",
        "        os.mkdir(dst_path+'/'+str(i))\n",
        "        os.mkdir(dst_path+'/'+str(i)+'/train')\n",
        "        os.mkdir(dst_path+'/'+str(i)+'/val')\n",
        "        os.mkdir(dst_path+'/'+str(i)+'/test')\n",
        "        print(i)\n",
        "        for j in classes:\n",
        "            os.mkdir(dst_path+'/'+str(i)+'/train/'+j)\n",
        "            os.mkdir(dst_path+'/'+str(i)+'/val/'+j)\n",
        "            os.mkdir(dst_path+'/'+str(i)+'/test/'+j)\n",
        "            print(j)\n",
        "        "
      ],
      "execution_count": null,
      "outputs": []
    },
    {
      "cell_type": "markdown",
      "metadata": {
        "id": "NDVgvNfhLtg4",
        "colab_type": "text"
      },
      "source": [
        "#**移動するデータのリストを作成**"
      ]
    },
    {
      "cell_type": "code",
      "metadata": {
        "id": "i2_EVeAyYzsh",
        "colab_type": "code",
        "colab": {
          "base_uri": "https://localhost:8080/",
          "height": 34
        },
        "outputId": "bd1ac5d3-b55d-4fb0-ab49-8957b885d8f4"
      },
      "source": [
        "classes = os.listdir(orig_path)\n",
        "print(classes)\n",
        "\n",
        "split_data, dst_data, dst_train, dst_val, dst_test = [0]*split_num, [0]*split_num, [0]*split_num, [0]*split_num, [0]*split_num\n",
        "\n",
        "\n",
        "\n",
        "\n",
        "#データの分割\n",
        "split_data = list(np.array_split(data_list, split_num))\n",
        "\n",
        "#データセット全体と分割したデータの差分を取り、dst_dataに格納\n",
        "\n",
        "dst_data = [0] * split_num\n",
        "for i in range(split_num):\n",
        "    dst_data[i] = [x for x in data_list if x not in split_data[i]]\n",
        "    #print(dst_data[i])\n",
        "\n",
        "#トレーニングセット、バリデーションセット、テストセットのリスト作成\n",
        "for i in range(split_num):\n",
        "    dst_train[i], dst_val[i]= list(np.array_split(dst_data[i], [int(len(dst_data[i]) * 0.8)]))  #dst_dataを、トレーニングセットとバリデーションセットに分割\n",
        "    dst_test[i] = split_data[i]  #テストセット"
      ],
      "execution_count": 58,
      "outputs": [
        {
          "output_type": "stream",
          "text": [
            "['grav', 'cont']\n"
          ],
          "name": "stdout"
        }
      ]
    },
    {
      "cell_type": "markdown",
      "metadata": {
        "id": "vtfpwi3vLipk",
        "colab_type": "text"
      },
      "source": [
        "#**リスト化したデータを作成したフォルダに移動**"
      ]
    },
    {
      "cell_type": "code",
      "metadata": {
        "id": "WzrfCi3na5Bm",
        "colab_type": "code",
        "colab": {}
      },
      "source": [
        "for i in range(split_num):\n",
        "    dst_path_train = '/content/drive/My Drive/gravcont_crossvalidation/'+str(i)+'/train/cont'\n",
        "    dst_path_val = '/content/drive/My Drive/gravcont_crossvalidation/'+str(i)+'/val/cont'\n",
        "    dst_path_test = '/content/drive/My Drive/gravcont_crossvalidation/'+str(i)+'/test/cont'\n",
        "\n",
        "    for p in dst_train[0]:  # 選択したファイルを目的フォルダにコピー\n",
        "        shutil.copy(p, dst_path_train)\n",
        "        #print(p)\n",
        "\n",
        "    for p in dst_val[0]:  # 選択したファイルを目的フォルダにコピー\n",
        "        shutil.copy(p, dst_path_val)\n",
        "        #print(p)    \n",
        "        \n",
        "    for p in dst_test[0]:  # 選択したファイルを目的フォルダにコピー\n",
        "        shutil.copy(p, dst_path_test)\n",
        "        #print(p)\n"
      ],
      "execution_count": null,
      "outputs": []
    },
    {
      "cell_type": "markdown",
      "metadata": {
        "id": "z8_V2bmIYI3z",
        "colab_type": "text"
      },
      "source": [
        "#**作ったフォルダを削除したいとき**"
      ]
    },
    {
      "cell_type": "code",
      "metadata": {
        "id": "dxFqq4HdVKJm",
        "colab_type": "code",
        "colab": {}
      },
      "source": [
        "directory = dst_path\n",
        "try:\n",
        "    shutil.rmtree(directory)\n",
        "except FileNotFoundError:\n",
        "    pass"
      ],
      "execution_count": 13,
      "outputs": []
    }
  ]
}