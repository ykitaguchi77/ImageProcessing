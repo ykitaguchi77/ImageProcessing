{
  "nbformat": 4,
  "nbformat_minor": 0,
  "metadata": {
    "colab": {
      "name": "Untitled51.ipynb",
      "provenance": [],
      "toc_visible": true,
      "authorship_tag": "ABX9TyNIWKVZokzZmAoBkEFL0wmS",
      "include_colab_link": true
    },
    "kernelspec": {
      "name": "python3",
      "display_name": "Python 3"
    }
  },
  "cells": [
    {
      "cell_type": "markdown",
      "metadata": {
        "id": "view-in-github",
        "colab_type": "text"
      },
      "source": [
        "<a href=\"https://colab.research.google.com/github/ykitaguchi77/ImageProcessing/blob/master/Arrange_images*2*4.ipynb\" target=\"_parent\"><img src=\"https://colab.research.google.com/assets/colab-badge.svg\" alt=\"Open In Colab\"/></a>"
      ]
    },
    {
      "cell_type": "markdown",
      "metadata": {
        "id": "ycV87o_K7sjY",
        "colab_type": "text"
      },
      "source": [
        "#**フォルダ内の画像を、2×4のカラム状に並べて出力するスクリプト**\n",
        "すでに500*400pixに整形されているものを準備する\n",
        "Grav, contそれぞれについてカラム状に並べたものを作る\n",
        "カラム状のものを縦に結合して最終的な画像を作る\n",
        "\n"
      ]
    },
    {
      "cell_type": "code",
      "metadata": {
        "id": "11TM-66q8kss",
        "colab_type": "code",
        "colab": {
          "base_uri": "https://localhost:8080/",
          "height": 34
        },
        "outputId": "c74f2a52-dd7e-4e10-e96b-66a7525818d5"
      },
      "source": [
        "from PIL import Image\n",
        "import glob\n",
        "\n",
        "#Google colabをマウント\n",
        "from google.colab import drive\n",
        "drive.mount('/content/drive')"
      ],
      "execution_count": 15,
      "outputs": [
        {
          "output_type": "stream",
          "text": [
            "Drive already mounted at /content/drive; to attempt to forcibly remount, call drive.mount(\"/content/drive\", force_remount=True).\n"
          ],
          "name": "stdout"
        }
      ]
    },
    {
      "cell_type": "code",
      "metadata": {
        "id": "HONHBUgSBHhe",
        "colab_type": "code",
        "colab": {
          "base_uri": "https://localhost:8080/",
          "height": 69
        },
        "outputId": "de117e11-3d15-4278-9584-301104269325"
      },
      "source": [
        "#画像のリストを取得\n",
        "img_path = glob.glob(\"/content/drive/My Drive/Grav_bootcamp/Training_500px/grav/*\")\n",
        "print(len(img_path))\n",
        "#print(img_path)\n",
        "\n",
        "\n",
        "\"\"\"\n",
        "#画像のサイズを確認\n",
        "for i in im_list:\n",
        "    img = Image.open(i)\n",
        "    width, height = img.size\n",
        "    print(\"width:\"+str(width)+\", height:\"+str(height)+\", width/height:\"+str(width/height))\n",
        "\"\"\""
      ],
      "execution_count": 51,
      "outputs": [
        {
          "output_type": "stream",
          "text": [
            "240\n"
          ],
          "name": "stdout"
        },
        {
          "output_type": "execute_result",
          "data": {
            "application/vnd.google.colaboratory.intrinsic+json": {
              "type": "string"
            },
            "text/plain": [
              "'\\n#画像のサイズを確認\\nfor i in im_list:\\n    img = Image.open(i)\\n    width, height = img.size\\n    print(\"width:\"+str(width)+\", height:\"+str(height)+\", width/height:\"+str(width/height))\\n'"
            ]
          },
          "metadata": {
            "tags": []
          },
          "execution_count": 51
        }
      ]
    },
    {
      "cell_type": "markdown",
      "metadata": {
        "id": "Q5n6v0ZcVluL",
        "colab_type": "text"
      },
      "source": [
        "#**画像の配列**\n",
        "参考サイト： https://note.nkmk.me/python-pillow-concat-images/"
      ]
    },
    {
      "cell_type": "code",
      "metadata": {
        "id": "RvOs1hr0R_3C",
        "colab_type": "code",
        "colab": {}
      },
      "source": [
        "def get_concat_h_multi_resize(im_list, resample=Image.BICUBIC):\n",
        "    min_height = min(im.height for im in im_list)\n",
        "    im_list_resize = [im.resize((int(im.width * min_height / im.height), min_height),resample=resample)\n",
        "                      for im in im_list]\n",
        "    total_width = sum(im.width for im in im_list_resize)\n",
        "    dst = Image.new('RGB', (total_width, min_height))\n",
        "    pos_x = 0\n",
        "    for im in im_list_resize:\n",
        "        dst.paste(im, (pos_x, 0))\n",
        "        pos_x += im.width\n",
        "    return dst\n",
        "\n",
        "def get_concat_v_multi_resize(im_list, resample=Image.BICUBIC):\n",
        "    min_width = min(im.width for im in im_list)\n",
        "    im_list_resize = [im.resize((min_width, int(im.height * min_width / im.width)),resample=resample)\n",
        "                      for im in im_list]\n",
        "    total_height = sum(im.height for im in im_list_resize)\n",
        "    dst = Image.new('RGB', (min_width, total_height))\n",
        "    pos_y = 0\n",
        "    for im in im_list_resize:\n",
        "        dst.paste(im, (0, pos_y))\n",
        "        pos_y += im.height\n",
        "    return dst\n",
        "\n",
        "def get_concat_tile_resize(im_list_2d, resample=Image.BICUBIC):\n",
        "    im_list_v = [get_concat_h_multi_resize(im_list_h, resample=resample) for im_list_h in im_list_2d]\n",
        "    return get_concat_v_multi_resize(im_list_v, resample=resample)"
      ],
      "execution_count": 59,
      "outputs": []
    },
    {
      "cell_type": "code",
      "metadata": {
        "id": "EMlga1VRsaj_",
        "colab_type": "code",
        "colab": {}
      },
      "source": [
        "#イメージの数を入力（少なくすることで試すことができる）\n",
        "img_path = img_path[0:240]\n",
        "print(img_path)\n",
        "im = [0]*240\n",
        "\n",
        "\n",
        "#画像を2*8で配列して保存\n",
        "k=0\n",
        "j=0\n",
        "m=1\n",
        "for p in range(30): #rangeの中身は結合画像の数。すなわちイメージ数１//8。\n",
        "    im_list = img_path[k:k+8]\n",
        "    \n",
        "    j=0\n",
        "    for i in im_list:\n",
        "        im[j] = Image.open(i)\n",
        "        j+=1\n",
        "        \n",
        "    get_concat_tile_resize([[im[0],im[1],im[2],im[3]],[im[4],im[5],im[6],im[7]]]).save(\"/content/drive/My Drive/Grav_bootcamp/Training配列済_500px/\"+\"grav\"+ str(m)+\".jpg\")\n",
        "    print(\"画像出力済: \"+str(m))\n",
        "    m+=1\n",
        "    k+=8\n"
      ],
      "execution_count": null,
      "outputs": []
    },
    {
      "cell_type": "markdown",
      "metadata": {
        "id": "8N64mT3fdVIB",
        "colab_type": "text"
      },
      "source": [
        "#**2つのカラムを縦に結合**"
      ]
    },
    {
      "cell_type": "code",
      "metadata": {
        "id": "GWxRmSeShr3U",
        "colab_type": "code",
        "colab": {}
      },
      "source": [
        "def get_concat_v(im1, im2):\n",
        "    dst = Image.new('RGB', (im1.width, im1.height + im2.height))\n",
        "    dst.paste(im1, (0, 0))\n",
        "    dst.paste(im2, (0, im1.height))\n",
        "    return dst"
      ],
      "execution_count": 65,
      "outputs": []
    },
    {
      "cell_type": "code",
      "metadata": {
        "id": "BE76ftPQdc3Y",
        "colab_type": "code",
        "colab": {
          "base_uri": "https://localhost:8080/",
          "height": 527
        },
        "outputId": "90016e22-4467-46e3-ec95-a05c793ff0d6"
      },
      "source": [
        "grav_path = glob.glob(\"/content/drive/My Drive/Grav_bootcamp/Training配列済_500px/grav/*\")\n",
        "cont_path = glob.glob(\"/content/drive/My Drive/Grav_bootcamp/Training配列済_500px/cont/*\")\n",
        "\n",
        "im = [0]*2\n",
        "k=0\n",
        "for i in range(len(grav_path)):\n",
        "    im[0] = Image.open(cont_path[k])\n",
        "    im[1] = Image.open(grav_path[k])\n",
        "    get_concat_v(im[0], im[1]).save(\"/content/drive/My Drive/Grav_bootcamp/Training配列済_500px/concat\"+str(k)+\".jpg\")\n",
        "    k+=1\n",
        "    print(\"画像出力済: \"+str(k))\n"
      ],
      "execution_count": 73,
      "outputs": [
        {
          "output_type": "stream",
          "text": [
            "画像出力済: 1\n",
            "画像出力済: 2\n",
            "画像出力済: 3\n",
            "画像出力済: 4\n",
            "画像出力済: 5\n",
            "画像出力済: 6\n",
            "画像出力済: 7\n",
            "画像出力済: 8\n",
            "画像出力済: 9\n",
            "画像出力済: 10\n",
            "画像出力済: 11\n",
            "画像出力済: 12\n",
            "画像出力済: 13\n",
            "画像出力済: 14\n",
            "画像出力済: 15\n",
            "画像出力済: 16\n",
            "画像出力済: 17\n",
            "画像出力済: 18\n",
            "画像出力済: 19\n",
            "画像出力済: 20\n",
            "画像出力済: 21\n",
            "画像出力済: 22\n",
            "画像出力済: 23\n",
            "画像出力済: 24\n",
            "画像出力済: 25\n",
            "画像出力済: 26\n",
            "画像出力済: 27\n",
            "画像出力済: 28\n",
            "画像出力済: 29\n",
            "画像出力済: 30\n"
          ],
          "name": "stdout"
        }
      ]
    }
  ]
}