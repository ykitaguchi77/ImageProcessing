{
  "nbformat": 4,
  "nbformat_minor": 0,
  "metadata": {
    "colab": {
      "name": "Untitled68.ipynb",
      "provenance": [],
      "authorship_tag": "ABX9TyOsDbIE0/OYOLODxg7WzXPk",
      "include_colab_link": true
    },
    "kernelspec": {
      "name": "python3",
      "display_name": "Python 3"
    }
  },
  "cells": [
    {
      "cell_type": "markdown",
      "metadata": {
        "id": "view-in-github",
        "colab_type": "text"
      },
      "source": [
        "<a href=\"https://colab.research.google.com/github/ykitaguchi77/ImageProcessing/blob/master/CSV%E3%81%8B%E3%82%89%E7%94%BB%E5%83%8F%E7%95%AA%E5%8F%B7%E3%82%92%E6%8A%BD%E5%87%BA%E3%81%97%E3%80%81%E7%94%BB%E5%83%8F%E3%82%92%E3%83%95%E3%82%A9%E3%83%AB%E3%83%80%E3%81%AB%E3%82%B3%E3%83%94%E3%83%BC.ipynb\" target=\"_parent\"><img src=\"https://colab.research.google.com/assets/colab-badge.svg\" alt=\"Open In Colab\"/></a>"
      ]
    },
    {
      "cell_type": "markdown",
      "metadata": {
        "id": "b3P5PtUhmozB"
      },
      "source": [
        "#**CSVから画像番号を抽出し、画像をフォルダにコピーするスクリプト**[リンクテキスト](https://)"
      ]
    },
    {
      "cell_type": "code",
      "metadata": {
        "id": "qptIpjznjft1",
        "outputId": "bdddd020-cb88-49ef-c15a-8f8129502e4d",
        "colab": {
          "base_uri": "https://localhost:8080/",
          "height": 33
        }
      },
      "source": [
        "#google driveをcolabolatoryにマウント\n",
        "from google.colab import drive\n",
        "drive.mount('/content/drive')"
      ],
      "execution_count": 55,
      "outputs": [
        {
          "output_type": "stream",
          "text": [
            "Drive already mounted at /content/drive; to attempt to forcibly remount, call drive.mount(\"/content/drive\", force_remount=True).\n"
          ],
          "name": "stdout"
        }
      ]
    },
    {
      "cell_type": "code",
      "metadata": {
        "id": "BqnHqw7NlK0_",
        "outputId": "56209ff3-1f63-449b-a5a7-96738a4f3caf",
        "colab": {
          "base_uri": "https://localhost:8080/",
          "height": 266
        }
      },
      "source": [
        "import pandas as pd\n",
        "import collections\n",
        "import os\n",
        "import shutil\n",
        "\n",
        "def openCSV(csv_path):\n",
        "    df = pd.read_csv(csv_path)\n",
        "    df = df.drop(df.columns[[0]], axis=1) #1列目を削除する\n",
        "    print(df)\n",
        "    return df\n",
        "\n",
        "def getlabel(df):\n",
        "    img_num = df.iloc[:,0]\n",
        "    label = df.iloc[:,1]\n",
        "    class_num = collections.Counter(label)\n",
        "    return img_num, label, class_num\n",
        "\n",
        "#CSVを開く （csv1:編集するファイル、csv2:参照するファイル）\n",
        "csv_path = '/content/drive/My Drive/Grav_bootcamp/Posttrain_result_2.csv'\n",
        "\n",
        "df = openCSV(csv_path) #CSVを開く\n",
        "img_num, label, class_num = getlabel(df) #画像番号リストとラベルリストを開く\n",
        "\n",
        "classes = []\n",
        "for k in class_num:\n",
        "    classes.append(k)\n",
        "print(classes)"
      ],
      "execution_count": 56,
      "outputs": [
        {
          "output_type": "stream",
          "text": [
            "     image_name Label  Nakagawa kitaguchi inoue kohzaki EfficientNet\n",
            "0            57  grav       NaN      grav  grav    grav         grav\n",
            "1            66  cont       NaN      cont  cont    cont         cont\n",
            "2           118  cont       NaN      cont  cont    cont         cont\n",
            "3           122  grav       NaN      grav  grav    cont         cont\n",
            "4           132  cont       NaN      grav  cont    grav         grav\n",
            "..          ...   ...       ...       ...   ...     ...          ...\n",
            "103        7726  cont       NaN      cont  cont    cont         cont\n",
            "104        7745  grav       NaN      grav  grav    grav         grav\n",
            "105        7763  grav       NaN      grav  cont    grav         grav\n",
            "106        8079  grav       NaN      grav  grav    grav         grav\n",
            "107        8120  cont       NaN      cont  cont    cont         cont\n",
            "\n",
            "[108 rows x 7 columns]\n",
            "['grav', 'cont']\n"
          ],
          "name": "stdout"
        }
      ]
    },
    {
      "cell_type": "code",
      "metadata": {
        "id": "yosIyFLutfu6"
      },
      "source": [
        "def makeFolder(path):\n",
        "    if not os.path.exists(path):  # ディレクトリがなかったら\n",
        "        os.mkdir(path)  # 作成したいフォルダ名を作成\n",
        "\n",
        "#移動先のフォルダを作成\n",
        "makeFolder(\"/content/drive/My Drive/PostTrain\")\n",
        "makeFolder(\"/content/drive/My Drive/PostTrain/oringinal\")\n",
        "for i in classes:\n",
        "    makeFolder(\"/content/drive/My Drive/PostTrain/oringinal/\"+str(i))  # フォルダ名\n",
        "\n",
        "#ファイルを移動\n",
        "k=0\n",
        "for i in range(len(img_num)):\n",
        "    dst_path = \"/content/drive/My Drive/PostTrain/oringinal/\"+str(label[k])+\"/\"+str(img_num[k])+\".jpg\"\n",
        "    org_path = \"/content/drive/My Drive/gravcont_orig/\"+str(label[k])+\"/\"+str(img_num[k])+\".jpg\"\n",
        "    print(org_path)\n",
        "    shutil.copy(org_path, dst_path)\n",
        "    k+=1\n"
      ],
      "execution_count": null,
      "outputs": []
    }
  ]
}