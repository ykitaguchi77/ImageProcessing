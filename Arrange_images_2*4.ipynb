{
  "nbformat": 4,
  "nbformat_minor": 0,
  "metadata": {
    "colab": {
      "name": "Untitled51.ipynb",
      "provenance": [],
      "toc_visible": true,
      "authorship_tag": "ABX9TyOQ1+V+LCDjpNbUlPnP39Fv",
      "include_colab_link": true
    },
    "kernelspec": {
      "name": "python3",
      "display_name": "Python 3"
    }
  },
  "cells": [
    {
      "cell_type": "markdown",
      "metadata": {
        "id": "view-in-github",
        "colab_type": "text"
      },
      "source": [
        "<a href=\"https://colab.research.google.com/github/ykitaguchi77/ImageProcessing/blob/master/Arrange_images_2*4.ipynb\" target=\"_parent\"><img src=\"https://colab.research.google.com/assets/colab-badge.svg\" alt=\"Open In Colab\"/></a>"
      ]
    },
    {
      "cell_type": "markdown",
      "metadata": {
        "id": "ycV87o_K7sjY",
        "colab_type": "text"
      },
      "source": [
        "#**フォルダ内の画像を、2×8のカラム状に並べて出力するスクリプト**"
      ]
    },
    {
      "cell_type": "code",
      "metadata": {
        "id": "11TM-66q8kss",
        "colab_type": "code",
        "colab": {
          "base_uri": "https://localhost:8080/",
          "height": 34
        },
        "outputId": "5933a63b-bb32-4d22-f2b1-ef9b4a202043"
      },
      "source": [
        "from PIL import Image\n",
        "import glob\n",
        "\n",
        "#Google colabをマウント\n",
        "from google.colab import drive\n",
        "drive.mount('/content/drive')"
      ],
      "execution_count": 10,
      "outputs": [
        {
          "output_type": "stream",
          "text": [
            "Drive already mounted at /content/drive; to attempt to forcibly remount, call drive.mount(\"/content/drive\", force_remount=True).\n"
          ],
          "name": "stdout"
        }
      ]
    },
    {
      "cell_type": "code",
      "metadata": {
        "id": "HONHBUgSBHhe",
        "colab_type": "code",
        "colab": {
          "base_uri": "https://localhost:8080/",
          "height": 106
        },
        "outputId": "538bdfec-2adf-4052-efe1-fc7a0ec30793"
      },
      "source": [
        "#画像のリストを取得\n",
        "img_path = glob.glob(\"/content/drive/My Drive/Grav_bootcamp/Training_500px/cont/*\")\n",
        "print(len(img_path))\n",
        "#print(img_path)\n",
        "\n",
        "#画像を入れるリストを用意\n",
        "im_list = img_path[0:240]\n",
        "print(len(im_list))\n",
        "print(im_list)\n",
        "\n",
        "\"\"\"\n",
        "#画像のサイズを確認\n",
        "for i in im_list:\n",
        "    img = Image.open(i)\n",
        "    width, height = img.size\n",
        "    print(\"width:\"+str(width)+\", height:\"+str(height)+\", width/height:\"+str(width/height))\n",
        "\"\"\""
      ],
      "execution_count": 21,
      "outputs": [
        {
          "output_type": "stream",
          "text": [
            "231\n",
            "231\n",
            "['/content/drive/My Drive/Grav_bootcamp/Training_500px/cont/4872.JPG', '/content/drive/My Drive/Grav_bootcamp/Training_500px/cont/3902.JPG', '/content/drive/My Drive/Grav_bootcamp/Training_500px/cont/444.jpg', '/content/drive/My Drive/Grav_bootcamp/Training_500px/cont/542.jpg', '/content/drive/My Drive/Grav_bootcamp/Training_500px/cont/186.jpg', '/content/drive/My Drive/Grav_bootcamp/Training_500px/cont/3222.jpg', '/content/drive/My Drive/Grav_bootcamp/Training_500px/cont/3368.JPG', '/content/drive/My Drive/Grav_bootcamp/Training_500px/cont/802.jpg', '/content/drive/My Drive/Grav_bootcamp/Training_500px/cont/5457.jpg', '/content/drive/My Drive/Grav_bootcamp/Training_500px/cont/168.jpg', '/content/drive/My Drive/Grav_bootcamp/Training_500px/cont/6706.JPG', '/content/drive/My Drive/Grav_bootcamp/Training_500px/cont/4817.jpg', '/content/drive/My Drive/Grav_bootcamp/Training_500px/cont/958.jpg', '/content/drive/My Drive/Grav_bootcamp/Training_500px/cont/5714.jpg', '/content/drive/My Drive/Grav_bootcamp/Training_500px/cont/514.jpg', '/content/drive/My Drive/Grav_bootcamp/Training_500px/cont/4456.jpg', '/content/drive/My Drive/Grav_bootcamp/Training_500px/cont/1488.jpg', '/content/drive/My Drive/Grav_bootcamp/Training_500px/cont/401.jpg', '/content/drive/My Drive/Grav_bootcamp/Training_500px/cont/1045.JPG', '/content/drive/My Drive/Grav_bootcamp/Training_500px/cont/1498.JPG', '/content/drive/My Drive/Grav_bootcamp/Training_500px/cont/4329.jpg', '/content/drive/My Drive/Grav_bootcamp/Training_500px/cont/2556.JPG', '/content/drive/My Drive/Grav_bootcamp/Training_500px/cont/1266.jpg', '/content/drive/My Drive/Grav_bootcamp/Training_500px/cont/2565.jpg', '/content/drive/My Drive/Grav_bootcamp/Training_500px/cont/1762.jpg', '/content/drive/My Drive/Grav_bootcamp/Training_500px/cont/3537.jpg', '/content/drive/My Drive/Grav_bootcamp/Training_500px/cont/383.jpg', '/content/drive/My Drive/Grav_bootcamp/Training_500px/cont/6126.jpg', '/content/drive/My Drive/Grav_bootcamp/Training_500px/cont/2308.jpg', '/content/drive/My Drive/Grav_bootcamp/Training_500px/cont/1054.jpg', '/content/drive/My Drive/Grav_bootcamp/Training_500px/cont/4694.jpg', '/content/drive/My Drive/Grav_bootcamp/Training_500px/cont/2450.JPG', '/content/drive/My Drive/Grav_bootcamp/Training_500px/cont/1605.JPG', '/content/drive/My Drive/Grav_bootcamp/Training_500px/cont/6185.JPG', '/content/drive/My Drive/Grav_bootcamp/Training_500px/cont/5437.JPG', '/content/drive/My Drive/Grav_bootcamp/Training_500px/cont/5887.jpg', '/content/drive/My Drive/Grav_bootcamp/Training_500px/cont/1638.jpg', '/content/drive/My Drive/Grav_bootcamp/Training_500px/cont/6439.jpg', '/content/drive/My Drive/Grav_bootcamp/Training_500px/cont/7905.jpg', '/content/drive/My Drive/Grav_bootcamp/Training_500px/cont/6037.JPG', '/content/drive/My Drive/Grav_bootcamp/Training_500px/cont/811.jpg', '/content/drive/My Drive/Grav_bootcamp/Training_500px/cont/6888.JPG', '/content/drive/My Drive/Grav_bootcamp/Training_500px/cont/5341.jpg', '/content/drive/My Drive/Grav_bootcamp/Training_500px/cont/969.jpg', '/content/drive/My Drive/Grav_bootcamp/Training_500px/cont/2206.jpg', '/content/drive/My Drive/Grav_bootcamp/Training_500px/cont/6741.jpg', '/content/drive/My Drive/Grav_bootcamp/Training_500px/cont/8149.jpg', '/content/drive/My Drive/Grav_bootcamp/Training_500px/cont/1823.JPG', '/content/drive/My Drive/Grav_bootcamp/Training_500px/cont/2413.jpg', '/content/drive/My Drive/Grav_bootcamp/Training_500px/cont/5246.jpg', '/content/drive/My Drive/Grav_bootcamp/Training_500px/cont/2866.jpg', '/content/drive/My Drive/Grav_bootcamp/Training_500px/cont/3102.jpg', '/content/drive/My Drive/Grav_bootcamp/Training_500px/cont/6371.jpg', '/content/drive/My Drive/Grav_bootcamp/Training_500px/cont/3570.jpg', '/content/drive/My Drive/Grav_bootcamp/Training_500px/cont/5749.jpg', '/content/drive/My Drive/Grav_bootcamp/Training_500px/cont/191.jpg', '/content/drive/My Drive/Grav_bootcamp/Training_500px/cont/2164.jpg', '/content/drive/My Drive/Grav_bootcamp/Training_500px/cont/5507.JPG', '/content/drive/My Drive/Grav_bootcamp/Training_500px/cont/6913.JPG', '/content/drive/My Drive/Grav_bootcamp/Training_500px/cont/4819.jpg', '/content/drive/My Drive/Grav_bootcamp/Training_500px/cont/1805.jpg', '/content/drive/My Drive/Grav_bootcamp/Training_500px/cont/2236.JPG', '/content/drive/My Drive/Grav_bootcamp/Training_500px/cont/1428.jpg', '/content/drive/My Drive/Grav_bootcamp/Training_500px/cont/1900.jpg', '/content/drive/My Drive/Grav_bootcamp/Training_500px/cont/7795.jpg', '/content/drive/My Drive/Grav_bootcamp/Training_500px/cont/4386.JPG', '/content/drive/My Drive/Grav_bootcamp/Training_500px/cont/7813.jpg', '/content/drive/My Drive/Grav_bootcamp/Training_500px/cont/7466.JPG', '/content/drive/My Drive/Grav_bootcamp/Training_500px/cont/6818.jpg', '/content/drive/My Drive/Grav_bootcamp/Training_500px/cont/1619.jpg', '/content/drive/My Drive/Grav_bootcamp/Training_500px/cont/4111.jpg', '/content/drive/My Drive/Grav_bootcamp/Training_500px/cont/2546.jpg', '/content/drive/My Drive/Grav_bootcamp/Training_500px/cont/5405.jpg', '/content/drive/My Drive/Grav_bootcamp/Training_500px/cont/7963.jpg', '/content/drive/My Drive/Grav_bootcamp/Training_500px/cont/2515.jpg', '/content/drive/My Drive/Grav_bootcamp/Training_500px/cont/5466.jpg', '/content/drive/My Drive/Grav_bootcamp/Training_500px/cont/3878.jpg', '/content/drive/My Drive/Grav_bootcamp/Training_500px/cont/2741.JPG', '/content/drive/My Drive/Grav_bootcamp/Training_500px/cont/2168.jpg', '/content/drive/My Drive/Grav_bootcamp/Training_500px/cont/2338.jpg', '/content/drive/My Drive/Grav_bootcamp/Training_500px/cont/7594.JPG', '/content/drive/My Drive/Grav_bootcamp/Training_500px/cont/7740.jpg', '/content/drive/My Drive/Grav_bootcamp/Training_500px/cont/5302.JPG', '/content/drive/My Drive/Grav_bootcamp/Training_500px/cont/4042.jpg', '/content/drive/My Drive/Grav_bootcamp/Training_500px/cont/6171.jpg', '/content/drive/My Drive/Grav_bootcamp/Training_500px/cont/4457.jpg', '/content/drive/My Drive/Grav_bootcamp/Training_500px/cont/5481.JPG', '/content/drive/My Drive/Grav_bootcamp/Training_500px/cont/863.jpg', '/content/drive/My Drive/Grav_bootcamp/Training_500px/cont/6626.JPG', '/content/drive/My Drive/Grav_bootcamp/Training_500px/cont/6258.JPG', '/content/drive/My Drive/Grav_bootcamp/Training_500px/cont/4355.jpg', '/content/drive/My Drive/Grav_bootcamp/Training_500px/cont/6512.jpg', '/content/drive/My Drive/Grav_bootcamp/Training_500px/cont/1079.jpg', '/content/drive/My Drive/Grav_bootcamp/Training_500px/cont/5981.jpg', '/content/drive/My Drive/Grav_bootcamp/Training_500px/cont/172.jpg', '/content/drive/My Drive/Grav_bootcamp/Training_500px/cont/742.jpg', '/content/drive/My Drive/Grav_bootcamp/Training_500px/cont/1320.jpg', '/content/drive/My Drive/Grav_bootcamp/Training_500px/cont/1423.jpg', '/content/drive/My Drive/Grav_bootcamp/Training_500px/cont/1348.jpg', '/content/drive/My Drive/Grav_bootcamp/Training_500px/cont/8002.jpg', '/content/drive/My Drive/Grav_bootcamp/Training_500px/cont/2034.jpg', '/content/drive/My Drive/Grav_bootcamp/Training_500px/cont/5258.jpg', '/content/drive/My Drive/Grav_bootcamp/Training_500px/cont/2351.JPG', '/content/drive/My Drive/Grav_bootcamp/Training_500px/cont/6838.jpg', '/content/drive/My Drive/Grav_bootcamp/Training_500px/cont/6859.jpg', '/content/drive/My Drive/Grav_bootcamp/Training_500px/cont/5661.JPG', '/content/drive/My Drive/Grav_bootcamp/Training_500px/cont/6182.jpg', '/content/drive/My Drive/Grav_bootcamp/Training_500px/cont/3784.jpg', '/content/drive/My Drive/Grav_bootcamp/Training_500px/cont/1086.jpg', '/content/drive/My Drive/Grav_bootcamp/Training_500px/cont/2446.jpg', '/content/drive/My Drive/Grav_bootcamp/Training_500px/cont/7808.jpg', '/content/drive/My Drive/Grav_bootcamp/Training_500px/cont/4441.JPG', '/content/drive/My Drive/Grav_bootcamp/Training_500px/cont/2169.JPG', '/content/drive/My Drive/Grav_bootcamp/Training_500px/cont/4998.JPG', '/content/drive/My Drive/Grav_bootcamp/Training_500px/cont/4255.jpg', '/content/drive/My Drive/Grav_bootcamp/Training_500px/cont/5488.jpg', '/content/drive/My Drive/Grav_bootcamp/Training_500px/cont/5153.jpg', '/content/drive/My Drive/Grav_bootcamp/Training_500px/cont/5040.JPG', '/content/drive/My Drive/Grav_bootcamp/Training_500px/cont/7027.jpg', '/content/drive/My Drive/Grav_bootcamp/Training_500px/cont/7068.jpg', '/content/drive/My Drive/Grav_bootcamp/Training_500px/cont/4807.jpg', '/content/drive/My Drive/Grav_bootcamp/Training_500px/cont/1361.jpg', '/content/drive/My Drive/Grav_bootcamp/Training_500px/cont/2384.jpg', '/content/drive/My Drive/Grav_bootcamp/Training_500px/cont/6396.jpg', '/content/drive/My Drive/Grav_bootcamp/Training_500px/cont/5214.jpg', '/content/drive/My Drive/Grav_bootcamp/Training_500px/cont/1994.jpg', '/content/drive/My Drive/Grav_bootcamp/Training_500px/cont/7985.JPG', '/content/drive/My Drive/Grav_bootcamp/Training_500px/cont/2118.jpg', '/content/drive/My Drive/Grav_bootcamp/Training_500px/cont/2366.jpg', '/content/drive/My Drive/Grav_bootcamp/Training_500px/cont/8027.jpg', '/content/drive/My Drive/Grav_bootcamp/Training_500px/cont/5392.jpg', '/content/drive/My Drive/Grav_bootcamp/Training_500px/cont/4686.jpg', '/content/drive/My Drive/Grav_bootcamp/Training_500px/cont/1381.JPG', '/content/drive/My Drive/Grav_bootcamp/Training_500px/cont/259.jpg', '/content/drive/My Drive/Grav_bootcamp/Training_500px/cont/3588.JPG', '/content/drive/My Drive/Grav_bootcamp/Training_500px/cont/6491.jpg', '/content/drive/My Drive/Grav_bootcamp/Training_500px/cont/1050.jpg', '/content/drive/My Drive/Grav_bootcamp/Training_500px/cont/149.jpg', '/content/drive/My Drive/Grav_bootcamp/Training_500px/cont/132.jpg', '/content/drive/My Drive/Grav_bootcamp/Training_500px/cont/3247.jpg', '/content/drive/My Drive/Grav_bootcamp/Training_500px/cont/3851.jpg', '/content/drive/My Drive/Grav_bootcamp/Training_500px/cont/4647.jpg', '/content/drive/My Drive/Grav_bootcamp/Training_500px/cont/255.jpg', '/content/drive/My Drive/Grav_bootcamp/Training_500px/cont/4178.jpg', '/content/drive/My Drive/Grav_bootcamp/Training_500px/cont/3193.jpg', '/content/drive/My Drive/Grav_bootcamp/Training_500px/cont/5563.jpg', '/content/drive/My Drive/Grav_bootcamp/Training_500px/cont/1249.jpg', '/content/drive/My Drive/Grav_bootcamp/Training_500px/cont/4706.jpg', '/content/drive/My Drive/Grav_bootcamp/Training_500px/cont/4222.jpg', '/content/drive/My Drive/Grav_bootcamp/Training_500px/cont/1084.JPG', '/content/drive/My Drive/Grav_bootcamp/Training_500px/cont/4960.jpg', '/content/drive/My Drive/Grav_bootcamp/Training_500px/cont/2979.jpg', '/content/drive/My Drive/Grav_bootcamp/Training_500px/cont/5465.JPG', '/content/drive/My Drive/Grav_bootcamp/Training_500px/cont/4438.jpg', '/content/drive/My Drive/Grav_bootcamp/Training_500px/cont/2054.jpg', '/content/drive/My Drive/Grav_bootcamp/Training_500px/cont/5128.jpg', '/content/drive/My Drive/Grav_bootcamp/Training_500px/cont/3668.jpg', '/content/drive/My Drive/Grav_bootcamp/Training_500px/cont/5871.jpg', '/content/drive/My Drive/Grav_bootcamp/Training_500px/cont/5244.JPG', '/content/drive/My Drive/Grav_bootcamp/Training_500px/cont/2174.JPG', '/content/drive/My Drive/Grav_bootcamp/Training_500px/cont/861.jpg', '/content/drive/My Drive/Grav_bootcamp/Training_500px/cont/4975.jpg', '/content/drive/My Drive/Grav_bootcamp/Training_500px/cont/5826.jpg', '/content/drive/My Drive/Grav_bootcamp/Training_500px/cont/3098.jpg', '/content/drive/My Drive/Grav_bootcamp/Training_500px/cont/1043.jpg', '/content/drive/My Drive/Grav_bootcamp/Training_500px/cont/2607.jpg', '/content/drive/My Drive/Grav_bootcamp/Training_500px/cont/1144.jpg', '/content/drive/My Drive/Grav_bootcamp/Training_500px/cont/4372.jpg', '/content/drive/My Drive/Grav_bootcamp/Training_500px/cont/3436.JPG', '/content/drive/My Drive/Grav_bootcamp/Training_500px/cont/3906.jpg', '/content/drive/My Drive/Grav_bootcamp/Training_500px/cont/1813.jpg', '/content/drive/My Drive/Grav_bootcamp/Training_500px/cont/1143.jpg', '/content/drive/My Drive/Grav_bootcamp/Training_500px/cont/3656.jpg', '/content/drive/My Drive/Grav_bootcamp/Training_500px/cont/2214.JPG', '/content/drive/My Drive/Grav_bootcamp/Training_500px/cont/3459.jpg', '/content/drive/My Drive/Grav_bootcamp/Training_500px/cont/2825.jpg', '/content/drive/My Drive/Grav_bootcamp/Training_500px/cont/8210.jpg', '/content/drive/My Drive/Grav_bootcamp/Training_500px/cont/2139.JPG', '/content/drive/My Drive/Grav_bootcamp/Training_500px/cont/4560.jpg', '/content/drive/My Drive/Grav_bootcamp/Training_500px/cont/7016.jpg', '/content/drive/My Drive/Grav_bootcamp/Training_500px/cont/760.jpg', '/content/drive/My Drive/Grav_bootcamp/Training_500px/cont/4763.JPG', '/content/drive/My Drive/Grav_bootcamp/Training_500px/cont/5495.jpg', '/content/drive/My Drive/Grav_bootcamp/Training_500px/cont/4947.jpg', '/content/drive/My Drive/Grav_bootcamp/Training_500px/cont/2969.jpg', '/content/drive/My Drive/Grav_bootcamp/Training_500px/cont/4194.jpg', '/content/drive/My Drive/Grav_bootcamp/Training_500px/cont/806.jpg', '/content/drive/My Drive/Grav_bootcamp/Training_500px/cont/1338.JPG', '/content/drive/My Drive/Grav_bootcamp/Training_500px/cont/490.JPG', '/content/drive/My Drive/Grav_bootcamp/Training_500px/cont/5839.JPG', '/content/drive/My Drive/Grav_bootcamp/Training_500px/cont/3857.JPG', '/content/drive/My Drive/Grav_bootcamp/Training_500px/cont/3813.JPG', '/content/drive/My Drive/Grav_bootcamp/Training_500px/cont/641.jpg', '/content/drive/My Drive/Grav_bootcamp/Training_500px/cont/2597.jpg', '/content/drive/My Drive/Grav_bootcamp/Training_500px/cont/8088.jpg', '/content/drive/My Drive/Grav_bootcamp/Training_500px/cont/1094.JPG', '/content/drive/My Drive/Grav_bootcamp/Training_500px/cont/278.jpg', '/content/drive/My Drive/Grav_bootcamp/Training_500px/cont/6307.jpg', '/content/drive/My Drive/Grav_bootcamp/Training_500px/cont/398.jpg', '/content/drive/My Drive/Grav_bootcamp/Training_500px/cont/147.JPG', '/content/drive/My Drive/Grav_bootcamp/Training_500px/cont/2371.jpg', '/content/drive/My Drive/Grav_bootcamp/Training_500px/cont/4575.jpg', '/content/drive/My Drive/Grav_bootcamp/Training_500px/cont/1160.jpg', '/content/drive/My Drive/Grav_bootcamp/Training_500px/cont/1821.jpg', '/content/drive/My Drive/Grav_bootcamp/Training_500px/cont/6119.JPG', '/content/drive/My Drive/Grav_bootcamp/Training_500px/cont/3728.JPG', '/content/drive/My Drive/Grav_bootcamp/Training_500px/cont/8019.jpg', '/content/drive/My Drive/Grav_bootcamp/Training_500px/cont/2771.JPG', '/content/drive/My Drive/Grav_bootcamp/Training_500px/cont/7960.jpg', '/content/drive/My Drive/Grav_bootcamp/Training_500px/cont/896.jpg', '/content/drive/My Drive/Grav_bootcamp/Training_500px/cont/2290.jpg', '/content/drive/My Drive/Grav_bootcamp/Training_500px/cont/1369.jpg', '/content/drive/My Drive/Grav_bootcamp/Training_500px/cont/5331.JPG', '/content/drive/My Drive/Grav_bootcamp/Training_500px/cont/2550.jpg', '/content/drive/My Drive/Grav_bootcamp/Training_500px/cont/4762.jpg', '/content/drive/My Drive/Grav_bootcamp/Training_500px/cont/4705.jpg', '/content/drive/My Drive/Grav_bootcamp/Training_500px/cont/6073.jpg', '/content/drive/My Drive/Grav_bootcamp/Training_500px/cont/7691.jpg', '/content/drive/My Drive/Grav_bootcamp/Training_500px/cont/7057.jpg', '/content/drive/My Drive/Grav_bootcamp/Training_500px/cont/85.jpg', '/content/drive/My Drive/Grav_bootcamp/Training_500px/cont/3663.jpg', '/content/drive/My Drive/Grav_bootcamp/Training_500px/cont/8120.JPG', '/content/drive/My Drive/Grav_bootcamp/Training_500px/cont/5158.JPG', '/content/drive/My Drive/Grav_bootcamp/Training_500px/cont/5881.jpg', '/content/drive/My Drive/Grav_bootcamp/Training_500px/cont/7256.jpg', '/content/drive/My Drive/Grav_bootcamp/Training_500px/cont/5599.JPG', '/content/drive/My Drive/Grav_bootcamp/Training_500px/cont/5807.jpg', '/content/drive/My Drive/Grav_bootcamp/Training_500px/cont/1342.JPG', '/content/drive/My Drive/Grav_bootcamp/Training_500px/cont/6177.jpg', '/content/drive/My Drive/Grav_bootcamp/Training_500px/cont/5143.jpg', '/content/drive/My Drive/Grav_bootcamp/Training_500px/cont/2076.jpg']\n"
          ],
          "name": "stdout"
        },
        {
          "output_type": "execute_result",
          "data": {
            "application/vnd.google.colaboratory.intrinsic+json": {
              "type": "string"
            },
            "text/plain": [
              "'\\n#画像のサイズを確認\\nfor i in im_list:\\n    img = Image.open(i)\\n    width, height = img.size\\n    print(\"width:\"+str(width)+\", height:\"+str(height)+\", width/height:\"+str(width/height))\\n'"
            ]
          },
          "metadata": {
            "tags": []
          },
          "execution_count": 21
        }
      ]
    },
    {
      "cell_type": "markdown",
      "metadata": {
        "id": "Q5n6v0ZcVluL",
        "colab_type": "text"
      },
      "source": [
        "#**画像の配列**\n",
        "参考サイト： https://note.nkmk.me/python-pillow-concat-images/"
      ]
    },
    {
      "cell_type": "code",
      "metadata": {
        "id": "RvOs1hr0R_3C",
        "colab_type": "code",
        "colab": {}
      },
      "source": [
        "def get_concat_h_multi_resize(im_list, resample=Image.BICUBIC):\n",
        "    min_height = min(im.height for im in im_list)\n",
        "    im_list_resize = [im.resize((int(im.width * min_height / im.height), min_height),resample=resample)\n",
        "                      for im in im_list]\n",
        "    total_width = sum(im.width for im in im_list_resize)\n",
        "    dst = Image.new('RGB', (total_width, min_height))\n",
        "    pos_x = 0\n",
        "    for im in im_list_resize:\n",
        "        dst.paste(im, (pos_x, 0))\n",
        "        pos_x += im.width\n",
        "    return dst\n",
        "\n",
        "def get_concat_v_multi_resize(im_list, resample=Image.BICUBIC):\n",
        "    min_width = min(im.width for im in im_list)\n",
        "    im_list_resize = [im.resize((min_width, int(im.height * min_width / im.width)),resample=resample)\n",
        "                      for im in im_list]\n",
        "    total_height = sum(im.height for im in im_list_resize)\n",
        "    dst = Image.new('RGB', (min_width, total_height))\n",
        "    pos_y = 0\n",
        "    for im in im_list_resize:\n",
        "        dst.paste(im, (0, pos_y))\n",
        "        pos_y += im.height\n",
        "    return dst\n",
        "\n",
        "def get_concat_tile_resize(im_list_2d, resample=Image.BICUBIC):\n",
        "    im_list_v = [get_concat_h_multi_resize(im_list_h, resample=resample) for im_list_h in im_list_2d]\n",
        "    return get_concat_v_multi_resize(im_list_v, resample=resample)"
      ],
      "execution_count": 13,
      "outputs": []
    },
    {
      "cell_type": "code",
      "metadata": {
        "id": "EMlga1VRsaj_",
        "colab_type": "code",
        "colab": {
          "base_uri": "https://localhost:8080/",
          "height": 173
        },
        "outputId": "2779e100-56a7-498d-d95e-12de5ca715a8"
      },
      "source": [
        "img_path = im_list[0:16]\n",
        "print(img_path)\n",
        "im = [0]*16\n",
        "\n",
        "\n",
        "#画像を2*8で配列して保存\n",
        "k=0\n",
        "j=0\n",
        "m=1\n",
        "for i in range(7):\n",
        "    im_list = img_path[k:k+8]\n",
        "    \n",
        "    j=0\n",
        "    for i in im_list:\n",
        "        im[j] = Image.open(i)\n",
        "        j+=1\n",
        "\n",
        "    get_concat_tile_resize([[im[0],im[1],im[2],im[3]],[im[4],im[5],im[6],im[7]]]).save(\"/content/drive/My Drive/Grav_bootcamp/Training用配列済/\"+\"cont500px_\"+str(m)+\".jpg\")\n",
        "    print(\"画像出力済: \"+str(m))\n",
        "    \n",
        "    m+=1\n",
        "    k+=16\n"
      ],
      "execution_count": 24,
      "outputs": [
        {
          "output_type": "stream",
          "text": [
            "['/content/drive/My Drive/Grav_bootcamp/Training_500px/cont/4872.JPG', '/content/drive/My Drive/Grav_bootcamp/Training_500px/cont/3902.JPG', '/content/drive/My Drive/Grav_bootcamp/Training_500px/cont/444.jpg', '/content/drive/My Drive/Grav_bootcamp/Training_500px/cont/542.jpg', '/content/drive/My Drive/Grav_bootcamp/Training_500px/cont/186.jpg', '/content/drive/My Drive/Grav_bootcamp/Training_500px/cont/3222.jpg', '/content/drive/My Drive/Grav_bootcamp/Training_500px/cont/3368.JPG', '/content/drive/My Drive/Grav_bootcamp/Training_500px/cont/802.jpg', '/content/drive/My Drive/Grav_bootcamp/Training_500px/cont/5457.jpg', '/content/drive/My Drive/Grav_bootcamp/Training_500px/cont/168.jpg', '/content/drive/My Drive/Grav_bootcamp/Training_500px/cont/6706.JPG', '/content/drive/My Drive/Grav_bootcamp/Training_500px/cont/4817.jpg', '/content/drive/My Drive/Grav_bootcamp/Training_500px/cont/958.jpg', '/content/drive/My Drive/Grav_bootcamp/Training_500px/cont/5714.jpg', '/content/drive/My Drive/Grav_bootcamp/Training_500px/cont/514.jpg', '/content/drive/My Drive/Grav_bootcamp/Training_500px/cont/4456.jpg']\n",
            "画像出力済: 1\n",
            "画像出力済: 2\n",
            "画像出力済: 3\n",
            "画像出力済: 4\n",
            "画像出力済: 5\n",
            "画像出力済: 6\n",
            "画像出力済: 7\n"
          ],
          "name": "stdout"
        }
      ]
    }
  ]
}