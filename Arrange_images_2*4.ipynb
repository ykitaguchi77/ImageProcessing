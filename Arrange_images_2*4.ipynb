{
  "nbformat": 4,
  "nbformat_minor": 0,
  "metadata": {
    "colab": {
      "name": "Untitled51.ipynb",
      "provenance": [],
      "toc_visible": true,
      "authorship_tag": "ABX9TyPaoUjkid7U8i454RfmkYSY",
      "include_colab_link": true
    },
    "kernelspec": {
      "name": "python3",
      "display_name": "Python 3"
    }
  },
  "cells": [
    {
      "cell_type": "markdown",
      "metadata": {
        "id": "view-in-github",
        "colab_type": "text"
      },
      "source": [
        "<a href=\"https://colab.research.google.com/github/ykitaguchi77/ImageProcessing/blob/master/Arrange_images_2*4.ipynb\" target=\"_parent\"><img src=\"https://colab.research.google.com/assets/colab-badge.svg\" alt=\"Open In Colab\"/></a>"
      ]
    },
    {
      "cell_type": "markdown",
      "metadata": {
        "id": "ycV87o_K7sjY",
        "colab_type": "text"
      },
      "source": [
        "#**フォルダ内の画像を、2×4のカラム状に並べて出力するスクリプト**\n",
        "\n",
        "1.   リスト項目\n",
        "2.   リスト項目\n",
        "\n"
      ]
    },
    {
      "cell_type": "code",
      "metadata": {
        "id": "11TM-66q8kss",
        "colab_type": "code",
        "colab": {
          "base_uri": "https://localhost:8080/",
          "height": 34
        },
        "outputId": "5933a63b-bb32-4d22-f2b1-ef9b4a202043"
      },
      "source": [
        "from PIL import Image\n",
        "import glob\n",
        "\n",
        "#Google colabをマウント\n",
        "from google.colab import drive\n",
        "drive.mount('/content/drive')"
      ],
      "execution_count": 10,
      "outputs": [
        {
          "output_type": "stream",
          "text": [
            "Drive already mounted at /content/drive; to attempt to forcibly remount, call drive.mount(\"/content/drive\", force_remount=True).\n"
          ],
          "name": "stdout"
        }
      ]
    },
    {
      "cell_type": "code",
      "metadata": {
        "id": "HONHBUgSBHhe",
        "colab_type": "code",
        "colab": {
          "base_uri": "https://localhost:8080/",
          "height": 236
        },
        "outputId": "207eef7e-4299-4881-8a2e-df6b7862e80a"
      },
      "source": [
        "#画像のリストを取得\n",
        "img_path = glob.glob(\"/content/drive/My Drive/Grav_bootcamp/Training_500px/cont/*\")\n",
        "print(len(img_path))\n",
        "#print(img_path)\n",
        "\n",
        "#画像を入れるリストを用意\n",
        "im_list = img_path[0:240]\n",
        "print(len(im_list))\n",
        "print(im_list)\n",
        "\n",
        "\"\"\"\n",
        "#画像のサイズを確認\n",
        "for i in im_list:\n",
        "    img = Image.open(i)\n",
        "    width, height = img.size\n",
        "    print(\"width:\"+str(width)+\", height:\"+str(height)+\", width/height:\"+str(width/height))\n",
        "\"\"\""
      ],
      "execution_count": 1,
      "outputs": [
        {
          "output_type": "error",
          "ename": "NameError",
          "evalue": "ignored",
          "traceback": [
            "\u001b[0;31m---------------------------------------------------------------------------\u001b[0m",
            "\u001b[0;31mNameError\u001b[0m                                 Traceback (most recent call last)",
            "\u001b[0;32m<ipython-input-1-f1723ff5e24f>\u001b[0m in \u001b[0;36m<module>\u001b[0;34m()\u001b[0m\n\u001b[1;32m      1\u001b[0m \u001b[0;31m#画像のリストを取得\u001b[0m\u001b[0;34m\u001b[0m\u001b[0;34m\u001b[0m\u001b[0;34m\u001b[0m\u001b[0m\n\u001b[0;32m----> 2\u001b[0;31m \u001b[0mimg_path\u001b[0m \u001b[0;34m=\u001b[0m \u001b[0mglob\u001b[0m\u001b[0;34m.\u001b[0m\u001b[0mglob\u001b[0m\u001b[0;34m(\u001b[0m\u001b[0;34m\"/content/drive/My Drive/Grav_bootcamp/Training_500px/cont/*\"\u001b[0m\u001b[0;34m)\u001b[0m\u001b[0;34m\u001b[0m\u001b[0;34m\u001b[0m\u001b[0m\n\u001b[0m\u001b[1;32m      3\u001b[0m \u001b[0mprint\u001b[0m\u001b[0;34m(\u001b[0m\u001b[0mlen\u001b[0m\u001b[0;34m(\u001b[0m\u001b[0mimg_path\u001b[0m\u001b[0;34m)\u001b[0m\u001b[0;34m)\u001b[0m\u001b[0;34m\u001b[0m\u001b[0;34m\u001b[0m\u001b[0m\n\u001b[1;32m      4\u001b[0m \u001b[0;31m#print(img_path)\u001b[0m\u001b[0;34m\u001b[0m\u001b[0;34m\u001b[0m\u001b[0;34m\u001b[0m\u001b[0m\n\u001b[1;32m      5\u001b[0m \u001b[0;34m\u001b[0m\u001b[0m\n",
            "\u001b[0;31mNameError\u001b[0m: name 'glob' is not defined"
          ]
        }
      ]
    },
    {
      "cell_type": "markdown",
      "metadata": {
        "id": "Q5n6v0ZcVluL",
        "colab_type": "text"
      },
      "source": [
        "#**画像の配列**\n",
        "参考サイト： https://note.nkmk.me/python-pillow-concat-images/"
      ]
    },
    {
      "cell_type": "code",
      "metadata": {
        "id": "RvOs1hr0R_3C",
        "colab_type": "code",
        "colab": {}
      },
      "source": [
        "def get_concat_h_multi_resize(im_list, resample=Image.BICUBIC):\n",
        "    min_height = min(im.height for im in im_list)\n",
        "    im_list_resize = [im.resize((int(im.width * min_height / im.height), min_height),resample=resample)\n",
        "                      for im in im_list]\n",
        "    total_width = sum(im.width for im in im_list_resize)\n",
        "    dst = Image.new('RGB', (total_width, min_height))\n",
        "    pos_x = 0\n",
        "    for im in im_list_resize:\n",
        "        dst.paste(im, (pos_x, 0))\n",
        "        pos_x += im.width\n",
        "    return dst\n",
        "\n",
        "def get_concat_v_multi_resize(im_list, resample=Image.BICUBIC):\n",
        "    min_width = min(im.width for im in im_list)\n",
        "    im_list_resize = [im.resize((min_width, int(im.height * min_width / im.width)),resample=resample)\n",
        "                      for im in im_list]\n",
        "    total_height = sum(im.height for im in im_list_resize)\n",
        "    dst = Image.new('RGB', (min_width, total_height))\n",
        "    pos_y = 0\n",
        "    for im in im_list_resize:\n",
        "        dst.paste(im, (0, pos_y))\n",
        "        pos_y += im.height\n",
        "    return dst\n",
        "\n",
        "def get_concat_tile_resize(im_list_2d, resample=Image.BICUBIC):\n",
        "    im_list_v = [get_concat_h_multi_resize(im_list_h, resample=resample) for im_list_h in im_list_2d]\n",
        "    return get_concat_v_multi_resize(im_list_v, resample=resample)"
      ],
      "execution_count": 13,
      "outputs": []
    },
    {
      "cell_type": "code",
      "metadata": {
        "id": "EMlga1VRsaj_",
        "colab_type": "code",
        "colab": {
          "base_uri": "https://localhost:8080/",
          "height": 173
        },
        "outputId": "2779e100-56a7-498d-d95e-12de5ca715a8"
      },
      "source": [
        "img_path = im_list[0:16]\n",
        "print(img_path)\n",
        "im = [0]*16\n",
        "\n",
        "\n",
        "#画像を2*8で配列して保存\n",
        "k=0\n",
        "j=0\n",
        "m=1\n",
        "for i in range(7):\n",
        "    im_list = img_path[k:k+8]\n",
        "    \n",
        "    j=0\n",
        "    for i in im_list:\n",
        "        im[j] = Image.open(i)\n",
        "        j+=1\n",
        "\n",
        "    get_concat_tile_resize([[im[0],im[1],im[2],im[3]],[im[4],im[5],im[6],im[7]]]).save(\"/content/drive/My Drive/Grav_bootcamp/Training用配列済/\"+\"cont500px_\"+str(m)+\".jpg\")\n",
        "    print(\"画像出力済: \"+str(m))\n",
        "    \n",
        "    m+=1\n",
        "    k+=16\n"
      ],
      "execution_count": 24,
      "outputs": [
        {
          "output_type": "stream",
          "text": [
            "['/content/drive/My Drive/Grav_bootcamp/Training_500px/cont/4872.JPG', '/content/drive/My Drive/Grav_bootcamp/Training_500px/cont/3902.JPG', '/content/drive/My Drive/Grav_bootcamp/Training_500px/cont/444.jpg', '/content/drive/My Drive/Grav_bootcamp/Training_500px/cont/542.jpg', '/content/drive/My Drive/Grav_bootcamp/Training_500px/cont/186.jpg', '/content/drive/My Drive/Grav_bootcamp/Training_500px/cont/3222.jpg', '/content/drive/My Drive/Grav_bootcamp/Training_500px/cont/3368.JPG', '/content/drive/My Drive/Grav_bootcamp/Training_500px/cont/802.jpg', '/content/drive/My Drive/Grav_bootcamp/Training_500px/cont/5457.jpg', '/content/drive/My Drive/Grav_bootcamp/Training_500px/cont/168.jpg', '/content/drive/My Drive/Grav_bootcamp/Training_500px/cont/6706.JPG', '/content/drive/My Drive/Grav_bootcamp/Training_500px/cont/4817.jpg', '/content/drive/My Drive/Grav_bootcamp/Training_500px/cont/958.jpg', '/content/drive/My Drive/Grav_bootcamp/Training_500px/cont/5714.jpg', '/content/drive/My Drive/Grav_bootcamp/Training_500px/cont/514.jpg', '/content/drive/My Drive/Grav_bootcamp/Training_500px/cont/4456.jpg']\n",
            "画像出力済: 1\n",
            "画像出力済: 2\n",
            "画像出力済: 3\n",
            "画像出力済: 4\n",
            "画像出力済: 5\n",
            "画像出力済: 6\n",
            "画像出力済: 7\n"
          ],
          "name": "stdout"
        }
      ]
    }
  ]
}