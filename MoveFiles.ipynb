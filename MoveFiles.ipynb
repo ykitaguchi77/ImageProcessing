{
  "nbformat": 4,
  "nbformat_minor": 0,
  "metadata": {
    "colab": {
      "name": "Untitled61.ipynb",
      "provenance": [],
      "authorship_tag": "ABX9TyOsQtjbTafCiz+jLIgheegM",
      "include_colab_link": true
    },
    "kernelspec": {
      "name": "python3",
      "display_name": "Python 3"
    }
  },
  "cells": [
    {
      "cell_type": "markdown",
      "metadata": {
        "id": "view-in-github",
        "colab_type": "text"
      },
      "source": [
        "<a href=\"https://colab.research.google.com/github/ykitaguchi77/ImageProcessing/blob/master/MoveFiles.ipynb\" target=\"_parent\"><img src=\"https://colab.research.google.com/assets/colab-badge.svg\" alt=\"Open In Colab\"/></a>"
      ]
    },
    {
      "cell_type": "code",
      "metadata": {
        "id": "T_BjIf-M2KdN",
        "colab_type": "code",
        "colab": {}
      },
      "source": [
        "  \n",
        "import shutil\n",
        "import os\n",
        "import csv\n",
        "\n",
        "'''\n",
        "フォルダ分けされている全てのファイルを、別の1つのフォルダ内にまとめるスクリプト\n",
        "「元画像フォルダ名-ファイル番号」という名前になる\n",
        "変換前\n",
        "-----1-----abc.jpg\n",
        "   |    |--def.jpg\n",
        "   |\n",
        "   |-2-----ghi.jpg     \n",
        "        |--jkl.jpg\n",
        "変換後\n",
        "---------1.jpg\n",
        "   |  |--2,jpg        \n",
        "   |  |--3.jpg\n",
        "   |  |--4.jpg\n",
        "   |-----image_list.csv(対応表）    \n",
        "       \n",
        "'''\n",
        "#元画像フォルダ\n",
        "#in_path = 'C://Users//Yoshi//仕事用Drive//進行中//データ取り中//AI眼位写真//眼位写真'\n",
        "in_path = 'C://Users//Yoshi//Desktop//ii//ii1'\n",
        "#保存先フォルダ\n",
        "#out_path = 'C://Users//Yoshi//仕事用Drive//進行中//データ取り中//AI眼位写真//眼位写真2'\n",
        "out_path = 'C://Users//Yoshi//Desktop//ii//ii2'\n",
        "\n",
        "#CSVファイルのフォルダ\n",
        "#csv_path = 'C://Users//Yoshi//仕事用Drive//進行中//データ取り中//AI眼位写真//眼位写真2//image_list.csv'\n",
        "csv_path = 'C://Users//Yoshi//Desktop//ii//ii2//image_list.csv'\n",
        "\n",
        "\n",
        "def main():\n",
        "\n",
        "    with open(csv_path, 'w', newline='') as f:\n",
        "        writer = csv.writer(f)\n",
        "\n",
        "        m=1\n",
        "        directory = os.listdir(in_path)\n",
        "        for i in directory:  #フォルダ数の分だけ\n",
        "            file = os.listdir(in_path + '//' + i)\n",
        "            l=0\n",
        "            for j in file:\n",
        "                print(in_path + '//' + i + '//' + j)\n",
        "                shutil.copy(in_path + '//' + i + '//' + j, out_path + '//'+ str(m+1) + '.jpg')\n",
        "                l+=1\n",
        "\n",
        "                #対応表の作成\n",
        "                writer.writerow([str(m), i, j,])\n",
        "                m+=1\n",
        "\n",
        "\n",
        "\n",
        "\n",
        "if __name__ == '__main__':\n",
        "        main()"
      ],
      "execution_count": null,
      "outputs": []
    }
  ]
}