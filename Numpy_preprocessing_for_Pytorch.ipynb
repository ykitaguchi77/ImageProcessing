{
  "nbformat": 4,
  "nbformat_minor": 0,
  "metadata": {
    "colab": {
      "provenance": [],
      "authorship_tag": "ABX9TyO0oP28D2sqB77SGFOQ4QIX",
      "include_colab_link": true
    },
    "kernelspec": {
      "name": "python3",
      "display_name": "Python 3"
    },
    "language_info": {
      "name": "python"
    }
  },
  "cells": [
    {
      "cell_type": "markdown",
      "metadata": {
        "id": "view-in-github",
        "colab_type": "text"
      },
      "source": [
        "<a href=\"https://colab.research.google.com/github/ykitaguchi77/ImageProcessing/blob/master/Numpy_preprocessing_for_Pytorch.ipynb\" target=\"_parent\"><img src=\"https://colab.research.google.com/assets/colab-badge.svg\" alt=\"Open In Colab\"/></a>"
      ]
    },
    {
      "cell_type": "markdown",
      "source": [
        "#**Numpy image processing for Pytorch**\n",
        "\n"
      ],
      "metadata": {
        "id": "rMjtLDqQahey"
      }
    },
    {
      "cell_type": "code",
      "source": [
        "import torch\n",
        "import os\n",
        "import IPython\n",
        "import shutil\n",
        "import glob\n",
        "from PIL import Image\n",
        "import matplotlib.pyplot as plt\n",
        "import numpy as np\n",
        "import torch\n",
        "import torchvision\n",
        "\n",
        "\n",
        "\n",
        "\n",
        "print('Setup complete. Using torch %s %s' % (torch.__version__, torch.cuda.get_device_properties(0) if torch.cuda.is_available() else 'CPU'))\n",
        "device = torch.device(\"cuda:0\" if torch.cuda.is_available() else \"cpu\")\n",
        "\n",
        "#GDriveをマウント\n",
        "from google.colab import drive\n",
        "drive.mount('/content/drive')"
      ],
      "metadata": {
        "colab": {
          "base_uri": "https://localhost:8080/"
        },
        "id": "kPoA9fqDbESK",
        "outputId": "a1092d72-c4af-4e68-f6d4-d3ee2ba3787a"
      },
      "execution_count": 1,
      "outputs": [
        {
          "output_type": "stream",
          "name": "stdout",
          "text": [
            "Setup complete. Using torch 1.12.1+cu113 CPU\n",
            "Mounted at /content/drive\n"
          ]
        }
      ]
    },
    {
      "cell_type": "code",
      "source": [
        "image_folder = \"/content/drive/MyDrive/Deep_learning/GO_extended_dataset/GO_newPatient_250px\"\n",
        "\n",
        "img_list = glob.glob(f\"{image_folder}/*\")\n",
        "img = img_list[0]\n",
        "print(img)\n",
        "\n",
        "#showimage\n",
        "# img = \"/content/drive/MyDrive/Deep_learning/Face_Images/test_dog.jpg\"\n",
        "img_np = np.array(Image.open(img)).astype(np.float32)\n",
        "print(img_np)\n",
        "plt.imshow((img_np).astype(np.uint8))\n",
        "plt.show()"
      ],
      "metadata": {
        "id": "g_6_yFhobGhG"
      },
      "execution_count": null,
      "outputs": []
    },
    {
      "cell_type": "code",
      "source": [
        "#ImageNetでnormalizeする（ImageとNumpyで255倍異なるので補正）\n",
        "def zscore(x, axis=None):\n",
        "    # xmean = x.mean(axis=axis, keepdims=True)\n",
        "    xmean = [n*255 for n in [0.485, 0.456, 0.406]]\n",
        "    # xstd = np.std(x, axis=axis, keepdims=True)\n",
        "    xstd = [n*255 for n in [0.229, 0.224, 0.225]]\n",
        "    zscore = (x-xmean)/xstd\n",
        "    return zscore\n",
        "\n",
        "PIL_img = Image.open(img)\n",
        "PIL_img = PIL_img.resize((224,224), resample=0)\n",
        "\n",
        "#convert PIL to numpy\n",
        "img_np = np.array(PIL_img).astype(np.float32)\n",
        "img_np = zscore(img_np)\n",
        "\n",
        "print(img_np)\n",
        "\n",
        "plt.imshow(img_np)\n",
        "plt.show()\n"
      ],
      "metadata": {
        "id": "bBki6N5nkrgL"
      },
      "execution_count": null,
      "outputs": []
    },
    {
      "cell_type": "code",
      "source": [
        "#torch.transformsと同じ値になることを確認\n",
        "from torchvision import models, transforms\n",
        "\n",
        "preprocess = transforms.Compose([\n",
        "    transforms.Resize(224),\n",
        "    transforms.ToTensor(),\n",
        "    transforms.Normalize(\n",
        "        mean=[0.485, 0.456, 0.406],\n",
        "        std=[0.229, 0.224, 0.225]\n",
        "    )\n",
        "])\n",
        "\n",
        "PIL_img = Image.open(img)\n",
        "img_tensor = preprocess(PIL_img)\n",
        "img_np = img_tensor.to(\"cpu\").detach().numpy().transpose(1, 2, 0).copy()\n",
        "print(img_np)\n"
      ],
      "metadata": {
        "id": "ulyJBywpcSWE"
      },
      "execution_count": null,
      "outputs": []
    }
  ]
}