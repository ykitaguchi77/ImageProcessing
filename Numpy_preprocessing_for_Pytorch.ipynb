{
  "nbformat": 4,
  "nbformat_minor": 0,
  "metadata": {
    "colab": {
      "provenance": [],
      "authorship_tag": "ABX9TyOuUI9bAhgGkjMAm/mQb1LS",
      "include_colab_link": true
    },
    "kernelspec": {
      "name": "python3",
      "display_name": "Python 3"
    },
    "language_info": {
      "name": "python"
    }
  },
  "cells": [
    {
      "cell_type": "markdown",
      "metadata": {
        "id": "view-in-github",
        "colab_type": "text"
      },
      "source": [
        "<a href=\"https://colab.research.google.com/github/ykitaguchi77/ImageProcessing/blob/master/Numpy_preprocessing_for_Pytorch.ipynb\" target=\"_parent\"><img src=\"https://colab.research.google.com/assets/colab-badge.svg\" alt=\"Open In Colab\"/></a>"
      ]
    },
    {
      "cell_type": "markdown",
      "source": [
        "#**Numpy image processing for Pytorch**\n",
        "\n"
      ],
      "metadata": {
        "id": "rMjtLDqQahey"
      }
    },
    {
      "cell_type": "code",
      "source": [
        "import torch\n",
        "import os\n",
        "import IPython\n",
        "import shutil\n",
        "import glob\n",
        "from PIL import Image\n",
        "import matplotlib.pyplot as plt\n",
        "import numpy as np\n",
        "\n",
        "\n",
        "\n",
        "\n",
        "print('Setup complete. Using torch %s %s' % (torch.__version__, torch.cuda.get_device_properties(0) if torch.cuda.is_available() else 'CPU'))\n",
        "device = torch.device(\"cuda:0\" if torch.cuda.is_available() else \"cpu\")\n",
        "\n",
        "#GDriveをマウント\n",
        "from google.colab import drive\n",
        "drive.mount('/content/drive')"
      ],
      "metadata": {
        "colab": {
          "base_uri": "https://localhost:8080/"
        },
        "id": "kPoA9fqDbESK",
        "outputId": "653cd578-e88d-4205-c16a-bb4cf1050ef5"
      },
      "execution_count": 23,
      "outputs": [
        {
          "output_type": "stream",
          "name": "stdout",
          "text": [
            "Setup complete. Using torch 1.12.1+cu113 CPU\n",
            "Drive already mounted at /content/drive; to attempt to forcibly remount, call drive.mount(\"/content/drive\", force_remount=True).\n"
          ]
        }
      ]
    },
    {
      "cell_type": "code",
      "source": [
        "# image_folder = \"/content/drive/MyDrive/Deep_learning/GO_extended_dataset/GO_newPatient_250px\"\n",
        "\n",
        "# img_list = glob.glob(f\"{image_folder}/*\")\n",
        "# img = img_list[0]\n",
        "# print(img)\n",
        "\n",
        "img = \"/content/drive/MyDrive/Deep_learning/Face_Images/test_dog.jpg\"\n",
        "# img_np = np.array(Image.open(img)).astype(np.float32)\n",
        "# plt.imshow((img_np * 255).astype(np.uint8))\n",
        "plt.imshow(Image.open(img))\n",
        "plt.show()"
      ],
      "metadata": {
        "id": "g_6_yFhobGhG"
      },
      "execution_count": null,
      "outputs": []
    },
    {
      "cell_type": "code",
      "source": [
        "img = plt.imread('/content/drive/MyDrive/Deep_learning/Face_Images/test_dog.jpg')\n",
        "plt.imshow(img)\n",
        "plt.show()"
      ],
      "metadata": {
        "id": "gmpIIOPesZXZ"
      },
      "execution_count": null,
      "outputs": []
    },
    {
      "cell_type": "code",
      "source": [
        "def zscore(x, axis=None):\n",
        "    # xmean = x.mean(axis=axis, keepdims=True)\n",
        "    xmean = [0.485, 0.456, 0.406]\n",
        "    # xstd = np.std(x, axis=axis, keepdims=True)\n",
        "    xstd = [0.229, 0.224, 0.225]\n",
        "    zscore = (x-xmean)/xstd\n",
        "    return zscore\n",
        "\n",
        "PIL_img = Image.open(img)\n",
        "PIL_img = PIL_img.resize((224,224), resample=0)\n",
        "\n",
        "#convert PIL to numpy\n",
        "img_np = np.array(PIL_img).astype(np.float32)\n",
        "img_np = zscore(img_np)\n",
        "\n",
        "print(img_np)\n"
      ],
      "metadata": {
        "colab": {
          "base_uri": "https://localhost:8080/"
        },
        "id": "bBki6N5nkrgL",
        "outputId": "c14fec11-5876-48d3-82f3-8c334e8def79"
      },
      "execution_count": 44,
      "outputs": [
        {
          "output_type": "stream",
          "name": "stdout",
          "text": [
            "[[[ 41.55021834  38.14285714  15.97333333]\n",
            "  [ 93.95196507  91.71428571  69.30666667]\n",
            "  [146.35371179 145.28571429 122.64      ]\n",
            "  ...\n",
            "  [355.96069869 381.89285714 304.86222222]\n",
            "  [543.73362445 542.60714286 500.41777778]\n",
            "  [526.26637555 538.14285714 491.52888889]]\n",
            "\n",
            " [[ 28.44978166  24.75         7.08444444]\n",
            "  [ 72.11790393  69.39285714  51.52888889]\n",
            "  [102.68558952 100.64285714  78.19555556]\n",
            "  ...\n",
            "  [530.63318777 529.21428571 487.08444444]\n",
            "  [508.79912664 529.21428571 478.19555556]\n",
            "  [513.16593886 533.67857143 482.64      ]]\n",
            "\n",
            " [[ 19.71615721  15.82142857  -1.80444444]\n",
            "  [ 28.44978166  24.75         2.64      ]\n",
            "  [ 41.55021834  38.14285714  15.97333333]\n",
            "  ...\n",
            "  [508.79912664 529.21428571 478.19555556]\n",
            "  [517.53275109 529.21428571 482.64      ]\n",
            "  [517.53275109 529.21428571 482.64      ]]\n",
            "\n",
            " ...\n",
            "\n",
            " [[587.40174672 542.60714286 620.41777778]\n",
            "  [657.27074236 681.         744.86222222]\n",
            "  [652.90393013 663.14285714 740.41777778]\n",
            "  ...\n",
            "  [377.79475983 350.64285714 340.41777778]\n",
            "  [382.16157205 364.03571429 362.64      ]\n",
            "  [251.15720524 252.42857143 242.64      ]]\n",
            "\n",
            " [[535.         462.25       544.86222222]\n",
            "  [652.90393013 676.53571429 740.41777778]\n",
            "  [727.13973799 752.42857143 815.97333333]\n",
            "  ...\n",
            "  [115.7860262   73.85714286  64.86222222]\n",
            "  [242.42358079 207.78571429 211.52888889]\n",
            "  [198.75545852 185.46428571 171.52888889]]\n",
            "\n",
            " [[661.63755459 667.60714286 727.08444444]\n",
            "  [639.80349345 645.28571429 704.86222222]\n",
            "  [504.43231441 520.28571429 607.08444444]\n",
            "  ...\n",
            "  [128.88646288  78.32142857  87.08444444]\n",
            "  [224.95633188 185.46428571 189.30666667]\n",
            "  [351.59388646 332.78571429 331.52888889]]]\n"
          ]
        }
      ]
    },
    {
      "cell_type": "code",
      "source": [
        "from torchvision import models, transforms\n",
        "\n",
        "preprocess = transforms.Compose([\n",
        "    transforms.Resize(224),\n",
        "    transforms.ToTensor(),\n",
        "    transforms.Normalize(\n",
        "        mean=[0.485, 0.456, 0.406],\n",
        "        std=[0.229, 0.224, 0.225]\n",
        "    )\n",
        "])\n",
        "\n",
        "PIL_img = Image.open(img)\n",
        "img_tensor = preprocess(PIL_img)\n",
        "img_np = img_tensor.to(\"cpu\").detach().numpy().transpose(1, 2, 0).copy()\n",
        "print(img_np)"
      ],
      "metadata": {
        "colab": {
          "base_uri": "https://localhost:8080/"
        },
        "id": "ulyJBywpcSWE",
        "outputId": "00760dbf-5a36-4b38-a3a8-38712df794dc"
      },
      "execution_count": 43,
      "outputs": [
        {
          "output_type": "stream",
          "name": "stdout",
          "text": [
            "[[[-1.9466565  -1.8781512  -1.7172985 ]\n",
            "  [-1.8610327  -1.7906162  -1.6475817 ]\n",
            "  [-1.843908   -1.7731092  -1.6127234 ]\n",
            "  ...\n",
            "  [-0.5081771  -0.35504198 -0.32296288]\n",
            "  [-0.11430778  0.01260505  0.06047938]\n",
            "  [-0.04580877  0.08263306  0.13019615]]\n",
            "\n",
            " [[-1.9637812  -1.8956583  -1.7347276 ]\n",
            "  [-1.8781574  -1.8081232  -1.6475817 ]\n",
            "  [-1.8267832  -1.7556022  -1.6127234 ]\n",
            "  ...\n",
            "  [-0.35405433 -0.21498597 -0.16610013]\n",
            "  [-0.06293353  0.06512605  0.11276696]\n",
            "  [-0.06293353  0.06512605  0.11276696]]\n",
            "\n",
            " [[-1.980906   -1.9131652  -1.7347276 ]\n",
            "  [-1.8952821  -1.8256302  -1.68244   ]\n",
            "  [-1.8267832  -1.7556022  -1.6127234 ]\n",
            "  ...\n",
            "  [-0.13143253 -0.02240895  0.02562099]\n",
            "  [-0.08005828  0.06512605  0.09533776]\n",
            "  [-0.09718303  0.06512605  0.09533776]]\n",
            "\n",
            " ...\n",
            "\n",
            " [[ 0.12543888 -0.03991595  0.47878015]\n",
            "  [ 0.43368444  0.55532223  1.0539435 ]\n",
            "  [ 0.5193082   0.6778712   1.193377  ]\n",
            "  ...\n",
            "  [-1.1246684  -1.160364   -0.9504139 ]\n",
            "  [-1.004795   -1.0028011  -0.776122  ]\n",
            "  [-1.1246684  -1.0903361  -0.8981263 ]]\n",
            "\n",
            " [[ 0.21106265  0.17016806  0.6705013 ]\n",
            "  [ 0.21106265  0.3277312   0.827364  ]\n",
            "  [ 0.5535577   0.74789923  1.2282355 ]\n",
            "  ...\n",
            "  [-1.3986644  -1.5105042  -1.2815686 ]\n",
            "  [-1.141793   -1.1953781  -0.9678431 ]\n",
            "  [-0.9876702  -0.9852941  -0.7586928 ]]\n",
            "\n",
            " [[ 0.41655967  0.50280124  0.94936836]\n",
            "  [ 0.33093593  0.45028022  0.9319392 ]\n",
            "  [ 0.17681314  0.3452382   0.8447932 ]\n",
            "  ...\n",
            "  [-1.3986644  -1.5105042  -1.2467101 ]\n",
            "  [-1.2102921  -1.265406   -1.0201306 ]\n",
            "  [-0.81642264 -0.827731   -0.60182995]]]\n"
          ]
        }
      ]
    },
    {
      "cell_type": "code",
      "source": [],
      "metadata": {
        "id": "8Rr1qK6Pok-P"
      },
      "execution_count": null,
      "outputs": []
    }
  ]
}