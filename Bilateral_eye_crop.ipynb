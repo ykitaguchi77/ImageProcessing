{
  "nbformat": 4,
  "nbformat_minor": 0,
  "metadata": {
    "colab": {
      "name": "Untitled37.ipynb",
      "provenance": [],
      "include_colab_link": true
    },
    "kernelspec": {
      "name": "python3",
      "display_name": "Python 3"
    },
    "accelerator": "GPU"
  },
  "cells": [
    {
      "cell_type": "markdown",
      "metadata": {
        "id": "view-in-github",
        "colab_type": "text"
      },
      "source": [
        "<a href=\"https://colab.research.google.com/github/ykitaguchi77/ImageProcessing/blob/master/Bilateral_eye_crop.ipynb\" target=\"_parent\"><img src=\"https://colab.research.google.com/assets/colab-badge.svg\" alt=\"Open In Colab\"/></a>"
      ]
    },
    {
      "cell_type": "markdown",
      "metadata": {
        "id": "C2mKFMmwfTOi",
        "colab_type": "text"
      },
      "source": [
        "#顔の画像から目を検出して切り抜くスクリプト\n",
        "・Haarcascade_eyeを使用<br>\n",
        "・目が検出できないものはskipする<br>\n",
        "・検出された目周囲の画像を縦横とも1.1倍の幅で切り抜く\n",
        "・切り取った画像を250px*250pxにresizeする<br>\n",
        "・対応表をCSV形式で出力（連番、左右、元フォルダ、元画像名）"
      ]
    },
    {
      "cell_type": "code",
      "metadata": {
        "id": "I5xvbecME5IS",
        "colab_type": "code",
        "colab": {}
      },
      "source": [
        "import numpy as np\n",
        "import matplotlib.pyplot as plt\n",
        "import time\n",
        "import os\n",
        "import copy\n",
        "import pandas as pd\n",
        "import csv\n",
        "from random import randint\n",
        "from time import sleep\n",
        "import math\n",
        "\n",
        "import glob\n",
        "import random\n",
        "from PIL import Image\n",
        "%matplotlib inline\n",
        "\n",
        "#サポートパッチのインポート\n",
        "from google.colab.patches import cv2_imshow\n",
        "import cv2\n",
        "\n",
        "plt.ion()   # interactive mode"
      ],
      "execution_count": 0,
      "outputs": []
    },
    {
      "cell_type": "markdown",
      "metadata": {
        "id": "v0ZI4pHmFDXZ",
        "colab_type": "text"
      },
      "source": [
        "#Google colabをマウント"
      ]
    },
    {
      "cell_type": "code",
      "metadata": {
        "id": "zkrhEditFGkP",
        "colab_type": "code",
        "outputId": "8aa7dd06-9ef6-4313-dc35-a00233f8daa1",
        "colab": {
          "base_uri": "https://localhost:8080/",
          "height": 105
        }
      },
      "source": [
        "from google.colab import drive\n",
        "drive.mount('/content/drive')\n",
        "\n",
        "!date -R\n",
        "!unzip -qq drive/My\\ Drive/Deep_learning/gravcont_original.zip\n",
        "!date -R\n",
        "!ls\n"
      ],
      "execution_count": 0,
      "outputs": [
        {
          "output_type": "stream",
          "text": [
            "Drive already mounted at /content/drive; to attempt to forcibly remount, call drive.mount(\"/content/drive\", force_remount=True).\n",
            "Fri, 14 Feb 2020 17:40:27 +0000\n",
            "replace cont/1000.jpg? [y]es, [n]o, [A]ll, [N]one, [r]ename: N\n",
            "Fri, 14 Feb 2020 17:40:33 +0000\n",
            "cont  drive  grav  sample_data\n"
          ],
          "name": "stdout"
        }
      ]
    },
    {
      "cell_type": "code",
      "metadata": {
        "id": "oSA2Rm9MFXoZ",
        "colab_type": "code",
        "colab": {}
      },
      "source": [
        "#元画像フォルダ\n",
        "in_path = '/content/cont'\n",
        "\n",
        "#保存先フォルダ\n",
        "out_path = '/content/drive/My Drive/Deep_learning/cont_processed'\n",
        "\n",
        "#CSVファイルのフォルダ\n",
        "#csv_path = '/content/drive/My Drive/Deep_learning/eyelid_images/eyelid_images.csv'\n"
      ],
      "execution_count": 0,
      "outputs": []
    },
    {
      "cell_type": "markdown",
      "metadata": {
        "id": "v0shkziUPn1c",
        "colab_type": "text"
      },
      "source": [
        "#Haarcascadeを指定"
      ]
    },
    {
      "cell_type": "code",
      "metadata": {
        "id": "qfu_RX-kIlmx",
        "colab_type": "code",
        "colab": {}
      },
      "source": [
        "# カスケードファイルのパス\n",
        "eye_cascade_path = '/content/drive/My Drive/Deep_learning/haarcascade_eye.xml'\n",
        "\n",
        "# カスケード分類器の特徴量取得\n",
        "eye_cascade = cv2.CascadeClassifier(eye_cascade_path)"
      ],
      "execution_count": 0,
      "outputs": []
    },
    {
      "cell_type": "markdown",
      "metadata": {
        "id": "Nn5-wvNm1-HU",
        "colab_type": "text"
      },
      "source": [
        "#処理するdirectoryの設定\n",
        "（画像が多い時には複数回に分ける）"
      ]
    },
    {
      "cell_type": "code",
      "metadata": {
        "id": "oARDCa9aFT9E",
        "colab_type": "code",
        "outputId": "3685e122-eff5-4434-b632-0823b61a726c",
        "colab": {
          "base_uri": "https://localhost:8080/",
          "height": 90
        }
      },
      "source": [
        "#処理するDirectoryの設定\n",
        "file = os.listdir(in_path)\n",
        "print(len(file))\n",
        "\n",
        "#ここにフォルダ番号を記載する (ex. [0:999])\n",
        "processing_file = file[0:322]\n",
        "print(processing_file)\n",
        "len(processing_file)"
      ],
      "execution_count": 0,
      "outputs": [
        {
          "output_type": "stream",
          "text": [
            "322\n",
            "['1348.jpg', '1165.jpg', '1531.jpg', '1434.JPG', '605.jpg', '813.jpg', '547.jpg', '858.JPG', '132.jpg', '623.jpg', '1405.JPG', '310.jpg', '1256.JPG', '1054.jpg', '349.jpg', '689.jpg', '1102.jpg', '490.JPG', '1170.jpg', '1494.jpg', '1101.JPG', '112.jpg', '1495.jpg', '311.JPG', '1059.jpg', '1019.jpg', '548.jpg', '324.JPG', '943.jpg', '934.jpg', '726.jpg', '1122.jpg', '611.jpg', '66.jpg', '1361.jpg', '1066.jpg', '225.jpg', '13.JPG', '1461.jpg', '1281.jpg', '1291.jpg', '1254.JPG', '116.JPG', '1542.jpg', '809.JPG', '401.jpg', '1249.jpg', '711.jpg', '110.jpg', '1459.jpg', '402.JPG', '1463.jpg', '38.JPG', '388.jpg', '347.jpg', '1547.jpg', '923.jpg', '372.JPG', '1372.jpg', '259.jpg', '1134.jpg', '1014.JPG', '976.jpg', '444.jpg', '1086.jpg', '1045.JPG', '398.jpg', '589.jpg', '775.jpg', '1462.JPG', '1468.JPG', '124.jpg', '210.jpg', '735.jpg', '641.jpg', '1369.jpg', '267.jpg', '948.JPG', '1303.JPG', '1319.jpg', '1428.jpg', '871.JPG', '179.JPG', '98.jpg', '513.jpg', '345.jpg', '1145.jpg', '1342.JPG', '1470.jpg', '369.jpg', '1465.jpg', '620.jpg', '1131.jpg', '163.jpg', '881.JPG', '1263.jpg', '7867.jpg.jpg', '373.jpg', '837.jpg', '190.jpg', '1473.JPG', '1160.jpg', '891.jpg', '1488.jpg', '760.jpg', '995.jpg', '149.jpg', '936.JPG', '955.jpg', '945.JPG', '1318.jpg', '1085.jpg', '204.jpg', '742.jpg', '255.jpg', '476.jpg', '843.jpg', '278.jpg', '1393.jpg', '702.jpg', '410.JPG', '106.jpg', '440.jpg', '229.jpg', '184.JPG', '685.jpg', '469.jpg', '209.jpg', '458.jpg', '201.JPG', '1222.JPG', '746.jpg', '1162.JPG', '1017.jpg', '785.JPG', '870.JPG', '262.jpg', '498.jpg', '172.jpg', '186.jpg', '1320.jpg', '604.jpg', '495.JPG', '145.JPG', '91.jpg', '496.jpg', '914.jpg', '1039.jpg', '120.jpg', '416.JPG', '139.jpg', '1224.jpg', '1230.JPG', '969.jpg', '1404.JPG', '1414.jpg', '158.jpg', '81.jpg', '1512.JPG', '317.jpg', '996.jpg', '75.jpg', '383.jpg', '152.JPG', '130.jpg', '1213.JPG', '119.jpg', '863.jpg', '1349.JPG', '1360.jpg', '1490.JPG', '562.jpg', '1094.JPG', '958.jpg', '1079.jpg', '1084.JPG', '1043.jpg', '1410.JPG', '362.jpg', '1322.jpg', '409.jpg', '1424.JPG', '1182.jpg', '786.jpg', '232.JPG', '87.JPG', '1502.jpg', '981.jpg', '215.jpg', '1166.JPG', '321.jpg', '1266.jpg', '1034.jpg', '196.jpg', '1234.jpg', '732.JPG', '932.JPG', '69.JPG', '1276.jpg', '1188.jpg', '854.jpg', '1124.jpg', '508.JPG', '811.jpg', '1241.jpg', '1193.jpg', '1423.jpg', '821.jpg', '1009.jpg', '191.jpg', '1012.jpg', '1305.jpg', '1522.jpg', '1439.jpg', '567.JPG', '1443.JPG', '1082.jpg', '1458.jpg', '477.jpg', '147.JPG', '946.JPG', '47.jpg', '503.jpg', '1116.jpg', '810.JPG', '308.jpg', '1000.jpg', '1111.jpg', '1187.jpg', '126.jpg', '1126.jpg', '294.jpg', '343.jpg', '1143.jpg', '657.jpg', '1010.jpg', '1118.jpg', '1181.jpg', '1498.JPG', '1210.jpg', '364.jpg', '1244.JPG', '545.jpg', '678.jpg', '368.jpg', '137.jpg', '506.jpg', '565.jpg', '1031.jpg', '910.jpg', '144.JPG', '280.jpg', '642.jpg', '776.jpg', '701.JPG', '745.jpg', '719.JPG', '956.jpg', '639.JPG', '941.jpg', '514.jpg', '659.jpg', '1023.jpg', '200.jpg', '1296.jpg', '591.jpg', '699.JPG', '544.jpg', '1063.jpg', '253.JPG', '1029.jpg', '1413.jpg', '913.jpg', '730.JPG', '217.jpg', '439.JPG', '998.jpg', '1451.jpg', '1136.jpg', '118.JPG', '27.jpg', '1025.jpg', '1033.JPG', '185.JPG', '221.jpg', '1312.jpg', '646.jpg', '292.jpg', '1021.jpg', '1515.jpg', '85.jpg', '576.jpg', '1233.jpg', '230.JPG', '802.jpg', '1050.jpg', '577.jpg', '214.JPG', '806.jpg', '542.jpg', '168.jpg', '529.JPG', '861.jpg', '584.JPG', '1220.jpg', '712.jpg', '830.jpg', '1127.jpg', '1295.jpg', '896.jpg', '1144.jpg', '592.jpg', '234.jpg', '1329.jpg', '630.jpg', '1568.jpg', '303.jpg', '1541.jpg', '1381.JPG', '1338.JPG', '183.jpg', '1074.JPG']\n"
          ],
          "name": "stdout"
        },
        {
          "output_type": "execute_result",
          "data": {
            "text/plain": [
              "322"
            ]
          },
          "metadata": {
            "tags": []
          },
          "execution_count": 84
        }
      ]
    },
    {
      "cell_type": "markdown",
      "metadata": {
        "id": "4zgZidHPryLT",
        "colab_type": "text"
      },
      "source": [
        "#画像切り抜き\n",
        "大きい辺を1辺とする正方形に整形する"
      ]
    },
    {
      "cell_type": "code",
      "metadata": {
        "id": "Pdjr_cnYkTJd",
        "colab_type": "code",
        "colab": {}
      },
      "source": [
        "def expand2square(pil_img, background_color):\n",
        "    width, height = pil_img.size\n",
        "    if width == height:\n",
        "        return pil_img\n",
        "    elif width > height:\n",
        "        result = Image.new(pil_img.mode, (width, width), background_color)\n",
        "        result.paste(pil_img, (0, (width-height)//2))\n",
        "        return result\n",
        "    else:\n",
        "        result = Image.new(pil_img.mode, (height, height), background_color)\n",
        "        result.paste(pil_img, (0, (height - width) // 2))\n",
        "        return result"
      ],
      "execution_count": 0,
      "outputs": []
    },
    {
      "cell_type": "code",
      "metadata": {
        "id": "v9ZRZ2MPPWGh",
        "colab_type": "code",
        "colab": {}
      },
      "source": [
        "#処理時間の計測\n",
        "start = time.time()\n",
        "\n",
        "l=0\n",
        "for i in processing_file:\n",
        "      l+=1\n",
        "      print('')\n",
        "      print(str(l))\n",
        "      print(str(i))\n",
        "      print('image path = '+ in_path + '/' + i)\n",
        "\n",
        "      #OPEN CVで画像を読み込み\n",
        "      img = cv2.imread(in_path + '/' + i) \n",
        "      \n",
        "      # 画像グレースケール化\n",
        "      grayscale_img = cv2.cvtColor(img, cv2.COLOR_RGB2GRAY)\n",
        "\n",
        "      #100pix以上のもので目に見えるものを抽出\n",
        "      eye_list = eye_cascade.detectMultiScale(grayscale_img, minSize=(100, 100))\n",
        "                    \n",
        "      # 眼検出判定\n",
        "      if len(eye_list) == 2:\n",
        "          print('目が' + str(len(eye_list)) +'個検出されました')\n",
        "      else:\n",
        "          print(\"eye detection error\")\n",
        "      \n",
        "      #画像の切り抜きと保存\n",
        "      if len(eye_list) == 2:              \n",
        "          ex_min, ey_min, ex_ew_max, ey_eh_max = 100000, 100000, 0, 0\n",
        "          m=0\n",
        "          for (ex, ey, ew, eh) in eye_list:\n",
        "              m+=1\n",
        "              #右眼の外上端、左眼の外下端の座標を取得\n",
        "              ex_min, ey_min, ex_ew_max, ey_eh_max = min(ex_min, ex), min(ey_min, ey), max(ex_ew_max, ex+ew), max(ey_eh_max, ey+eh)\n",
        "              print(ex_min, ey_min, ex_ew_max, ey_eh_max)\n",
        "          img = Image.open(in_path + '/' + i)\n",
        "\n",
        "          #横幅に余裕を持つように切り取った上で、横辺250pixに縮小する\n",
        "          #img_cropped = img.crop((int(ex_min), int(ey_min), int(ex_ew_max), int(ey_eh_max))) \n",
        "          img_cropped = img.crop((int(0.8*(ex_min)+0.2*(ex_ew_max)), int(ey_min), int(0.2*(ex_min)+0.8*(ex_ew_max)), int(ey_eh_max))) \n",
        "          img_new = expand2square(img_cropped, (0, 0, 0)).resize((250, 250))\n",
        "          \n",
        "          #切り取った画像を表示\n",
        "          #plt.imshow(np.asarray(img_new))\n",
        "          #plt.show()\n",
        "\n",
        "          #ランダムな位置で224pixに切り取る\n",
        "          #x, y = random.randint(0,27), random.randint(0,27) \n",
        "          #img_randcrop = img_resized[y: y+223, x: x+223]\n",
        "          \n",
        "          img_new.save(out_path +'/'+ str(i))\n",
        "          print(out_path +'/'+ str(i))\n",
        "\n",
        "print('Process done!!')\n",
        "elapsed_time = time.time() - start\n",
        "print (\"elapsed_time:{0}\".format(elapsed_time) + \"[sec]\")\n"
      ],
      "execution_count": 0,
      "outputs": []
    },
    {
      "cell_type": "markdown",
      "metadata": {
        "id": "Aojvj0WzfLF2",
        "colab_type": "text"
      },
      "source": [
        "#切り取られた図を表示してみる"
      ]
    },
    {
      "cell_type": "code",
      "metadata": {
        "id": "unsPYKgdMbMS",
        "colab_type": "code",
        "outputId": "e68547b5-6f68-4be0-e646-454f08896e43",
        "colab": {
          "base_uri": "https://localhost:8080/",
          "height": 382
        }
      },
      "source": [
        "img_list = os.listdir(out_path)\n",
        "print(img_list)\n",
        "img = cv2.imread(out_path +'/'+ file[0])\n",
        "\n",
        "#アスペクト比を維持したまま横を400pixelに縮小する\n",
        "def scale_to_width(img, width):\n",
        "    scale = width / img.shape[1]\n",
        "    return cv2.resize(img, dsize=None, fx=scale, fy=scale)\n",
        "dst = scale_to_width(img, 400)\n",
        "\n",
        "#図を表示する\n",
        "cv2_imshow(dst)"
      ],
      "execution_count": 0,
      "outputs": [
        {
          "output_type": "stream",
          "text": [
            "[]\n"
          ],
          "name": "stdout"
        },
        {
          "output_type": "error",
          "ename": "AttributeError",
          "evalue": "ignored",
          "traceback": [
            "\u001b[0;31m---------------------------------------------------------------------------\u001b[0m",
            "\u001b[0;31mAttributeError\u001b[0m                            Traceback (most recent call last)",
            "\u001b[0;32m<ipython-input-46-74863ed542e1>\u001b[0m in \u001b[0;36m<module>\u001b[0;34m()\u001b[0m\n\u001b[1;32m      2\u001b[0m \u001b[0mprint\u001b[0m\u001b[0;34m(\u001b[0m\u001b[0mimg_list\u001b[0m\u001b[0;34m)\u001b[0m\u001b[0;34m\u001b[0m\u001b[0;34m\u001b[0m\u001b[0m\n\u001b[1;32m      3\u001b[0m \u001b[0mimg\u001b[0m \u001b[0;34m=\u001b[0m \u001b[0mcv2\u001b[0m\u001b[0;34m.\u001b[0m\u001b[0mimread\u001b[0m\u001b[0;34m(\u001b[0m\u001b[0mout_path\u001b[0m \u001b[0;34m+\u001b[0m\u001b[0;34m'/'\u001b[0m\u001b[0;34m+\u001b[0m \u001b[0mfile\u001b[0m\u001b[0;34m[\u001b[0m\u001b[0;36m0\u001b[0m\u001b[0;34m]\u001b[0m\u001b[0;34m)\u001b[0m\u001b[0;34m\u001b[0m\u001b[0;34m\u001b[0m\u001b[0m\n\u001b[0;32m----> 4\u001b[0;31m \u001b[0mcv2_imshow\u001b[0m\u001b[0;34m(\u001b[0m\u001b[0mimg\u001b[0m\u001b[0;34m)\u001b[0m\u001b[0;34m\u001b[0m\u001b[0;34m\u001b[0m\u001b[0m\n\u001b[0m\u001b[1;32m      5\u001b[0m \u001b[0;34m\u001b[0m\u001b[0m\n\u001b[1;32m      6\u001b[0m \u001b[0;31m#アスペクト比を維持したまま横を400pixelに縮小する\u001b[0m\u001b[0;34m\u001b[0m\u001b[0;34m\u001b[0m\u001b[0;34m\u001b[0m\u001b[0m\n",
            "\u001b[0;32m/usr/local/lib/python3.6/dist-packages/google/colab/patches/__init__.py\u001b[0m in \u001b[0;36mcv2_imshow\u001b[0;34m(a)\u001b[0m\n\u001b[1;32m     20\u001b[0m       \u001b[0mimage\u001b[0m\u001b[0;34m.\u001b[0m\u001b[0;34m\u001b[0m\u001b[0;34m\u001b[0m\u001b[0m\n\u001b[1;32m     21\u001b[0m   \"\"\"\n\u001b[0;32m---> 22\u001b[0;31m   \u001b[0ma\u001b[0m \u001b[0;34m=\u001b[0m \u001b[0ma\u001b[0m\u001b[0;34m.\u001b[0m\u001b[0mclip\u001b[0m\u001b[0;34m(\u001b[0m\u001b[0;36m0\u001b[0m\u001b[0;34m,\u001b[0m \u001b[0;36m255\u001b[0m\u001b[0;34m)\u001b[0m\u001b[0;34m.\u001b[0m\u001b[0mastype\u001b[0m\u001b[0;34m(\u001b[0m\u001b[0;34m'uint8'\u001b[0m\u001b[0;34m)\u001b[0m\u001b[0;34m\u001b[0m\u001b[0;34m\u001b[0m\u001b[0m\n\u001b[0m\u001b[1;32m     23\u001b[0m   \u001b[0;31m# cv2 stores colors as BGR; convert to RGB\u001b[0m\u001b[0;34m\u001b[0m\u001b[0;34m\u001b[0m\u001b[0;34m\u001b[0m\u001b[0m\n\u001b[1;32m     24\u001b[0m   \u001b[0;32mif\u001b[0m \u001b[0ma\u001b[0m\u001b[0;34m.\u001b[0m\u001b[0mndim\u001b[0m \u001b[0;34m==\u001b[0m \u001b[0;36m3\u001b[0m\u001b[0;34m:\u001b[0m\u001b[0;34m\u001b[0m\u001b[0;34m\u001b[0m\u001b[0m\n",
            "\u001b[0;31mAttributeError\u001b[0m: 'NoneType' object has no attribute 'clip'"
          ]
        }
      ]
    }
  ]
}