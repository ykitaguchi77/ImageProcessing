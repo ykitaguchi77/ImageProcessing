{
  "nbformat": 4,
  "nbformat_minor": 0,
  "metadata": {
    "colab": {
      "name": "Untitled40.ipynb",
      "provenance": [],
      "toc_visible": true,
      "include_colab_link": true
    },
    "kernelspec": {
      "name": "python3",
      "display_name": "Python 3"
    }
  },
  "cells": [
    {
      "cell_type": "markdown",
      "metadata": {
        "id": "view-in-github",
        "colab_type": "text"
      },
      "source": [
        "<a href=\"https://colab.research.google.com/github/ykitaguchi77/ImageProcessing/blob/master/Square_resize_multi_1.2_500px_colored.ipynb\" target=\"_parent\"><img src=\"https://colab.research.google.com/assets/colab-badge.svg\" alt=\"Open In Colab\"/></a>"
      ]
    },
    {
      "cell_type": "markdown",
      "metadata": {
        "id": "FT-uBcZ9PSmm"
      },
      "source": [
        "#Square_resize_multi_500pix\n",
        "\n",
        "長方形を、長辺を一辺とした正方形にresizeし余白を黒く塗りつぶした上で、500pixに縮小するスクリプト"
      ]
    },
    {
      "cell_type": "code",
      "metadata": {
        "id": "5yQwABlGCXgh",
        "outputId": "9cf14a3b-35d7-45a4-dfc5-7396b011ee0f",
        "colab": {
          "base_uri": "https://localhost:8080/",
          "height": 33
        }
      },
      "source": [
        "import numpy as np\n",
        "import matplotlib.pyplot as plt\n",
        "import time\n",
        "import os\n",
        "import copy\n",
        "import pandas as pd\n",
        "import csv\n",
        "from random import randint\n",
        "from time import sleep\n",
        "import math\n",
        "\n",
        "import glob\n",
        "import random\n",
        "from PIL import Image\n",
        "%matplotlib inline\n",
        "\n",
        "#サポートパッチのインポート\n",
        "from google.colab.patches import cv2_imshow\n",
        "import cv2\n",
        "\n",
        "plt.ion()   # interactive mode\n",
        "\n",
        "#Google driveをマウント\n",
        "from google.colab import drive\n",
        "drive.mount('/content/drive')\n"
      ],
      "execution_count": 1,
      "outputs": [
        {
          "output_type": "stream",
          "text": [
            "Drive already mounted at /content/drive; to attempt to forcibly remount, call drive.mount(\"/content/drive\", force_remount=True).\n"
          ],
          "name": "stdout"
        }
      ]
    },
    {
      "cell_type": "markdown",
      "metadata": {
        "id": "nzQon-jiSd2J"
      },
      "source": [
        "#保存あり"
      ]
    },
    {
      "cell_type": "code",
      "metadata": {
        "id": "zLwAJH8MSh8o"
      },
      "source": [
        "def convert(in_path, out_path, processing_file, background_color):\n",
        "    #処理時間の計測\n",
        "    start = time.time()\n",
        "\n",
        "    l=0\n",
        "    for i in processing_file:      \n",
        "          img = Image.open(in_path + '/' + i)\n",
        "          img_new = expand2square(img, background_color).resize((500,500))\n",
        "          img_new.save(out_path +'/'+ i)\n",
        "          print(out_path +'/'+ i)\n",
        "          \n",
        "          #切り取った画像を表示\n",
        "          #plt.imshow(np.asarray(img_new))\n",
        "          #plt.show()\n",
        "\n",
        "    print('Process done!!')\n",
        "    elapsed_time = time.time() - start\n",
        "    print (\"elapsed_time:{0}\".format(elapsed_time) + \"[sec]\")\n",
        "\n",
        "def expand2square(pil_img, background_color):\n",
        "    width, height = pil_img.size\n",
        "    if width == height:\n",
        "        return pil_img\n",
        "    elif width > height:\n",
        "        result = Image.new(pil_img.mode, (width, width), background_color)\n",
        "        result.paste(pil_img, (0, (width-height)//2))\n",
        "        return result\n",
        "    else:\n",
        "        result = Image.new(pil_img.mode, (height, height), background_color)\n",
        "        result.paste(pil_img, (0, (height - width) // 2))\n",
        "        return result\n",
        "\n",
        "def showInfo(in_path):\n",
        "    #処理するDirectoryの設定\n",
        "    file = os.listdir(in_path)\n",
        "    print(len(file))\n",
        "\n",
        "    #ここにフォルダ番号を記載する (ex. [0:999])\n",
        "    processing_file = file[0:999]\n",
        "    print(processing_file)\n",
        "    len(processing_file)\n",
        "    return processing_file\n"
      ],
      "execution_count": 2,
      "outputs": []
    },
    {
      "cell_type": "code",
      "metadata": {
        "id": "KgonyabnQJcE",
        "outputId": "c7157e88-6e72-41b3-89b2-652d1dd471e7",
        "colab": {
          "base_uri": "https://localhost:8080/",
          "height": 550
        }
      },
      "source": [
        "#元画像フォルダ\n",
        "in_path = '/content/drive/My Drive/PrePlusTrain/558_orig/cont'\n",
        "\n",
        "#保存先フォルダ\n",
        "out_path = '/content/drive/My Drive/PrePlusTrain/558_colored/cont'\n",
        "if not os.path.exists(out_path):\n",
        "    os.makedirs(out_path)\n",
        "\n",
        "processing_file = showInfo(in_path)\n",
        "convert(in_path, out_path, processing_file, (0,0,84))\n",
        "\n",
        "#元画像フォルダ\n",
        "in_path = '/content/drive/My Drive/PrePlusTrain/558_orig/grav'\n",
        "\n",
        "#保存先フォルダ\n",
        "out_path = '/content/drive/My Drive/PrePlusTrain/558_colored/grav'\n",
        "if not os.path.exists(out_path):\n",
        "    os.makedirs(out_path)\n",
        "\n",
        "processing_file = showInfo(in_path)\n",
        "convert(in_path, out_path, processing_file, (100,0,0))\n"
      ],
      "execution_count": null,
      "outputs": [
        {
          "output_type": "stream",
          "text": [
            "/content/drive/My Drive/PrePlusTrain/558_colored/cont/3906.jpg\n",
            "/content/drive/My Drive/PrePlusTrain/558_colored/cont/3980.jpg\n",
            "/content/drive/My Drive/PrePlusTrain/558_colored/cont/4042.jpg\n",
            "/content/drive/My Drive/PrePlusTrain/558_colored/cont/4111.jpg\n",
            "/content/drive/My Drive/PrePlusTrain/558_colored/cont/4178.jpg\n",
            "/content/drive/My Drive/PrePlusTrain/558_colored/cont/4194.jpg\n",
            "/content/drive/My Drive/PrePlusTrain/558_colored/cont/4204.jpg\n",
            "/content/drive/My Drive/PrePlusTrain/558_colored/cont/4222.jpg\n",
            "/content/drive/My Drive/PrePlusTrain/558_colored/cont/4250.jpg\n",
            "/content/drive/My Drive/PrePlusTrain/558_colored/cont/4255.jpg\n",
            "/content/drive/My Drive/PrePlusTrain/558_colored/cont/4273.jpg\n",
            "/content/drive/My Drive/PrePlusTrain/558_colored/cont/4280.jpg\n",
            "/content/drive/My Drive/PrePlusTrain/558_colored/cont/4299.jpg\n",
            "/content/drive/My Drive/PrePlusTrain/558_colored/cont/4329.jpg\n",
            "/content/drive/My Drive/PrePlusTrain/558_colored/cont/4411.jpg\n",
            "/content/drive/My Drive/PrePlusTrain/558_colored/cont/4438.jpg\n",
            "/content/drive/My Drive/PrePlusTrain/558_colored/cont/4441.jpg\n",
            "/content/drive/My Drive/PrePlusTrain/558_colored/cont/4447.jpg\n",
            "/content/drive/My Drive/PrePlusTrain/558_colored/cont/4457.jpg\n",
            "/content/drive/My Drive/PrePlusTrain/558_colored/cont/4488.jpg\n",
            "/content/drive/My Drive/PrePlusTrain/558_colored/cont/4525.jpg\n",
            "/content/drive/My Drive/PrePlusTrain/558_colored/cont/4528.jpg\n",
            "/content/drive/My Drive/PrePlusTrain/558_colored/cont/4560.jpg\n",
            "/content/drive/My Drive/PrePlusTrain/558_colored/cont/4575.jpg\n",
            "/content/drive/My Drive/PrePlusTrain/558_colored/cont/4641.jpg\n",
            "/content/drive/My Drive/PrePlusTrain/558_colored/cont/4647.jpg\n",
            "/content/drive/My Drive/PrePlusTrain/558_colored/cont/4686.jpg\n",
            "/content/drive/My Drive/PrePlusTrain/558_colored/cont/4694.jpg\n",
            "/content/drive/My Drive/PrePlusTrain/558_colored/cont/4705.jpg\n",
            "/content/drive/My Drive/PrePlusTrain/558_colored/cont/4706.jpg\n",
            "/content/drive/My Drive/PrePlusTrain/558_colored/cont/4762.jpg\n",
            "/content/drive/My Drive/PrePlusTrain/558_colored/cont/4763.jpg\n"
          ],
          "name": "stdout"
        }
      ]
    }
  ]
}