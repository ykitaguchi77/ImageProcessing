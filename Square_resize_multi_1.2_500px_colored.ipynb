{
  "nbformat": 4,
  "nbformat_minor": 0,
  "metadata": {
    "colab": {
      "name": "Untitled40.ipynb",
      "provenance": [],
      "toc_visible": true,
      "include_colab_link": true
    },
    "kernelspec": {
      "name": "python3",
      "display_name": "Python 3"
    }
  },
  "cells": [
    {
      "cell_type": "markdown",
      "metadata": {
        "id": "view-in-github",
        "colab_type": "text"
      },
      "source": [
        "<a href=\"https://colab.research.google.com/github/ykitaguchi77/ImageProcessing/blob/master/Square_resize_multi_1.2_500px_colored.ipynb\" target=\"_parent\"><img src=\"https://colab.research.google.com/assets/colab-badge.svg\" alt=\"Open In Colab\"/></a>"
      ]
    },
    {
      "cell_type": "markdown",
      "metadata": {
        "id": "FT-uBcZ9PSmm"
      },
      "source": [
        "#Square_resize_multi_500pix\n",
        "\n",
        "長方形を、長辺を一辺とした正方形にresizeし余白を黒く塗りつぶした上で、500pixに縮小するスクリプト"
      ]
    },
    {
      "cell_type": "code",
      "metadata": {
        "id": "5yQwABlGCXgh",
        "outputId": "87ff0f38-8bf8-4721-ef25-c7d35ae07fd9",
        "colab": {
          "base_uri": "https://localhost:8080/",
          "height": 34
        }
      },
      "source": [
        "import numpy as np\n",
        "import matplotlib.pyplot as plt\n",
        "import time\n",
        "import os\n",
        "import copy\n",
        "import pandas as pd\n",
        "import csv\n",
        "from random import randint\n",
        "from time import sleep\n",
        "import math\n",
        "\n",
        "import glob\n",
        "import random\n",
        "from PIL import Image\n",
        "%matplotlib inline\n",
        "\n",
        "#サポートパッチのインポート\n",
        "from google.colab.patches import cv2_imshow\n",
        "import cv2\n",
        "\n",
        "plt.ion()   # interactive mode\n",
        "\n",
        "#Google driveをマウント\n",
        "from google.colab import drive\n",
        "drive.mount('/content/drive')\n"
      ],
      "execution_count": 1,
      "outputs": [
        {
          "output_type": "stream",
          "text": [
            "Mounted at /content/drive\n"
          ],
          "name": "stdout"
        }
      ]
    },
    {
      "cell_type": "markdown",
      "metadata": {
        "id": "nzQon-jiSd2J"
      },
      "source": [
        "#保存あり"
      ]
    },
    {
      "cell_type": "code",
      "metadata": {
        "id": "zLwAJH8MSh8o"
      },
      "source": [
        "def convert(in_path, out_path, processing_file, background_color):\n",
        "    #処理時間の計測\n",
        "    start = time.time()\n",
        "\n",
        "    l=0\n",
        "    for i in processing_file:      \n",
        "          img = Image.open(in_path + '/' + i)\n",
        "          img_new = expand2square(img, background_color).resize((500,500))\n",
        "          img_new.save(out_path +'/'+ i)\n",
        "          print(out_path +'/'+ i)\n",
        "          \n",
        "          #切り取った画像を表示\n",
        "          #plt.imshow(np.asarray(img_new))\n",
        "          #plt.show()\n",
        "\n",
        "    print('Process done!!')\n",
        "    elapsed_time = time.time() - start\n",
        "    print (\"elapsed_time:{0}\".format(elapsed_time) + \"[sec]\")\n",
        "\n",
        "def expand2square(pil_img, background_color):\n",
        "    width, height = pil_img.size\n",
        "    if width == height:\n",
        "        return pil_img\n",
        "    elif width > height:\n",
        "        result = Image.new(pil_img.mode, (width, width), background_color)\n",
        "        result.paste(pil_img, (0, (width-height)//2))\n",
        "        return result\n",
        "    else:\n",
        "        result = Image.new(pil_img.mode, (height, height), background_color)\n",
        "        result.paste(pil_img, (0, (height - width) // 2))\n",
        "        return result\n",
        "\n",
        "def showInfo(in_path):\n",
        "    #処理するDirectoryの設定\n",
        "    file = os.listdir(in_path)\n",
        "    print(len(file))\n",
        "\n",
        "    #ここにフォルダ番号を記載する (ex. [0:999])\n",
        "    processing_file = file[0:999]\n",
        "    print(processing_file)\n",
        "    len(processing_file)\n",
        "    return processing_file\n"
      ],
      "execution_count": 2,
      "outputs": []
    },
    {
      "cell_type": "code",
      "metadata": {
        "id": "KgonyabnQJcE",
        "outputId": "23da673e-64ad-4606-f76e-874edfee0af0",
        "colab": {
          "base_uri": "https://localhost:8080/",
          "height": 1000
        }
      },
      "source": [
        "#元画像フォルダ\n",
        "in_path = '/content/drive/My Drive/PrePlusTrain/558/cont'\n",
        "\n",
        "#保存先フォルダ\n",
        "out_path = '/content/drive/My Drive/PrePlusTrain/558_colored/cont'\n",
        "if not os.path.exists(out_path):\n",
        "    os.makedirs(out_path)\n",
        "\n",
        "processing_file = showInfo(in_path)\n",
        "convert(in_path, out_path, processing_file, (0,0,164))\n",
        "\n",
        "#元画像フォルダ\n",
        "in_path = '/content/drive/My Drive/PrePlusTrain/558/grav'\n",
        "\n",
        "#保存先フォルダ\n",
        "out_path = '/content/drive/My Drive/PrePlusTrain/558_colored/grav'\n",
        "if not os.path.exists(out_path):\n",
        "    os.makedirs(out_path)\n",
        "\n",
        "processing_file = showInfo(in_path)\n",
        "convert(in_path, out_path, processing_file, (200,0,0))\n"
      ],
      "execution_count": 3,
      "outputs": [
        {
          "output_type": "stream",
          "text": [
            "279\n",
            "['863.jpg', '6171.jpg', '3381.jpg', '6512.jpg', '2741.JPG', '4111.jpg', '5545.jpg', '2515.jpg', '2338.jpg', '6160.jpg', '7813.jpg', '2968.jpg', '4411.jpg', '7963.jpg', '1126.jpg', '1322.jpg', '2168.jpg', '3878.jpg', '646.jpg', '4447.jpg', '745.jpg', '1619.jpg', '2546.jpg', '7795.jpg', '6626.JPG', '5405.jpg', '6258.JPG', '7594.JPG', '1263.jpg', '7740.jpg', '4273.JPG', '6818.jpg', '4641.JPG', '5113.jpg', '4042.jpg', '1605.JPG', '1451.jpg', '4457.jpg', '5507.JPG', '4819.jpg', '1468.JPG', '5341.jpg', '383.jpg', '3537.jpg', '6371.jpg', '5246.jpg', '2866.jpg', '1054.jpg', '6879.jpg', '6037.JPG', '4525.JPG', '7868.jpg', '811.jpg', '1823.JPG', '3570.jpg', '5437.JPG', '6439.jpg', '2236.JPG', '3980.jpg', '6741.jpg', '6693.jpg', '1428.jpg', '5263.jpg', '6252.jpg', '562.jpg', '5269.JPG', '1638.jpg', '5887.jpg', '6126.jpg', '3102.jpg', '2565.jpg', '1762.jpg', '6319.jpg', '2450.JPG', '2413.jpg', '1266.jpg', '2308.jpg', '2206.jpg', '1488.jpg', '4694.jpg', '2549.jpg', '6185.JPG', '5942.jpg', '8149.jpg', '4299.JPG', '7424.jpg', '1900.jpg', '8040.jpg', '7905.jpg', '5177.JPG', '191.jpg', '4560.jpg', '186.jpg', '5495.jpg', '4763.JPG', '6148.jpg', '4872.JPG', '7738.jpg', '760.jpg', '802.jpg', '7402.jpg', '2139.JPG', '168.jpg', '3902.JPG', '958.jpg', '7741.JPG', '3771.jpg', '4786.JPG', '514.jpg', '3003.jpg', '3222.jpg', '5041.jpg', '4329.jpg', '7511.jpg', '444.jpg', '542.jpg', '2556.JPG', '5457.jpg', '1045.JPG', '1954.jpg', '3368.JPG', '401.jpg', '1794.jpg', '2214.JPG', '5523.jpg', '1498.JPG', '8210.jpg', '7016.jpg', '469.jpg', '2180.jpg', '1759.jpg', '3656.jpg', '1144.jpg', '3578.jpg', '1813.jpg', '3436.JPG', '2825.jpg', '3459.jpg', '1143.jpg', '948.JPG', '5465.JPG', '5128.jpg', '5563.jpg', '4706.jpg', '4178.jpg', '4438.jpg', '1000.jpg', '200.jpg', '6870.JPG', '3668.jpg', '255.jpg', '2174.JPG', '3247.jpg', '3851.jpg', '6491.jpg', '4528.jpg', '5871.jpg', '2979.jpg', '4960.jpg', '4974.jpg', '2054.jpg', '5826.jpg', '4975.jpg', '1043.jpg', '5244.JPG', '3906.jpg', '2847.jpg', '4222.jpg', '3098.jpg', '1084.JPG', '1249.jpg', '4647.jpg', '2880.jpg', '6264.JPG', '1050.jpg', '4807.jpg', '2083.jpg', '364.jpg', '8027.jpg', '4488.jpg', '3191.jpg', '5392.jpg', '7985.JPG', '1361.jpg', '4904.jpg', '2118.jpg', '7027.jpg', '7068.jpg', '4686.jpg', '6396.jpg', '2034.jpg', '144.JPG', '7256.jpg', '1348.jpg', '6880.jpg', '6366.jpg', '2446.jpg', '5881.jpg', '4250.jpg', '3784.jpg', '5488.jpg', '2110.jpg', '1423.jpg', '8002.jpg', '1086.jpg', '5040.JPG', '1342.JPG', '3333.jpg', '5807.jpg', '742.jpg', '1320.jpg', '7487.jpg', '4441.JPG', '2076.jpg', '5981.jpg', '6838.jpg', '6182.jpg', '4255.jpg', '214.JPG', '2351.JPG', '6177.jpg', '5661.JPG', '6859.jpg', '7583.jpg', '4998.JPG', '172.jpg', '6773.jpg', '5197.jpg', '5153.jpg', '2332.jpg', '7251.jpg', '5158.JPG', '7808.jpg', '1360.jpg', '5143.jpg', '5258.jpg', '7960.jpg', '1160.jpg', '85.jpg', '6073.jpg', '2597.jpg', '490.JPG', '1182.jpg', '3728.JPG', '5329.JPG', '2550.jpg', '6119.JPG', '4762.jpg', '4575.jpg', '6237.jpg', '5331.JPG', '641.jpg', '4204.JPG', '278.jpg', '7057.jpg', '4705.jpg', '7400.jpg', '7691.jpg', '896.jpg', '4280.jpg', '3857.JPG', '3813.JPG', '398.jpg', '8019.jpg', '1821.jpg', '147.JPG', '5839.JPG', '8088.jpg', '1918.jpg', '2771.JPG', '2290.jpg', '5099.jpg', '1369.jpg', '6307.jpg', '1338.JPG', '1601.jpg', '5183.jpg', '4194.jpg', '4949.jpg']\n",
            "/content/drive/My Drive/PrePlusTrain/558_colored/cont/863.jpg\n",
            "/content/drive/My Drive/PrePlusTrain/558_colored/cont/6171.jpg\n",
            "/content/drive/My Drive/PrePlusTrain/558_colored/cont/3381.jpg\n",
            "/content/drive/My Drive/PrePlusTrain/558_colored/cont/6512.jpg\n",
            "/content/drive/My Drive/PrePlusTrain/558_colored/cont/2741.JPG\n",
            "/content/drive/My Drive/PrePlusTrain/558_colored/cont/4111.jpg\n",
            "/content/drive/My Drive/PrePlusTrain/558_colored/cont/5545.jpg\n",
            "/content/drive/My Drive/PrePlusTrain/558_colored/cont/2515.jpg\n",
            "/content/drive/My Drive/PrePlusTrain/558_colored/cont/2338.jpg\n",
            "/content/drive/My Drive/PrePlusTrain/558_colored/cont/6160.jpg\n",
            "/content/drive/My Drive/PrePlusTrain/558_colored/cont/7813.jpg\n",
            "/content/drive/My Drive/PrePlusTrain/558_colored/cont/2968.jpg\n",
            "/content/drive/My Drive/PrePlusTrain/558_colored/cont/4411.jpg\n",
            "/content/drive/My Drive/PrePlusTrain/558_colored/cont/7963.jpg\n",
            "/content/drive/My Drive/PrePlusTrain/558_colored/cont/1126.jpg\n",
            "/content/drive/My Drive/PrePlusTrain/558_colored/cont/1322.jpg\n",
            "/content/drive/My Drive/PrePlusTrain/558_colored/cont/2168.jpg\n",
            "/content/drive/My Drive/PrePlusTrain/558_colored/cont/3878.jpg\n",
            "/content/drive/My Drive/PrePlusTrain/558_colored/cont/646.jpg\n",
            "/content/drive/My Drive/PrePlusTrain/558_colored/cont/4447.jpg\n",
            "/content/drive/My Drive/PrePlusTrain/558_colored/cont/745.jpg\n",
            "/content/drive/My Drive/PrePlusTrain/558_colored/cont/1619.jpg\n",
            "/content/drive/My Drive/PrePlusTrain/558_colored/cont/2546.jpg\n",
            "/content/drive/My Drive/PrePlusTrain/558_colored/cont/7795.jpg\n",
            "/content/drive/My Drive/PrePlusTrain/558_colored/cont/6626.JPG\n",
            "/content/drive/My Drive/PrePlusTrain/558_colored/cont/5405.jpg\n",
            "/content/drive/My Drive/PrePlusTrain/558_colored/cont/6258.JPG\n",
            "/content/drive/My Drive/PrePlusTrain/558_colored/cont/7594.JPG\n",
            "/content/drive/My Drive/PrePlusTrain/558_colored/cont/1263.jpg\n",
            "/content/drive/My Drive/PrePlusTrain/558_colored/cont/7740.jpg\n",
            "/content/drive/My Drive/PrePlusTrain/558_colored/cont/4273.JPG\n",
            "/content/drive/My Drive/PrePlusTrain/558_colored/cont/6818.jpg\n",
            "/content/drive/My Drive/PrePlusTrain/558_colored/cont/4641.JPG\n",
            "/content/drive/My Drive/PrePlusTrain/558_colored/cont/5113.jpg\n",
            "/content/drive/My Drive/PrePlusTrain/558_colored/cont/4042.jpg\n",
            "/content/drive/My Drive/PrePlusTrain/558_colored/cont/1605.JPG\n",
            "/content/drive/My Drive/PrePlusTrain/558_colored/cont/1451.jpg\n",
            "/content/drive/My Drive/PrePlusTrain/558_colored/cont/4457.jpg\n",
            "/content/drive/My Drive/PrePlusTrain/558_colored/cont/5507.JPG\n",
            "/content/drive/My Drive/PrePlusTrain/558_colored/cont/4819.jpg\n",
            "/content/drive/My Drive/PrePlusTrain/558_colored/cont/1468.JPG\n",
            "/content/drive/My Drive/PrePlusTrain/558_colored/cont/5341.jpg\n",
            "/content/drive/My Drive/PrePlusTrain/558_colored/cont/383.jpg\n",
            "/content/drive/My Drive/PrePlusTrain/558_colored/cont/3537.jpg\n",
            "/content/drive/My Drive/PrePlusTrain/558_colored/cont/6371.jpg\n",
            "/content/drive/My Drive/PrePlusTrain/558_colored/cont/5246.jpg\n"
          ],
          "name": "stdout"
        },
        {
          "output_type": "error",
          "ename": "KeyboardInterrupt",
          "evalue": "ignored",
          "traceback": [
            "\u001b[0;31m---------------------------------------------------------------------------\u001b[0m",
            "\u001b[0;31mKeyboardInterrupt\u001b[0m                         Traceback (most recent call last)",
            "\u001b[0;32m<ipython-input-3-6aa46dce26b1>\u001b[0m in \u001b[0;36m<module>\u001b[0;34m()\u001b[0m\n\u001b[1;32m      8\u001b[0m \u001b[0;34m\u001b[0m\u001b[0m\n\u001b[1;32m      9\u001b[0m \u001b[0mprocessing_file\u001b[0m \u001b[0;34m=\u001b[0m \u001b[0mshowInfo\u001b[0m\u001b[0;34m(\u001b[0m\u001b[0min_path\u001b[0m\u001b[0;34m)\u001b[0m\u001b[0;34m\u001b[0m\u001b[0;34m\u001b[0m\u001b[0m\n\u001b[0;32m---> 10\u001b[0;31m \u001b[0mconvert\u001b[0m\u001b[0;34m(\u001b[0m\u001b[0min_path\u001b[0m\u001b[0;34m,\u001b[0m \u001b[0mout_path\u001b[0m\u001b[0;34m,\u001b[0m \u001b[0mprocessing_file\u001b[0m\u001b[0;34m,\u001b[0m \u001b[0;34m(\u001b[0m\u001b[0;36m0\u001b[0m\u001b[0;34m,\u001b[0m\u001b[0;36m0\u001b[0m\u001b[0;34m,\u001b[0m\u001b[0;36m164\u001b[0m\u001b[0;34m)\u001b[0m\u001b[0;34m)\u001b[0m\u001b[0;34m\u001b[0m\u001b[0;34m\u001b[0m\u001b[0m\n\u001b[0m\u001b[1;32m     11\u001b[0m \u001b[0;34m\u001b[0m\u001b[0m\n\u001b[1;32m     12\u001b[0m \u001b[0;31m#元画像フォルダ\u001b[0m\u001b[0;34m\u001b[0m\u001b[0;34m\u001b[0m\u001b[0;34m\u001b[0m\u001b[0m\n",
            "\u001b[0;32m<ipython-input-2-3fba2b336b23>\u001b[0m in \u001b[0;36mconvert\u001b[0;34m(in_path, out_path, processing_file, background_color)\u001b[0m\n\u001b[1;32m      5\u001b[0m     \u001b[0ml\u001b[0m\u001b[0;34m=\u001b[0m\u001b[0;36m0\u001b[0m\u001b[0;34m\u001b[0m\u001b[0;34m\u001b[0m\u001b[0m\n\u001b[1;32m      6\u001b[0m     \u001b[0;32mfor\u001b[0m \u001b[0mi\u001b[0m \u001b[0;32min\u001b[0m \u001b[0mprocessing_file\u001b[0m\u001b[0;34m:\u001b[0m\u001b[0;34m\u001b[0m\u001b[0;34m\u001b[0m\u001b[0m\n\u001b[0;32m----> 7\u001b[0;31m           \u001b[0mimg\u001b[0m \u001b[0;34m=\u001b[0m \u001b[0mImage\u001b[0m\u001b[0;34m.\u001b[0m\u001b[0mopen\u001b[0m\u001b[0;34m(\u001b[0m\u001b[0min_path\u001b[0m \u001b[0;34m+\u001b[0m \u001b[0;34m'/'\u001b[0m \u001b[0;34m+\u001b[0m \u001b[0mi\u001b[0m\u001b[0;34m)\u001b[0m\u001b[0;34m\u001b[0m\u001b[0;34m\u001b[0m\u001b[0m\n\u001b[0m\u001b[1;32m      8\u001b[0m           \u001b[0mimg_new\u001b[0m \u001b[0;34m=\u001b[0m \u001b[0mexpand2square\u001b[0m\u001b[0;34m(\u001b[0m\u001b[0mimg\u001b[0m\u001b[0;34m,\u001b[0m \u001b[0mbackground_color\u001b[0m\u001b[0;34m)\u001b[0m\u001b[0;34m.\u001b[0m\u001b[0mresize\u001b[0m\u001b[0;34m(\u001b[0m\u001b[0;34m(\u001b[0m\u001b[0;36m500\u001b[0m\u001b[0;34m,\u001b[0m\u001b[0;36m500\u001b[0m\u001b[0;34m)\u001b[0m\u001b[0;34m)\u001b[0m\u001b[0;34m\u001b[0m\u001b[0;34m\u001b[0m\u001b[0m\n\u001b[1;32m      9\u001b[0m           \u001b[0mimg_new\u001b[0m\u001b[0;34m.\u001b[0m\u001b[0msave\u001b[0m\u001b[0;34m(\u001b[0m\u001b[0mout_path\u001b[0m \u001b[0;34m+\u001b[0m\u001b[0;34m'/'\u001b[0m\u001b[0;34m+\u001b[0m \u001b[0mi\u001b[0m\u001b[0;34m)\u001b[0m\u001b[0;34m\u001b[0m\u001b[0;34m\u001b[0m\u001b[0m\n",
            "\u001b[0;32m/usr/local/lib/python3.6/dist-packages/PIL/Image.py\u001b[0m in \u001b[0;36mopen\u001b[0;34m(fp, mode)\u001b[0m\n\u001b[1;32m   2816\u001b[0m         \u001b[0mexclusive_fp\u001b[0m \u001b[0;34m=\u001b[0m \u001b[0;32mTrue\u001b[0m\u001b[0;34m\u001b[0m\u001b[0;34m\u001b[0m\u001b[0m\n\u001b[1;32m   2817\u001b[0m \u001b[0;34m\u001b[0m\u001b[0m\n\u001b[0;32m-> 2818\u001b[0;31m     \u001b[0mprefix\u001b[0m \u001b[0;34m=\u001b[0m \u001b[0mfp\u001b[0m\u001b[0;34m.\u001b[0m\u001b[0mread\u001b[0m\u001b[0;34m(\u001b[0m\u001b[0;36m16\u001b[0m\u001b[0;34m)\u001b[0m\u001b[0;34m\u001b[0m\u001b[0;34m\u001b[0m\u001b[0m\n\u001b[0m\u001b[1;32m   2819\u001b[0m \u001b[0;34m\u001b[0m\u001b[0m\n\u001b[1;32m   2820\u001b[0m     \u001b[0mpreinit\u001b[0m\u001b[0;34m(\u001b[0m\u001b[0;34m)\u001b[0m\u001b[0;34m\u001b[0m\u001b[0;34m\u001b[0m\u001b[0m\n",
            "\u001b[0;31mKeyboardInterrupt\u001b[0m: "
          ]
        }
      ]
    }
  ]
}