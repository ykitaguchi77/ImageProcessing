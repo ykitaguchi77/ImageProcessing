{
  "nbformat": 4,
  "nbformat_minor": 0,
  "metadata": {
    "colab": {
      "name": "Untitled62.ipynb",
      "provenance": [],
      "toc_visible": true,
      "authorship_tag": "ABX9TyOxhVpiSCfGnsu2Iz/J+Hzh",
      "include_colab_link": true
    },
    "kernelspec": {
      "name": "python3",
      "display_name": "Python 3"
    }
  },
  "cells": [
    {
      "cell_type": "markdown",
      "metadata": {
        "id": "view-in-github",
        "colab_type": "text"
      },
      "source": [
        "<a href=\"https://colab.research.google.com/github/ykitaguchi77/ImageProcessing/blob/master/Split_dataset_for_crossvalidation_3.ipynb\" target=\"_parent\"><img src=\"https://colab.research.google.com/assets/colab-badge.svg\" alt=\"Open In Colab\"/></a>"
      ]
    },
    {
      "cell_type": "markdown",
      "metadata": {
        "id": "E4luGyEIYT2J",
        "colab_type": "text"
      },
      "source": [
        "#**Split datasets for cross validation\n",
        "データセットを10分割し、そのうち1つをtestセットに、残りの合計をtraining+validationセットに分割するスクリプト\n"
      ]
    },
    {
      "cell_type": "code",
      "metadata": {
        "id": "EiZc9Jl22lIr",
        "colab_type": "code",
        "colab": {
          "base_uri": "https://localhost:8080/",
          "height": 67
        },
        "outputId": "aebd14a8-6b50-44e0-9b9d-b07f2a97bc19"
      },
      "source": [
        "import random\n",
        "import glob\n",
        "import os\n",
        "import shutil\n",
        "import numpy as np\n",
        "\n",
        "from google.colab import drive\n",
        "drive.mount('/content/drive')\n",
        "\n",
        "\n",
        "'''\n",
        "-----dst_data[0]------dst_train[0]\n",
        "  |                |--dst_val[0]\n",
        "  |                |--dst_test[0]\n",
        "  |\n",
        "  |--dst_data[1]------dst_train[1]\n",
        "  |                |--dst_val[1]\n",
        "  |                |--dst_test[1]\n",
        "  ...\n",
        "  |--dst_data[9]------dst_train[9]\n",
        "                   |--dst_val[9]\n",
        "                   |--dst_test[9]\n",
        "'''"
      ],
      "execution_count": null,
      "outputs": [
        {
          "output_type": "stream",
          "text": [
            "Drive already mounted at /content/drive; to attempt to forcibly remount, call drive.mount(\"/content/drive\", force_remount=True).\n"
          ],
          "name": "stdout"
        },
        {
          "output_type": "execute_result",
          "data": {
            "application/vnd.google.colaboratory.intrinsic+json": {
              "type": "string"
            },
            "text/plain": [
              "'\\n-----dst_data[0]------dst_train[0]\\n  |                |--dst_val[0]\\n  |                |--dst_test[0]\\n  |\\n  |--dst_data[1]------dst_train[1]\\n  |                |--dst_val[1]\\n  |                |--dst_test[1]\\n  ...\\n  |--dst_data[9]------dst_train[9]\\n                   |--dst_val[9]\\n                   |--dst_test[9]\\n'"
            ]
          },
          "metadata": {
            "tags": []
          },
          "execution_count": 102
        }
      ]
    },
    {
      "cell_type": "markdown",
      "metadata": {
        "id": "YeZb4d6s_Wyl",
        "colab_type": "text"
      },
      "source": [
        "#**Module群**"
      ]
    },
    {
      "cell_type": "code",
      "metadata": {
        "id": "pN9SgjbC_fgi",
        "colab_type": "code",
        "colab": {}
      },
      "source": [
        "def get_path(orig_path, dst_path, split_num):\n",
        "    classes = os.listdir(orig_path) #クラス名を取得\n",
        "    #データの分割数を設定\n",
        "    data_list = [0]*len(classes)\n",
        "    k=0\n",
        "    for i in classes:\n",
        "        data_list[k] = glob.glob(orig_path+'/'+i+'/*')\n",
        "        k+=1\n",
        "    split_length = int(len(data_list)/split_num)\n",
        "    return data_list, classes, split_length\n"
      ],
      "execution_count": null,
      "outputs": []
    },
    {
      "cell_type": "markdown",
      "metadata": {
        "id": "HvAHqQjxL6Tm",
        "colab_type": "text"
      },
      "source": [
        "#**データの移動先のフォルダを作成**"
      ]
    },
    {
      "cell_type": "code",
      "metadata": {
        "id": "cw6RSkBPUQ3T",
        "colab_type": "code",
        "colab": {}
      },
      "source": [
        "#フォルダを作成\n",
        "\n",
        "orig_path = \"/content/drive/My Drive/gravcont\"\n",
        "dst_path = \"/content/drive/My Drive/gravcont_crossvalidation\"  # フォルダ名\n",
        "\n",
        "classes = os.listdir(orig_path) #クラス名を取得\n",
        "print(classes)\n",
        "\n",
        "#データの分割数を設定\n",
        "data_list = glob.glob(orig_path+'/'+classes[1]+'/*')\n",
        "split_num = 10  #データをいくつに分割するかを記載\n",
        "split_length = int(len(data_list)/split_num)\n",
        "\n",
        "if not os.path.exists(dst_path):  # ディレクトリがなかったら\n",
        "    os.mkdir(dst_path)  # 作成したいフォルダ名を作成\n",
        "    for i in range(split_num):\n",
        "        os.mkdir(dst_path+'/'+str(i))\n",
        "        os.mkdir(dst_path+'/'+str(i)+'/train')\n",
        "        os.mkdir(dst_path+'/'+str(i)+'/val')\n",
        "        os.mkdir(dst_path+'/'+str(i)+'/test')\n",
        "        print(i)\n",
        "        for j in classes:\n",
        "            os.mkdir(dst_path+'/'+str(i)+'/train/'+j)\n",
        "            os.mkdir(dst_path+'/'+str(i)+'/val/'+j)\n",
        "            os.mkdir(dst_path+'/'+str(i)+'/test/'+j)\n",
        "            print(j)\n",
        "        "
      ],
      "execution_count": null,
      "outputs": []
    },
    {
      "cell_type": "markdown",
      "metadata": {
        "id": "NDVgvNfhLtg4",
        "colab_type": "text"
      },
      "source": [
        "#**移動するデータのリストを作成**"
      ]
    },
    {
      "cell_type": "code",
      "metadata": {
        "id": "i2_EVeAyYzsh",
        "colab_type": "code",
        "colab": {}
      },
      "source": [
        "classes = os.listdir(orig_path)\n",
        "print(classes)\n",
        "\n",
        "split_data, dst_data, dst_train, dst_val, dst_test = [0]*split_num, [0]*split_num, [0]*split_num, [0]*split_num, [0]*split_num\n",
        "\n",
        "\n",
        "\n",
        "\n",
        "#データの分割\n",
        "split_data = list(np.array_split(data_list, split_num))\n",
        "\n",
        "#データセット全体と分割したデータの差分を取り、dst_dataに格納\n",
        "\n",
        "dst_data = [0] * split_num\n",
        "for i in range(split_num):\n",
        "    dst_data[i] = [x for x in data_list if x not in split_data[i]]\n",
        "    print(dst_data[i])\n",
        "\n",
        "#トレーニングセット、バリデーションセット、テストセットのリスト作成\n",
        "for i in range(split_num):\n",
        "    dst_train[i], dst_val[i]= list(np.array_split(dst_data[i], [int(len(dst_data[i]) * 0.8)]))  #dst_dataを、トレーニングセットとバリデーションセットに分割\n",
        "    dst_test[i] = split_data[i]  #テストセット"
      ],
      "execution_count": null,
      "outputs": []
    },
    {
      "cell_type": "markdown",
      "metadata": {
        "id": "vtfpwi3vLipk",
        "colab_type": "text"
      },
      "source": [
        "#**リスト化したデータを作成したフォルダに移動**"
      ]
    },
    {
      "cell_type": "code",
      "metadata": {
        "id": "WzrfCi3na5Bm",
        "colab_type": "code",
        "colab": {
          "base_uri": "https://localhost:8080/",
          "height": 373
        },
        "outputId": "07de73db-a99a-46cc-8927-3c250096bc54"
      },
      "source": [
        "k=0\n",
        "for i in range(split_num):\n",
        "    dst_path_train = '/content/drive/My Drive/gravcont_crossvalidation/'+str(i)+'/train/cont'\n",
        "    dst_path_val = '/content/drive/My Drive/gravcont_crossvalidation/'+str(i)+'/val/cont'\n",
        "    dst_path_test = '/content/drive/My Drive/gravcont_crossvalidation/'+str(i)+'/test/cont'\n",
        "\n",
        "    for p in dst_train[k]:  # 選択したファイルを目的フォルダにコピー\n",
        "        shutil.copy(p, dst_path_train)\n",
        "        #print(p)\n",
        "\n",
        "    for p in dst_val[k]:  # 選択したファイルを目的フォルダにコピー\n",
        "        shutil.copy(p, dst_path_val)\n",
        "        #print(p)    \n",
        "        \n",
        "    for p in dst_test[k]:  # 選択したファイルを目的フォルダにコピー\n",
        "        shutil.copy(p, dst_path_test)\n",
        "        #print(p)\n",
        "    k+=1\n"
      ],
      "execution_count": null,
      "outputs": [
        {
          "output_type": "error",
          "ename": "FileNotFoundError",
          "evalue": "ignored",
          "traceback": [
            "\u001b[0;31m---------------------------------------------------------------------------\u001b[0m",
            "\u001b[0;31mFileNotFoundError\u001b[0m                         Traceback (most recent call last)",
            "\u001b[0;32m<ipython-input-112-8406fb85c230>\u001b[0m in \u001b[0;36m<module>\u001b[0;34m()\u001b[0m\n\u001b[1;32m      6\u001b[0m \u001b[0;34m\u001b[0m\u001b[0m\n\u001b[1;32m      7\u001b[0m     \u001b[0;32mfor\u001b[0m \u001b[0mp\u001b[0m \u001b[0;32min\u001b[0m \u001b[0mdst_train\u001b[0m\u001b[0;34m[\u001b[0m\u001b[0mk\u001b[0m\u001b[0;34m]\u001b[0m\u001b[0;34m:\u001b[0m  \u001b[0;31m# 選択したファイルを目的フォルダにコピー\u001b[0m\u001b[0;34m\u001b[0m\u001b[0;34m\u001b[0m\u001b[0m\n\u001b[0;32m----> 8\u001b[0;31m         \u001b[0mshutil\u001b[0m\u001b[0;34m.\u001b[0m\u001b[0mcopy\u001b[0m\u001b[0;34m(\u001b[0m\u001b[0mp\u001b[0m\u001b[0;34m,\u001b[0m \u001b[0mdst_path_train\u001b[0m\u001b[0;34m)\u001b[0m\u001b[0;34m\u001b[0m\u001b[0;34m\u001b[0m\u001b[0m\n\u001b[0m\u001b[1;32m      9\u001b[0m         \u001b[0;31m#print(p)\u001b[0m\u001b[0;34m\u001b[0m\u001b[0;34m\u001b[0m\u001b[0;34m\u001b[0m\u001b[0m\n\u001b[1;32m     10\u001b[0m \u001b[0;34m\u001b[0m\u001b[0m\n",
            "\u001b[0;32m/usr/lib/python3.6/shutil.py\u001b[0m in \u001b[0;36mcopy\u001b[0;34m(src, dst, follow_symlinks)\u001b[0m\n\u001b[1;32m    243\u001b[0m     \u001b[0;32mif\u001b[0m \u001b[0mos\u001b[0m\u001b[0;34m.\u001b[0m\u001b[0mpath\u001b[0m\u001b[0;34m.\u001b[0m\u001b[0misdir\u001b[0m\u001b[0;34m(\u001b[0m\u001b[0mdst\u001b[0m\u001b[0;34m)\u001b[0m\u001b[0;34m:\u001b[0m\u001b[0;34m\u001b[0m\u001b[0;34m\u001b[0m\u001b[0m\n\u001b[1;32m    244\u001b[0m         \u001b[0mdst\u001b[0m \u001b[0;34m=\u001b[0m \u001b[0mos\u001b[0m\u001b[0;34m.\u001b[0m\u001b[0mpath\u001b[0m\u001b[0;34m.\u001b[0m\u001b[0mjoin\u001b[0m\u001b[0;34m(\u001b[0m\u001b[0mdst\u001b[0m\u001b[0;34m,\u001b[0m \u001b[0mos\u001b[0m\u001b[0;34m.\u001b[0m\u001b[0mpath\u001b[0m\u001b[0;34m.\u001b[0m\u001b[0mbasename\u001b[0m\u001b[0;34m(\u001b[0m\u001b[0msrc\u001b[0m\u001b[0;34m)\u001b[0m\u001b[0;34m)\u001b[0m\u001b[0;34m\u001b[0m\u001b[0;34m\u001b[0m\u001b[0m\n\u001b[0;32m--> 245\u001b[0;31m     \u001b[0mcopyfile\u001b[0m\u001b[0;34m(\u001b[0m\u001b[0msrc\u001b[0m\u001b[0;34m,\u001b[0m \u001b[0mdst\u001b[0m\u001b[0;34m,\u001b[0m \u001b[0mfollow_symlinks\u001b[0m\u001b[0;34m=\u001b[0m\u001b[0mfollow_symlinks\u001b[0m\u001b[0;34m)\u001b[0m\u001b[0;34m\u001b[0m\u001b[0;34m\u001b[0m\u001b[0m\n\u001b[0m\u001b[1;32m    246\u001b[0m     \u001b[0mcopymode\u001b[0m\u001b[0;34m(\u001b[0m\u001b[0msrc\u001b[0m\u001b[0;34m,\u001b[0m \u001b[0mdst\u001b[0m\u001b[0;34m,\u001b[0m \u001b[0mfollow_symlinks\u001b[0m\u001b[0;34m=\u001b[0m\u001b[0mfollow_symlinks\u001b[0m\u001b[0;34m)\u001b[0m\u001b[0;34m\u001b[0m\u001b[0;34m\u001b[0m\u001b[0m\n\u001b[1;32m    247\u001b[0m     \u001b[0;32mreturn\u001b[0m \u001b[0mdst\u001b[0m\u001b[0;34m\u001b[0m\u001b[0;34m\u001b[0m\u001b[0m\n",
            "\u001b[0;32m/usr/lib/python3.6/shutil.py\u001b[0m in \u001b[0;36mcopyfile\u001b[0;34m(src, dst, follow_symlinks)\u001b[0m\n\u001b[1;32m    119\u001b[0m     \u001b[0;32melse\u001b[0m\u001b[0;34m:\u001b[0m\u001b[0;34m\u001b[0m\u001b[0;34m\u001b[0m\u001b[0m\n\u001b[1;32m    120\u001b[0m         \u001b[0;32mwith\u001b[0m \u001b[0mopen\u001b[0m\u001b[0;34m(\u001b[0m\u001b[0msrc\u001b[0m\u001b[0;34m,\u001b[0m \u001b[0;34m'rb'\u001b[0m\u001b[0;34m)\u001b[0m \u001b[0;32mas\u001b[0m \u001b[0mfsrc\u001b[0m\u001b[0;34m:\u001b[0m\u001b[0;34m\u001b[0m\u001b[0;34m\u001b[0m\u001b[0m\n\u001b[0;32m--> 121\u001b[0;31m             \u001b[0;32mwith\u001b[0m \u001b[0mopen\u001b[0m\u001b[0;34m(\u001b[0m\u001b[0mdst\u001b[0m\u001b[0;34m,\u001b[0m \u001b[0;34m'wb'\u001b[0m\u001b[0;34m)\u001b[0m \u001b[0;32mas\u001b[0m \u001b[0mfdst\u001b[0m\u001b[0;34m:\u001b[0m\u001b[0;34m\u001b[0m\u001b[0;34m\u001b[0m\u001b[0m\n\u001b[0m\u001b[1;32m    122\u001b[0m                 \u001b[0mcopyfileobj\u001b[0m\u001b[0;34m(\u001b[0m\u001b[0mfsrc\u001b[0m\u001b[0;34m,\u001b[0m \u001b[0mfdst\u001b[0m\u001b[0;34m)\u001b[0m\u001b[0;34m\u001b[0m\u001b[0;34m\u001b[0m\u001b[0m\n\u001b[1;32m    123\u001b[0m     \u001b[0;32mreturn\u001b[0m \u001b[0mdst\u001b[0m\u001b[0;34m\u001b[0m\u001b[0;34m\u001b[0m\u001b[0m\n",
            "\u001b[0;31mFileNotFoundError\u001b[0m: [Errno 2] No such file or directory: '/content/drive/My Drive/gravcont_crossvalidation/0/train/cont'"
          ]
        }
      ]
    },
    {
      "cell_type": "code",
      "metadata": {
        "id": "W8bPuKs-A31i",
        "colab_type": "code",
        "colab": {}
      },
      "source": [
        "orig_path = \"/content/drive/My Drive/gravcont\"\n",
        "dst_path = \"/content/drive/My Drive/gravcont_crossvalidation\"  # フォルダ名\n",
        "split_num = 10  #データをいくつに分割するかを記載\n",
        "\n",
        "data_list, split_length = get_path(orig_path, dst_path, split_num)\n",
        "\n"
      ],
      "execution_count": null,
      "outputs": []
    },
    {
      "cell_type": "markdown",
      "metadata": {
        "id": "z8_V2bmIYI3z",
        "colab_type": "text"
      },
      "source": [
        "#**作ったフォルダを削除したいとき**"
      ]
    },
    {
      "cell_type": "code",
      "metadata": {
        "id": "dxFqq4HdVKJm",
        "colab_type": "code",
        "colab": {}
      },
      "source": [
        "dst_path = \"/content/drive/My Drive/gravcont_crossvalidation\"\n",
        "directory = dst_path\n",
        "try:\n",
        "    shutil.rmtree(directory)\n",
        "except FileNotFoundError:\n",
        "    pass"
      ],
      "execution_count": null,
      "outputs": []
    }
  ]
}